{
 "cells": [
  {
   "cell_type": "markdown",
   "id": "38dd63ed-e907-448d-9823-35170af5b044",
   "metadata": {
    "id": "38dd63ed-e907-448d-9823-35170af5b044"
   },
   "source": [
    "# CS 640 - 2025 Fall - Homework 5\n",
    "\n",
    "In this homework, you will define a Markov decision process describing a cat moving on a 32 x 32 grid looking for a fish.\n",
    "This will extend last week's Markov reward process by giving the cat agency to seek out the fish."
   ]
  },
  {
   "cell_type": "markdown",
   "id": "637a0c24-418c-4c54-b118-81425eaf6c62",
   "metadata": {
    "id": "637a0c24-418c-4c54-b118-81425eaf6c62"
   },
   "source": [
    "## Instructions\n",
    "\n",
    "1. Follow the instructions below to construct and analyze the Markov decision process.\n",
    "2. Run all the cells so that all the check cells are updated.\n",
    "3. Answer the question at the bottom.\n",
    "4. Submit your notebook in Gradescope.\n"
   ]
  },
  {
   "cell_type": "code",
   "id": "2fbd426f-1109-4673-808f-db0c556fadbf",
   "metadata": {
    "id": "2fbd426f-1109-4673-808f-db0c556fadbf",
    "ExecuteTime": {
     "end_time": "2025-10-13T22:44:39.391769Z",
     "start_time": "2025-10-13T22:44:37.860013Z"
    }
   },
   "source": [
    "from xml.etree.ElementTree import QName\n",
    "\n",
    "import matplotlib.pyplot as plt\n",
    "import numpy as np\n",
    "import torch"
   ],
   "outputs": [],
   "execution_count": 1
  },
  {
   "cell_type": "markdown",
   "id": "eded7a72-6bf9-4886-8d47-4c5f4174ff8a",
   "metadata": {
    "id": "eded7a72-6bf9-4886-8d47-4c5f4174ff8a"
   },
   "source": [
    "## State Descriptions\n",
    "\n",
    "You will construct a Markov decision problem based on the following specification (same as homework 4).\n",
    "1. The states are numbered from 0 to 1024 (inclusive).\n",
    "2. The state 1024 is a special done state.\n",
    "3. For state s from 0 to 1023, the state number encodes coordinates as follows.\n",
    "  * x = s % 32\n",
    "  * y = s / 32 (integer division)\n",
    "  * x and y represent the location of a cat in a 32x32 grid.\n",
    "4. At the state corresponding to x=16,y=16, there is a fish unless the cat is also there.\n",
    "\n",
    "The following function `print_state` will visualize the state."
   ]
  },
  {
   "cell_type": "code",
   "id": "349edcee-6108-4613-b0ef-ac588132ddd6",
   "metadata": {
    "id": "349edcee-6108-4613-b0ef-ac588132ddd6",
    "ExecuteTime": {
     "end_time": "2025-10-13T22:44:41.322420Z",
     "start_time": "2025-10-13T22:44:41.317737Z"
    }
   },
   "source": [
    "def print_state(s):\n",
    "    assert 0 <= s <= 1024\n",
    "\n",
    "    print(\"STATE\", s)\n",
    "\n",
    "    if s < 1024:\n",
    "        # normal state indicating y, x coordinates\n",
    "        output = ['🪨' for _ in range(1024)]\n",
    "        output[16*32+16] = '🐟'\n",
    "        output[s] = '🐱'\n",
    "        for i in range(0, 1024, 32):\n",
    "            print(''.join(output[i:i+32]))\n",
    "    else:\n",
    "        print(\"DONE\")\n",
    "\n",
    "    print(\"\")\n",
    "\n",
    "for s in (0, 2 * 32 + 5, 16*32+16, 1023, 1024):\n",
    "    print_state(s)"
   ],
   "outputs": [
    {
     "name": "stdout",
     "output_type": "stream",
     "text": [
      "STATE 0\n",
      "🐱🪨🪨🪨🪨🪨🪨🪨🪨🪨🪨🪨🪨🪨🪨🪨🪨🪨🪨🪨🪨🪨🪨🪨🪨🪨🪨🪨🪨🪨🪨🪨\n",
      "🪨🪨🪨🪨🪨🪨🪨🪨🪨🪨🪨🪨🪨🪨🪨🪨🪨🪨🪨🪨🪨🪨🪨🪨🪨🪨🪨🪨🪨🪨🪨🪨\n",
      "🪨🪨🪨🪨🪨🪨🪨🪨🪨🪨🪨🪨🪨🪨🪨🪨🪨🪨🪨🪨🪨🪨🪨🪨🪨🪨🪨🪨🪨🪨🪨🪨\n",
      "🪨🪨🪨🪨🪨🪨🪨🪨🪨🪨🪨🪨🪨🪨🪨🪨🪨🪨🪨🪨🪨🪨🪨🪨🪨🪨🪨🪨🪨🪨🪨🪨\n",
      "🪨🪨🪨🪨🪨🪨🪨🪨🪨🪨🪨🪨🪨🪨🪨🪨🪨🪨🪨🪨🪨🪨🪨🪨🪨🪨🪨🪨🪨🪨🪨🪨\n",
      "🪨🪨🪨🪨🪨🪨🪨🪨🪨🪨🪨🪨🪨🪨🪨🪨🪨🪨🪨🪨🪨🪨🪨🪨🪨🪨🪨🪨🪨🪨🪨🪨\n",
      "🪨🪨🪨🪨🪨🪨🪨🪨🪨🪨🪨🪨🪨🪨🪨🪨🪨🪨🪨🪨🪨🪨🪨🪨🪨🪨🪨🪨🪨🪨🪨🪨\n",
      "🪨🪨🪨🪨🪨🪨🪨🪨🪨🪨🪨🪨🪨🪨🪨🪨🪨🪨🪨🪨🪨🪨🪨🪨🪨🪨🪨🪨🪨🪨🪨🪨\n",
      "🪨🪨🪨🪨🪨🪨🪨🪨🪨🪨🪨🪨🪨🪨🪨🪨🪨🪨🪨🪨🪨🪨🪨🪨🪨🪨🪨🪨🪨🪨🪨🪨\n",
      "🪨🪨🪨🪨🪨🪨🪨🪨🪨🪨🪨🪨🪨🪨🪨🪨🪨🪨🪨🪨🪨🪨🪨🪨🪨🪨🪨🪨🪨🪨🪨🪨\n",
      "🪨🪨🪨🪨🪨🪨🪨🪨🪨🪨🪨🪨🪨🪨🪨🪨🪨🪨🪨🪨🪨🪨🪨🪨🪨🪨🪨🪨🪨🪨🪨🪨\n",
      "🪨🪨🪨🪨🪨🪨🪨🪨🪨🪨🪨🪨🪨🪨🪨🪨🪨🪨🪨🪨🪨🪨🪨🪨🪨🪨🪨🪨🪨🪨🪨🪨\n",
      "🪨🪨🪨🪨🪨🪨🪨🪨🪨🪨🪨🪨🪨🪨🪨🪨🪨🪨🪨🪨🪨🪨🪨🪨🪨🪨🪨🪨🪨🪨🪨🪨\n",
      "🪨🪨🪨🪨🪨🪨🪨🪨🪨🪨🪨🪨🪨🪨🪨🪨🪨🪨🪨🪨🪨🪨🪨🪨🪨🪨🪨🪨🪨🪨🪨🪨\n",
      "🪨🪨🪨🪨🪨🪨🪨🪨🪨🪨🪨🪨🪨🪨🪨🪨🪨🪨🪨🪨🪨🪨🪨🪨🪨🪨🪨🪨🪨🪨🪨🪨\n",
      "🪨🪨🪨🪨🪨🪨🪨🪨🪨🪨🪨🪨🪨🪨🪨🪨🪨🪨🪨🪨🪨🪨🪨🪨🪨🪨🪨🪨🪨🪨🪨🪨\n",
      "🪨🪨🪨🪨🪨🪨🪨🪨🪨🪨🪨🪨🪨🪨🪨🪨🐟🪨🪨🪨🪨🪨🪨🪨🪨🪨🪨🪨🪨🪨🪨🪨\n",
      "🪨🪨🪨🪨🪨🪨🪨🪨🪨🪨🪨🪨🪨🪨🪨🪨🪨🪨🪨🪨🪨🪨🪨🪨🪨🪨🪨🪨🪨🪨🪨🪨\n",
      "🪨🪨🪨🪨🪨🪨🪨🪨🪨🪨🪨🪨🪨🪨🪨🪨🪨🪨🪨🪨🪨🪨🪨🪨🪨🪨🪨🪨🪨🪨🪨🪨\n",
      "🪨🪨🪨🪨🪨🪨🪨🪨🪨🪨🪨🪨🪨🪨🪨🪨🪨🪨🪨🪨🪨🪨🪨🪨🪨🪨🪨🪨🪨🪨🪨🪨\n",
      "🪨🪨🪨🪨🪨🪨🪨🪨🪨🪨🪨🪨🪨🪨🪨🪨🪨🪨🪨🪨🪨🪨🪨🪨🪨🪨🪨🪨🪨🪨🪨🪨\n",
      "🪨🪨🪨🪨🪨🪨🪨🪨🪨🪨🪨🪨🪨🪨🪨🪨🪨🪨🪨🪨🪨🪨🪨🪨🪨🪨🪨🪨🪨🪨🪨🪨\n",
      "🪨🪨🪨🪨🪨🪨🪨🪨🪨🪨🪨🪨🪨🪨🪨🪨🪨🪨🪨🪨🪨🪨🪨🪨🪨🪨🪨🪨🪨🪨🪨🪨\n",
      "🪨🪨🪨🪨🪨🪨🪨🪨🪨🪨🪨🪨🪨🪨🪨🪨🪨🪨🪨🪨🪨🪨🪨🪨🪨🪨🪨🪨🪨🪨🪨🪨\n",
      "🪨🪨🪨🪨🪨🪨🪨🪨🪨🪨🪨🪨🪨🪨🪨🪨🪨🪨🪨🪨🪨🪨🪨🪨🪨🪨🪨🪨🪨🪨🪨🪨\n",
      "🪨🪨🪨🪨🪨🪨🪨🪨🪨🪨🪨🪨🪨🪨🪨🪨🪨🪨🪨🪨🪨🪨🪨🪨🪨🪨🪨🪨🪨🪨🪨🪨\n",
      "🪨🪨🪨🪨🪨🪨🪨🪨🪨🪨🪨🪨🪨🪨🪨🪨🪨🪨🪨🪨🪨🪨🪨🪨🪨🪨🪨🪨🪨🪨🪨🪨\n",
      "🪨🪨🪨🪨🪨🪨🪨🪨🪨🪨🪨🪨🪨🪨🪨🪨🪨🪨🪨🪨🪨🪨🪨🪨🪨🪨🪨🪨🪨🪨🪨🪨\n",
      "🪨🪨🪨🪨🪨🪨🪨🪨🪨🪨🪨🪨🪨🪨🪨🪨🪨🪨🪨🪨🪨🪨🪨🪨🪨🪨🪨🪨🪨🪨🪨🪨\n",
      "🪨🪨🪨🪨🪨🪨🪨🪨🪨🪨🪨🪨🪨🪨🪨🪨🪨🪨🪨🪨🪨🪨🪨🪨🪨🪨🪨🪨🪨🪨🪨🪨\n",
      "🪨🪨🪨🪨🪨🪨🪨🪨🪨🪨🪨🪨🪨🪨🪨🪨🪨🪨🪨🪨🪨🪨🪨🪨🪨🪨🪨🪨🪨🪨🪨🪨\n",
      "🪨🪨🪨🪨🪨🪨🪨🪨🪨🪨🪨🪨🪨🪨🪨🪨🪨🪨🪨🪨🪨🪨🪨🪨🪨🪨🪨🪨🪨🪨🪨🪨\n",
      "\n",
      "STATE 69\n",
      "🪨🪨🪨🪨🪨🪨🪨🪨🪨🪨🪨🪨🪨🪨🪨🪨🪨🪨🪨🪨🪨🪨🪨🪨🪨🪨🪨🪨🪨🪨🪨🪨\n",
      "🪨🪨🪨🪨🪨🪨🪨🪨🪨🪨🪨🪨🪨🪨🪨🪨🪨🪨🪨🪨🪨🪨🪨🪨🪨🪨🪨🪨🪨🪨🪨🪨\n",
      "🪨🪨🪨🪨🪨🐱🪨🪨🪨🪨🪨🪨🪨🪨🪨🪨🪨🪨🪨🪨🪨🪨🪨🪨🪨🪨🪨🪨🪨🪨🪨🪨\n",
      "🪨🪨🪨🪨🪨🪨🪨🪨🪨🪨🪨🪨🪨🪨🪨🪨🪨🪨🪨🪨🪨🪨🪨🪨🪨🪨🪨🪨🪨🪨🪨🪨\n",
      "🪨🪨🪨🪨🪨🪨🪨🪨🪨🪨🪨🪨🪨🪨🪨🪨🪨🪨🪨🪨🪨🪨🪨🪨🪨🪨🪨🪨🪨🪨🪨🪨\n",
      "🪨🪨🪨🪨🪨🪨🪨🪨🪨🪨🪨🪨🪨🪨🪨🪨🪨🪨🪨🪨🪨🪨🪨🪨🪨🪨🪨🪨🪨🪨🪨🪨\n",
      "🪨🪨🪨🪨🪨🪨🪨🪨🪨🪨🪨🪨🪨🪨🪨🪨🪨🪨🪨🪨🪨🪨🪨🪨🪨🪨🪨🪨🪨🪨🪨🪨\n",
      "🪨🪨🪨🪨🪨🪨🪨🪨🪨🪨🪨🪨🪨🪨🪨🪨🪨🪨🪨🪨🪨🪨🪨🪨🪨🪨🪨🪨🪨🪨🪨🪨\n",
      "🪨🪨🪨🪨🪨🪨🪨🪨🪨🪨🪨🪨🪨🪨🪨🪨🪨🪨🪨🪨🪨🪨🪨🪨🪨🪨🪨🪨🪨🪨🪨🪨\n",
      "🪨🪨🪨🪨🪨🪨🪨🪨🪨🪨🪨🪨🪨🪨🪨🪨🪨🪨🪨🪨🪨🪨🪨🪨🪨🪨🪨🪨🪨🪨🪨🪨\n",
      "🪨🪨🪨🪨🪨🪨🪨🪨🪨🪨🪨🪨🪨🪨🪨🪨🪨🪨🪨🪨🪨🪨🪨🪨🪨🪨🪨🪨🪨🪨🪨🪨\n",
      "🪨🪨🪨🪨🪨🪨🪨🪨🪨🪨🪨🪨🪨🪨🪨🪨🪨🪨🪨🪨🪨🪨🪨🪨🪨🪨🪨🪨🪨🪨🪨🪨\n",
      "🪨🪨🪨🪨🪨🪨🪨🪨🪨🪨🪨🪨🪨🪨🪨🪨🪨🪨🪨🪨🪨🪨🪨🪨🪨🪨🪨🪨🪨🪨🪨🪨\n",
      "🪨🪨🪨🪨🪨🪨🪨🪨🪨🪨🪨🪨🪨🪨🪨🪨🪨🪨🪨🪨🪨🪨🪨🪨🪨🪨🪨🪨🪨🪨🪨🪨\n",
      "🪨🪨🪨🪨🪨🪨🪨🪨🪨🪨🪨🪨🪨🪨🪨🪨🪨🪨🪨🪨🪨🪨🪨🪨🪨🪨🪨🪨🪨🪨🪨🪨\n",
      "🪨🪨🪨🪨🪨🪨🪨🪨🪨🪨🪨🪨🪨🪨🪨🪨🪨🪨🪨🪨🪨🪨🪨🪨🪨🪨🪨🪨🪨🪨🪨🪨\n",
      "🪨🪨🪨🪨🪨🪨🪨🪨🪨🪨🪨🪨🪨🪨🪨🪨🐟🪨🪨🪨🪨🪨🪨🪨🪨🪨🪨🪨🪨🪨🪨🪨\n",
      "🪨🪨🪨🪨🪨🪨🪨🪨🪨🪨🪨🪨🪨🪨🪨🪨🪨🪨🪨🪨🪨🪨🪨🪨🪨🪨🪨🪨🪨🪨🪨🪨\n",
      "🪨🪨🪨🪨🪨🪨🪨🪨🪨🪨🪨🪨🪨🪨🪨🪨🪨🪨🪨🪨🪨🪨🪨🪨🪨🪨🪨🪨🪨🪨🪨🪨\n",
      "🪨🪨🪨🪨🪨🪨🪨🪨🪨🪨🪨🪨🪨🪨🪨🪨🪨🪨🪨🪨🪨🪨🪨🪨🪨🪨🪨🪨🪨🪨🪨🪨\n",
      "🪨🪨🪨🪨🪨🪨🪨🪨🪨🪨🪨🪨🪨🪨🪨🪨🪨🪨🪨🪨🪨🪨🪨🪨🪨🪨🪨🪨🪨🪨🪨🪨\n",
      "🪨🪨🪨🪨🪨🪨🪨🪨🪨🪨🪨🪨🪨🪨🪨🪨🪨🪨🪨🪨🪨🪨🪨🪨🪨🪨🪨🪨🪨🪨🪨🪨\n",
      "🪨🪨🪨🪨🪨🪨🪨🪨🪨🪨🪨🪨🪨🪨🪨🪨🪨🪨🪨🪨🪨🪨🪨🪨🪨🪨🪨🪨🪨🪨🪨🪨\n",
      "🪨🪨🪨🪨🪨🪨🪨🪨🪨🪨🪨🪨🪨🪨🪨🪨🪨🪨🪨🪨🪨🪨🪨🪨🪨🪨🪨🪨🪨🪨🪨🪨\n",
      "🪨🪨🪨🪨🪨🪨🪨🪨🪨🪨🪨🪨🪨🪨🪨🪨🪨🪨🪨🪨🪨🪨🪨🪨🪨🪨🪨🪨🪨🪨🪨🪨\n",
      "🪨🪨🪨🪨🪨🪨🪨🪨🪨🪨🪨🪨🪨🪨🪨🪨🪨🪨🪨🪨🪨🪨🪨🪨🪨🪨🪨🪨🪨🪨🪨🪨\n",
      "🪨🪨🪨🪨🪨🪨🪨🪨🪨🪨🪨🪨🪨🪨🪨🪨🪨🪨🪨🪨🪨🪨🪨🪨🪨🪨🪨🪨🪨🪨🪨🪨\n",
      "🪨🪨🪨🪨🪨🪨🪨🪨🪨🪨🪨🪨🪨🪨🪨🪨🪨🪨🪨🪨🪨🪨🪨🪨🪨🪨🪨🪨🪨🪨🪨🪨\n",
      "🪨🪨🪨🪨🪨🪨🪨🪨🪨🪨🪨🪨🪨🪨🪨🪨🪨🪨🪨🪨🪨🪨🪨🪨🪨🪨🪨🪨🪨🪨🪨🪨\n",
      "🪨🪨🪨🪨🪨🪨🪨🪨🪨🪨🪨🪨🪨🪨🪨🪨🪨🪨🪨🪨🪨🪨🪨🪨🪨🪨🪨🪨🪨🪨🪨🪨\n",
      "🪨🪨🪨🪨🪨🪨🪨🪨🪨🪨🪨🪨🪨🪨🪨🪨🪨🪨🪨🪨🪨🪨🪨🪨🪨🪨🪨🪨🪨🪨🪨🪨\n",
      "🪨🪨🪨🪨🪨🪨🪨🪨🪨🪨🪨🪨🪨🪨🪨🪨🪨🪨🪨🪨🪨🪨🪨🪨🪨🪨🪨🪨🪨🪨🪨🪨\n",
      "\n",
      "STATE 528\n",
      "🪨🪨🪨🪨🪨🪨🪨🪨🪨🪨🪨🪨🪨🪨🪨🪨🪨🪨🪨🪨🪨🪨🪨🪨🪨🪨🪨🪨🪨🪨🪨🪨\n",
      "🪨🪨🪨🪨🪨🪨🪨🪨🪨🪨🪨🪨🪨🪨🪨🪨🪨🪨🪨🪨🪨🪨🪨🪨🪨🪨🪨🪨🪨🪨🪨🪨\n",
      "🪨🪨🪨🪨🪨🪨🪨🪨🪨🪨🪨🪨🪨🪨🪨🪨🪨🪨🪨🪨🪨🪨🪨🪨🪨🪨🪨🪨🪨🪨🪨🪨\n",
      "🪨🪨🪨🪨🪨🪨🪨🪨🪨🪨🪨🪨🪨🪨🪨🪨🪨🪨🪨🪨🪨🪨🪨🪨🪨🪨🪨🪨🪨🪨🪨🪨\n",
      "🪨🪨🪨🪨🪨🪨🪨🪨🪨🪨🪨🪨🪨🪨🪨🪨🪨🪨🪨🪨🪨🪨🪨🪨🪨🪨🪨🪨🪨🪨🪨🪨\n",
      "🪨🪨🪨🪨🪨🪨🪨🪨🪨🪨🪨🪨🪨🪨🪨🪨🪨🪨🪨🪨🪨🪨🪨🪨🪨🪨🪨🪨🪨🪨🪨🪨\n",
      "🪨🪨🪨🪨🪨🪨🪨🪨🪨🪨🪨🪨🪨🪨🪨🪨🪨🪨🪨🪨🪨🪨🪨🪨🪨🪨🪨🪨🪨🪨🪨🪨\n",
      "🪨🪨🪨🪨🪨🪨🪨🪨🪨🪨🪨🪨🪨🪨🪨🪨🪨🪨🪨🪨🪨🪨🪨🪨🪨🪨🪨🪨🪨🪨🪨🪨\n",
      "🪨🪨🪨🪨🪨🪨🪨🪨🪨🪨🪨🪨🪨🪨🪨🪨🪨🪨🪨🪨🪨🪨🪨🪨🪨🪨🪨🪨🪨🪨🪨🪨\n",
      "🪨🪨🪨🪨🪨🪨🪨🪨🪨🪨🪨🪨🪨🪨🪨🪨🪨🪨🪨🪨🪨🪨🪨🪨🪨🪨🪨🪨🪨🪨🪨🪨\n",
      "🪨🪨🪨🪨🪨🪨🪨🪨🪨🪨🪨🪨🪨🪨🪨🪨🪨🪨🪨🪨🪨🪨🪨🪨🪨🪨🪨🪨🪨🪨🪨🪨\n",
      "🪨🪨🪨🪨🪨🪨🪨🪨🪨🪨🪨🪨🪨🪨🪨🪨🪨🪨🪨🪨🪨🪨🪨🪨🪨🪨🪨🪨🪨🪨🪨🪨\n",
      "🪨🪨🪨🪨🪨🪨🪨🪨🪨🪨🪨🪨🪨🪨🪨🪨🪨🪨🪨🪨🪨🪨🪨🪨🪨🪨🪨🪨🪨🪨🪨🪨\n",
      "🪨🪨🪨🪨🪨🪨🪨🪨🪨🪨🪨🪨🪨🪨🪨🪨🪨🪨🪨🪨🪨🪨🪨🪨🪨🪨🪨🪨🪨🪨🪨🪨\n",
      "🪨🪨🪨🪨🪨🪨🪨🪨🪨🪨🪨🪨🪨🪨🪨🪨🪨🪨🪨🪨🪨🪨🪨🪨🪨🪨🪨🪨🪨🪨🪨🪨\n",
      "🪨🪨🪨🪨🪨🪨🪨🪨🪨🪨🪨🪨🪨🪨🪨🪨🪨🪨🪨🪨🪨🪨🪨🪨🪨🪨🪨🪨🪨🪨🪨🪨\n",
      "🪨🪨🪨🪨🪨🪨🪨🪨🪨🪨🪨🪨🪨🪨🪨🪨🐱🪨🪨🪨🪨🪨🪨🪨🪨🪨🪨🪨🪨🪨🪨🪨\n",
      "🪨🪨🪨🪨🪨🪨🪨🪨🪨🪨🪨🪨🪨🪨🪨🪨🪨🪨🪨🪨🪨🪨🪨🪨🪨🪨🪨🪨🪨🪨🪨🪨\n",
      "🪨🪨🪨🪨🪨🪨🪨🪨🪨🪨🪨🪨🪨🪨🪨🪨🪨🪨🪨🪨🪨🪨🪨🪨🪨🪨🪨🪨🪨🪨🪨🪨\n",
      "🪨🪨🪨🪨🪨🪨🪨🪨🪨🪨🪨🪨🪨🪨🪨🪨🪨🪨🪨🪨🪨🪨🪨🪨🪨🪨🪨🪨🪨🪨🪨🪨\n",
      "🪨🪨🪨🪨🪨🪨🪨🪨🪨🪨🪨🪨🪨🪨🪨🪨🪨🪨🪨🪨🪨🪨🪨🪨🪨🪨🪨🪨🪨🪨🪨🪨\n",
      "🪨🪨🪨🪨🪨🪨🪨🪨🪨🪨🪨🪨🪨🪨🪨🪨🪨🪨🪨🪨🪨🪨🪨🪨🪨🪨🪨🪨🪨🪨🪨🪨\n",
      "🪨🪨🪨🪨🪨🪨🪨🪨🪨🪨🪨🪨🪨🪨🪨🪨🪨🪨🪨🪨🪨🪨🪨🪨🪨🪨🪨🪨🪨🪨🪨🪨\n",
      "🪨🪨🪨🪨🪨🪨🪨🪨🪨🪨🪨🪨🪨🪨🪨🪨🪨🪨🪨🪨🪨🪨🪨🪨🪨🪨🪨🪨🪨🪨🪨🪨\n",
      "🪨🪨🪨🪨🪨🪨🪨🪨🪨🪨🪨🪨🪨🪨🪨🪨🪨🪨🪨🪨🪨🪨🪨🪨🪨🪨🪨🪨🪨🪨🪨🪨\n",
      "🪨🪨🪨🪨🪨🪨🪨🪨🪨🪨🪨🪨🪨🪨🪨🪨🪨🪨🪨🪨🪨🪨🪨🪨🪨🪨🪨🪨🪨🪨🪨🪨\n",
      "🪨🪨🪨🪨🪨🪨🪨🪨🪨🪨🪨🪨🪨🪨🪨🪨🪨🪨🪨🪨🪨🪨🪨🪨🪨🪨🪨🪨🪨🪨🪨🪨\n",
      "🪨🪨🪨🪨🪨🪨🪨🪨🪨🪨🪨🪨🪨🪨🪨🪨🪨🪨🪨🪨🪨🪨🪨🪨🪨🪨🪨🪨🪨🪨🪨🪨\n",
      "🪨🪨🪨🪨🪨🪨🪨🪨🪨🪨🪨🪨🪨🪨🪨🪨🪨🪨🪨🪨🪨🪨🪨🪨🪨🪨🪨🪨🪨🪨🪨🪨\n",
      "🪨🪨🪨🪨🪨🪨🪨🪨🪨🪨🪨🪨🪨🪨🪨🪨🪨🪨🪨🪨🪨🪨🪨🪨🪨🪨🪨🪨🪨🪨🪨🪨\n",
      "🪨🪨🪨🪨🪨🪨🪨🪨🪨🪨🪨🪨🪨🪨🪨🪨🪨🪨🪨🪨🪨🪨🪨🪨🪨🪨🪨🪨🪨🪨🪨🪨\n",
      "🪨🪨🪨🪨🪨🪨🪨🪨🪨🪨🪨🪨🪨🪨🪨🪨🪨🪨🪨🪨🪨🪨🪨🪨🪨🪨🪨🪨🪨🪨🪨🪨\n",
      "\n",
      "STATE 1023\n",
      "🪨🪨🪨🪨🪨🪨🪨🪨🪨🪨🪨🪨🪨🪨🪨🪨🪨🪨🪨🪨🪨🪨🪨🪨🪨🪨🪨🪨🪨🪨🪨🪨\n",
      "🪨🪨🪨🪨🪨🪨🪨🪨🪨🪨🪨🪨🪨🪨🪨🪨🪨🪨🪨🪨🪨🪨🪨🪨🪨🪨🪨🪨🪨🪨🪨🪨\n",
      "🪨🪨🪨🪨🪨🪨🪨🪨🪨🪨🪨🪨🪨🪨🪨🪨🪨🪨🪨🪨🪨🪨🪨🪨🪨🪨🪨🪨🪨🪨🪨🪨\n",
      "🪨🪨🪨🪨🪨🪨🪨🪨🪨🪨🪨🪨🪨🪨🪨🪨🪨🪨🪨🪨🪨🪨🪨🪨🪨🪨🪨🪨🪨🪨🪨🪨\n",
      "🪨🪨🪨🪨🪨🪨🪨🪨🪨🪨🪨🪨🪨🪨🪨🪨🪨🪨🪨🪨🪨🪨🪨🪨🪨🪨🪨🪨🪨🪨🪨🪨\n",
      "🪨🪨🪨🪨🪨🪨🪨🪨🪨🪨🪨🪨🪨🪨🪨🪨🪨🪨🪨🪨🪨🪨🪨🪨🪨🪨🪨🪨🪨🪨🪨🪨\n",
      "🪨🪨🪨🪨🪨🪨🪨🪨🪨🪨🪨🪨🪨🪨🪨🪨🪨🪨🪨🪨🪨🪨🪨🪨🪨🪨🪨🪨🪨🪨🪨🪨\n",
      "🪨🪨🪨🪨🪨🪨🪨🪨🪨🪨🪨🪨🪨🪨🪨🪨🪨🪨🪨🪨🪨🪨🪨🪨🪨🪨🪨🪨🪨🪨🪨🪨\n",
      "🪨🪨🪨🪨🪨🪨🪨🪨🪨🪨🪨🪨🪨🪨🪨🪨🪨🪨🪨🪨🪨🪨🪨🪨🪨🪨🪨🪨🪨🪨🪨🪨\n",
      "🪨🪨🪨🪨🪨🪨🪨🪨🪨🪨🪨🪨🪨🪨🪨🪨🪨🪨🪨🪨🪨🪨🪨🪨🪨🪨🪨🪨🪨🪨🪨🪨\n",
      "🪨🪨🪨🪨🪨🪨🪨🪨🪨🪨🪨🪨🪨🪨🪨🪨🪨🪨🪨🪨🪨🪨🪨🪨🪨🪨🪨🪨🪨🪨🪨🪨\n",
      "🪨🪨🪨🪨🪨🪨🪨🪨🪨🪨🪨🪨🪨🪨🪨🪨🪨🪨🪨🪨🪨🪨🪨🪨🪨🪨🪨🪨🪨🪨🪨🪨\n",
      "🪨🪨🪨🪨🪨🪨🪨🪨🪨🪨🪨🪨🪨🪨🪨🪨🪨🪨🪨🪨🪨🪨🪨🪨🪨🪨🪨🪨🪨🪨🪨🪨\n",
      "🪨🪨🪨🪨🪨🪨🪨🪨🪨🪨🪨🪨🪨🪨🪨🪨🪨🪨🪨🪨🪨🪨🪨🪨🪨🪨🪨🪨🪨🪨🪨🪨\n",
      "🪨🪨🪨🪨🪨🪨🪨🪨🪨🪨🪨🪨🪨🪨🪨🪨🪨🪨🪨🪨🪨🪨🪨🪨🪨🪨🪨🪨🪨🪨🪨🪨\n",
      "🪨🪨🪨🪨🪨🪨🪨🪨🪨🪨🪨🪨🪨🪨🪨🪨🪨🪨🪨🪨🪨🪨🪨🪨🪨🪨🪨🪨🪨🪨🪨🪨\n",
      "🪨🪨🪨🪨🪨🪨🪨🪨🪨🪨🪨🪨🪨🪨🪨🪨🐟🪨🪨🪨🪨🪨🪨🪨🪨🪨🪨🪨🪨🪨🪨🪨\n",
      "🪨🪨🪨🪨🪨🪨🪨🪨🪨🪨🪨🪨🪨🪨🪨🪨🪨🪨🪨🪨🪨🪨🪨🪨🪨🪨🪨🪨🪨🪨🪨🪨\n",
      "🪨🪨🪨🪨🪨🪨🪨🪨🪨🪨🪨🪨🪨🪨🪨🪨🪨🪨🪨🪨🪨🪨🪨🪨🪨🪨🪨🪨🪨🪨🪨🪨\n",
      "🪨🪨🪨🪨🪨🪨🪨🪨🪨🪨🪨🪨🪨🪨🪨🪨🪨🪨🪨🪨🪨🪨🪨🪨🪨🪨🪨🪨🪨🪨🪨🪨\n",
      "🪨🪨🪨🪨🪨🪨🪨🪨🪨🪨🪨🪨🪨🪨🪨🪨🪨🪨🪨🪨🪨🪨🪨🪨🪨🪨🪨🪨🪨🪨🪨🪨\n",
      "🪨🪨🪨🪨🪨🪨🪨🪨🪨🪨🪨🪨🪨🪨🪨🪨🪨🪨🪨🪨🪨🪨🪨🪨🪨🪨🪨🪨🪨🪨🪨🪨\n",
      "🪨🪨🪨🪨🪨🪨🪨🪨🪨🪨🪨🪨🪨🪨🪨🪨🪨🪨🪨🪨🪨🪨🪨🪨🪨🪨🪨🪨🪨🪨🪨🪨\n",
      "🪨🪨🪨🪨🪨🪨🪨🪨🪨🪨🪨🪨🪨🪨🪨🪨🪨🪨🪨🪨🪨🪨🪨🪨🪨🪨🪨🪨🪨🪨🪨🪨\n",
      "🪨🪨🪨🪨🪨🪨🪨🪨🪨🪨🪨🪨🪨🪨🪨🪨🪨🪨🪨🪨🪨🪨🪨🪨🪨🪨🪨🪨🪨🪨🪨🪨\n",
      "🪨🪨🪨🪨🪨🪨🪨🪨🪨🪨🪨🪨🪨🪨🪨🪨🪨🪨🪨🪨🪨🪨🪨🪨🪨🪨🪨🪨🪨🪨🪨🪨\n",
      "🪨🪨🪨🪨🪨🪨🪨🪨🪨🪨🪨🪨🪨🪨🪨🪨🪨🪨🪨🪨🪨🪨🪨🪨🪨🪨🪨🪨🪨🪨🪨🪨\n",
      "🪨🪨🪨🪨🪨🪨🪨🪨🪨🪨🪨🪨🪨🪨🪨🪨🪨🪨🪨🪨🪨🪨🪨🪨🪨🪨🪨🪨🪨🪨🪨🪨\n",
      "🪨🪨🪨🪨🪨🪨🪨🪨🪨🪨🪨🪨🪨🪨🪨🪨🪨🪨🪨🪨🪨🪨🪨🪨🪨🪨🪨🪨🪨🪨🪨🪨\n",
      "🪨🪨🪨🪨🪨🪨🪨🪨🪨🪨🪨🪨🪨🪨🪨🪨🪨🪨🪨🪨🪨🪨🪨🪨🪨🪨🪨🪨🪨🪨🪨🪨\n",
      "🪨🪨🪨🪨🪨🪨🪨🪨🪨🪨🪨🪨🪨🪨🪨🪨🪨🪨🪨🪨🪨🪨🪨🪨🪨🪨🪨🪨🪨🪨🪨🪨\n",
      "🪨🪨🪨🪨🪨🪨🪨🪨🪨🪨🪨🪨🪨🪨🪨🪨🪨🪨🪨🪨🪨🪨🪨🪨🪨🪨🪨🪨🪨🪨🪨🐱\n",
      "\n",
      "STATE 1024\n",
      "DONE\n",
      "\n"
     ]
    }
   ],
   "execution_count": 2
  },
  {
   "cell_type": "markdown",
   "id": "66Dp_VsNlkYH",
   "metadata": {
    "id": "66Dp_VsNlkYH"
   },
   "source": [
    "## Actions\n",
    "\n",
    "In any state, the cat will have 4 possible actions.\n",
    "1. Up. The cat tries to change its $y$ coordinate by -1.\n",
    "2. Down. The cat tries to change its $y$ coordinate by +1.\n",
    "3. Left. The cat tries to change its $x$ coordinate by -1.\n",
    "4. Right. The cat tries to change its $x$ coordinate by +1.\n",
    "\n",
    "If the up/down descriptions do not make sense, consider that the first row when printing corresponds to $y=0$ and the last row printed corresponds to $y=31$."
   ]
  },
  {
   "cell_type": "markdown",
   "id": "521853b7-9d62-4cef-b0e9-fc6385cee5ed",
   "metadata": {
    "id": "521853b7-9d62-4cef-b0e9-fc6385cee5ed"
   },
   "source": [
    "## State Transitions\n",
    "\n",
    "For each action $a$, construct a transition matrix $P_a$ based on the following rules.\n",
    "\n",
    "1. $P_a$ should be 1025x1025.\n",
    "2. $P_a[i,j]$ should hold the probability of transitioning from state i to j in one step.\n",
    "3. If the state is 1024 (the done state), the state stays the same with probability 1.\n",
    "4. If the state is 528 (cat is on the fish), the state changes to 1024 with probability 1.\n",
    "5. If the action $a$ corresponds to moving off the grid, then the state stays the same with probability 1.\n",
    "6. Otherwise, for any other state $s$,\n",
    "    * For any state $s'$ representing locations that are adjacent horizontally or vertically besides the state that the cat intends to reach, there is a 5% of transitioning from $s$ to $s'$.\n",
    "    * The state to which the cat intends to move has the remaining probability (this should be 0.85, 0.90 or 0.95).\n",
    "    * The probability of transitioning to a state representing a non-adjacent location is zero.\n"
   ]
  },
  {
   "cell_type": "code",
   "id": "6c1d8cea-cdac-4e5c-85a4-3b44fe3a4db2",
   "metadata": {
    "id": "6c1d8cea-cdac-4e5c-85a4-3b44fe3a4db2",
    "ExecuteTime": {
     "end_time": "2025-10-13T22:44:46.664657Z",
     "start_time": "2025-10-13T22:44:46.645964Z"
    }
   },
   "source": [
    "# Construct transition matrices for each action\n",
    "grid_size = 32\n",
    "n_states = grid_size * grid_size + 1  # 1025 including done state\n",
    "# Define action deltas for moving the cat\n",
    "actions = {\n",
    "    \"up\": (-1, 0),\n",
    "    \"down\": (1, 0),\n",
    "    \"left\": (0, -1),\n",
    "    \"right\": (0, 1),\n",
    "}\n",
    "# Initialize a transition matrix for each action\n",
    "P = {}\n",
    "for a_name, (dy, dx) in actions.items():\n",
    "    P_a = np.zeros((n_states, n_states))\n",
    "    for s in range(n_states):\n",
    "        # The terminal 'done' state is absorbing\n",
    "        if s == n_states - 1:\n",
    "            P_a[s, s] = 1.0\n",
    "            continue\n",
    "        # If the cat is on the fish, transition to the done state\n",
    "        if s == 16 * grid_size + 16:\n",
    "            P_a[s, n_states - 1] = 1.0\n",
    "            continue\n",
    "        # Decode the current state's (y, x) coordinates\n",
    "        y, x = divmod(s, grid_size)\n",
    "        new_y, new_x = y + dy, x + dx\n",
    "        # If the intended move would take the cat off the grid, it stays put\n",
    "        if not (0 <= new_y < grid_size and 0 <= new_x < grid_size):\n",
    "            P_a[s, s] = 1.0\n",
    "            continue\n",
    "        # Determine the slip directions (all other adjacent moves)\n",
    "        slip_dirs = [(-1, 0), (1, 0), (0, -1), (0, 1)]\n",
    "        slip_dirs.remove((dy, dx))\n",
    "        # Collect valid slip neighbors and assign 5% probability to each\n",
    "        valid_slips = []\n",
    "        for sy, sx in slip_dirs:\n",
    "            ny, nx = y + sy, x + sx\n",
    "            if 0 <= ny < grid_size and 0 <= nx < grid_size:\n",
    "                valid_slips.append((ny, nx))\n",
    "        # Assign 0.05 probability to each valid slip\n",
    "        for ny, nx in valid_slips:\n",
    "            s_prime = ny * grid_size + nx\n",
    "            P_a[s, s_prime] += 0.05\n",
    "        # Assign the remaining probability to the intended next state\n",
    "        intended_state = new_y * grid_size + new_x\n",
    "        P_a[s, intended_state] += 1.0 - 0.05 * len(valid_slips)\n",
    "    # Save the transition matrix for this action\n",
    "    P[a_name] = P_a\n"
   ],
   "outputs": [],
   "execution_count": 3
  },
  {
   "cell_type": "markdown",
   "id": "fd39a16b-804f-4aa7-b5e3-df73440da5c4",
   "metadata": {
    "id": "fd39a16b-804f-4aa7-b5e3-df73440da5c4"
   },
   "source": [
    "## State Rewards\n",
    "\n",
    "Construct a reward vector R based on the following rules.\n",
    "The reward does not depend on the action.\n",
    "\n",
    "1. R should be 1025x1.\n",
    "2. R[i] should hold the reward after state i.\n",
    "3. The reward after state 528 (cat is on fish) is 100.\n",
    "4. The reward for all other states is 0."
   ]
  },
  {
   "cell_type": "code",
   "id": "8f883f4d-dd6d-4fac-a2da-734443e7aaf8",
   "metadata": {
    "id": "8f883f4d-dd6d-4fac-a2da-734443e7aaf8",
    "ExecuteTime": {
     "end_time": "2025-10-13T22:44:50.324656Z",
     "start_time": "2025-10-13T22:44:50.321724Z"
    }
   },
   "source": [
    "# Construct reward vector\n",
    "n_states = 32 * 32 + 1\n",
    "R = np.zeros(n_states)\n",
    "# Reward of 100 when the cat reaches the fish (state 528)\n",
    "R[16 * 32 + 16] = 100.0\n"
   ],
   "outputs": [],
   "execution_count": 4
  },
  {
   "cell_type": "markdown",
   "id": "28cbbadb-b617-45b2-9193-373c20bcc76e",
   "metadata": {
    "id": "28cbbadb-b617-45b2-9193-373c20bcc76e"
   },
   "source": [
    "## Optimal State Values\n",
    "\n",
    "Use **value iteration** to compute the value function $v_*$ for each state using $\\gamma=0.9$ and save it in $v$."
   ]
  },
  {
   "cell_type": "code",
   "id": "4bd520e0-2791-4153-9291-848248e6b833",
   "metadata": {
    "id": "4bd520e0-2791-4153-9291-848248e6b833",
    "ExecuteTime": {
     "end_time": "2025-10-13T22:44:53.522220Z",
     "start_time": "2025-10-13T22:44:52.824319Z"
    }
   },
   "source": [
    "# Use value iteration to compute the optimal state values v_*\n",
    "# Discount factor\n",
    "gamma = 0.9\n",
    "n_states = 32 * 32 + 1\n",
    "# Initialize value function to zeros\n",
    "v = np.zeros(n_states)\n",
    "# Convergence threshold\n",
    "threshold = 1e-8\n",
    "while True:\n",
    "    new_v = v.copy()\n",
    "    # Update all states except the done state\n",
    "    for s in range(n_states - 1):\n",
    "        # Compute expected return for each action and take the maximum\n",
    "        action_returns = []\n",
    "        for a_name in actions:\n",
    "            # Expected return for taking action a from state s\n",
    "            expected_return = np.dot(P[a_name][s], R + gamma * v)\n",
    "            action_returns.append(expected_return)\n",
    "        new_v[s] = max(action_returns)\n",
    "    # Explicitly set the value of the done state to zero\n",
    "    new_v[-1] = 0.0\n",
    "    # Check for convergence\n",
    "    if np.max(np.abs(new_v - v)) < threshold:\n",
    "        v = new_v\n",
    "        break\n",
    "    v = new_v\n",
    "# Convert v to a Python list for compatibility with later code\n",
    "v = v.tolist()\n"
   ],
   "outputs": [],
   "execution_count": 5
  },
  {
   "cell_type": "markdown",
   "id": "32ab1062-699c-4510-a779-ca77fcfbbdc2",
   "metadata": {
    "id": "32ab1062-699c-4510-a779-ca77fcfbbdc2"
   },
   "source": [
    "### Check $v_*$ values.\n",
    "\n",
    "Run these cells without changing their code."
   ]
  },
  {
   "cell_type": "code",
   "id": "ae1e3b43-44f1-47da-a299-5a14ee7ce84c",
   "metadata": {
    "id": "ae1e3b43-44f1-47da-a299-5a14ee7ce84c",
    "ExecuteTime": {
     "end_time": "2025-10-13T22:44:57.770817Z",
     "start_time": "2025-10-13T22:44:57.765910Z"
    }
   },
   "source": [
    "# done state\n",
    "v[1024]"
   ],
   "outputs": [
    {
     "data": {
      "text/plain": [
       "0.0"
      ]
     },
     "execution_count": 6,
     "metadata": {},
     "output_type": "execute_result"
    }
   ],
   "execution_count": 6
  },
  {
   "cell_type": "code",
   "id": "5f812386-714e-4986-9cc8-2963b05d8d72",
   "metadata": {
    "id": "5f812386-714e-4986-9cc8-2963b05d8d72",
    "ExecuteTime": {
     "end_time": "2025-10-13T22:44:59.455018Z",
     "start_time": "2025-10-13T22:44:59.452633Z"
    }
   },
   "source": [
    "# cat arrived at fish\n",
    "v[528]"
   ],
   "outputs": [
    {
     "data": {
      "text/plain": [
       "0.0"
      ]
     },
     "execution_count": 7,
     "metadata": {},
     "output_type": "execute_result"
    }
   ],
   "execution_count": 7
  },
  {
   "cell_type": "code",
   "id": "e485e356-143e-45a0-8d0d-2c4b5a6eaa33",
   "metadata": {
    "id": "e485e356-143e-45a0-8d0d-2c4b5a6eaa33",
    "ExecuteTime": {
     "end_time": "2025-10-13T22:45:00.859104Z",
     "start_time": "2025-10-13T22:45:00.855631Z"
    }
   },
   "source": [
    "# cat next to fish\n",
    "v[529]"
   ],
   "outputs": [
    {
     "data": {
      "text/plain": [
       "96.39895759218216"
      ]
     },
     "execution_count": 8,
     "metadata": {},
     "output_type": "execute_result"
    }
   ],
   "execution_count": 8
  },
  {
   "cell_type": "code",
   "id": "c14d3d71-fb46-48d9-9711-7de1ff37971d",
   "metadata": {
    "id": "c14d3d71-fb46-48d9-9711-7de1ff37971d",
    "ExecuteTime": {
     "end_time": "2025-10-13T22:45:02.650063Z",
     "start_time": "2025-10-13T22:45:02.646768Z"
    }
   },
   "source": [
    "# cat farther from fish\n",
    "v[530]"
   ],
   "outputs": [
    {
     "data": {
      "text/plain": [
       "83.72861722480366"
      ]
     },
     "execution_count": 9,
     "metadata": {},
     "output_type": "execute_result"
    }
   ],
   "execution_count": 9
  },
  {
   "cell_type": "markdown",
   "id": "0k5CknPMwKZt",
   "metadata": {
    "id": "0k5CknPMwKZt"
   },
   "source": [
    "## Visualize $v_*$.\n",
    "\n",
    "Run this cell without changing its code."
   ]
  },
  {
   "cell_type": "code",
   "id": "Z6YPDv5ywJpH",
   "metadata": {
    "id": "Z6YPDv5ywJpH",
    "ExecuteTime": {
     "end_time": "2025-10-13T22:45:17.048643Z",
     "start_time": "2025-10-13T22:45:16.530055Z"
    }
   },
   "source": [
    "plt.imshow(np.asarray(v)[:1024].reshape(32, 32));"
   ],
   "outputs": [
    {
     "data": {
      "text/plain": [
       "<Figure size 640x480 with 1 Axes>"
      ],
      "image/png": "[encoded data removed]"
     },
     "metadata": {},
     "output_type": "display_data"
    }
   ],
   "execution_count": 10
  },
  {
   "cell_type": "markdown",
   "id": "K-KmwoZGpJP9",
   "metadata": {
    "id": "K-KmwoZGpJP9"
   },
   "source": [
    "## Optimal State-Action Values\n",
    "\n",
    "Use **q-learning** to compute the state-action value function $q_*$ using $\\gamma$ and save it in `q`.\n",
    "`q` should be constructed so that `q[s][a]` returns the value $q_*(s,a)$ where $s$ is an integer from 0 to 1024 (inclusive) and $a$ is one of the strings \"up\", \"down\", \"left\" or \"right\"."
   ]
  },
  {
   "cell_type": "code",
   "id": "AqEaAh7np1Uo",
   "metadata": {
    "id": "AqEaAh7np1Uo",
    "ExecuteTime": {
     "end_time": "2025-10-13T22:45:36.507952Z",
     "start_time": "2025-10-13T22:45:36.494022Z"
    }
   },
   "source": [
    "# Compute the optimal state-action values q_* from the value function v\n",
    "# Discount factor\n",
    "gamma = 0.9\n",
    "# List of action names to maintain a consistent order\n",
    "actions_list = list(actions.keys())\n",
    "# Ensure v is a numpy array for dot products\n",
    "v_array = np.array(v)\n",
    "q = {}\n",
    "for s in range(n_states):\n",
    "    q[s] = {}\n",
    "    for a_name in actions_list:\n",
    "        # Expected return for taking action a in state s\n",
    "        q[s][a_name] = float(np.dot(P[a_name][s], R + gamma * v_array))\n"
   ],
   "outputs": [],
   "execution_count": 11
  },
  {
   "metadata": {
    "ExecuteTime": {
     "end_time": "2025-10-13T23:18:30.279425Z",
     "start_time": "2025-10-13T23:16:31.021233Z"
    }
   },
   "cell_type": "code",
   "source": [
    "import numpy as np\n",
    "\n",
    "# Parameters\n",
    "gamma = 0.9\n",
    "theta = 1e-6  # Convergence threshold\n",
    "max_iterations = 1000\n",
    "\n",
    "# Get list of actions\n",
    "actions_list = list(actions.keys())\n",
    "\n",
    "# Initialize Q-table: Q[s][a] = 0 for all s, a\n",
    "q = {}\n",
    "for s in range(n_states):\n",
    "    q[s] = {a: 0.0 for a in actions_list}\n",
    "\n",
    "# Q-Iteration: Directly iterate on Q until convergence\n",
    "print(\"Running Q-Iteration to find Q*...\")\n",
    "\n",
    "for iteration in range(max_iterations):\n",
    "    q_old = {s: q[s].copy() for s in range(n_states)}  # Save old Q\n",
    "\n",
    "    # Update all Q(s,a) values\n",
    "    for s in range(n_states):\n",
    "        for a in actions_list:\n",
    "            # Bellman optimality equation for Q:\n",
    "            # Q*(s,a) = Σ P(s'|s,a) [R(s,a,s') + γ max_{a'} Q*(s',a')]\n",
    "            q_sum = 0.0\n",
    "            for s_prime in range(n_states):\n",
    "                # Transition probability P(s'|s,a)\n",
    "                prob = P[a][s][s_prime]\n",
    "\n",
    "                # Reward\n",
    "                reward = R[s_prime]  # or R[s][a][s_prime] depending on your setup\n",
    "\n",
    "                # max_{a'} Q(s',a')\n",
    "                max_q_next = max(q_old[a].values())\n",
    "\n",
    "                # Add to expectation\n",
    "                q_sum += prob * (reward + gamma * max_q_next)\n",
    "\n",
    "            q[s][a] = q_sum\n",
    "\n",
    "    # Check convergence\n",
    "    max_change = 0.0\n",
    "    for s in range(n_states):\n",
    "        for a in actions_list:\n",
    "            change = abs(q[s][a] - q_old[s][a])\n",
    "            max_change = max(max_change, change)\n",
    "\n",
    "    if max_change < theta:\n",
    "        print(f\"✓ Q* converged in {iteration + 1} iterations\")\n",
    "        break\n",
    "else:\n",
    "    print(\"⚠ Warning: Maximum iterations reached\")\n",
    "\n",
    "print(\"✓ Q* computed!\")"
   ],
   "id": "b93b5b3dccc9f900",
   "outputs": [
    {
     "name": "stdout",
     "output_type": "stream",
     "text": [
      "Running Q-Iteration to find Q*...\n",
      "✓ Q* converged in 68 iterations\n",
      "✓ Q* computed!\n"
     ]
    }
   ],
   "execution_count": 46
  },
  {
   "cell_type": "markdown",
   "id": "FQyZl0sxqFSY",
   "metadata": {
    "id": "FQyZl0sxqFSY"
   },
   "source": [
    "### Check $q_*$ values.\n",
    "\n",
    "Run these cells without changing their code."
   ]
  },
  {
   "cell_type": "code",
   "id": "yE2oswmZqEUD",
   "metadata": {
    "id": "yE2oswmZqEUD",
    "ExecuteTime": {
     "end_time": "2025-10-13T23:19:29.166921Z",
     "start_time": "2025-10-13T23:19:29.164082Z"
    }
   },
   "source": [
    "# done state\n",
    "(q[1024][\"up\"], q[1024][\"down\"], q[1024][\"left\"], q[1024][\"right\"])"
   ],
   "outputs": [
    {
     "data": {
      "text/plain": [
       "(np.float64(0.0), np.float64(0.0), np.float64(0.0), np.float64(0.0))"
      ]
     },
     "execution_count": 50,
     "metadata": {},
     "output_type": "execute_result"
    }
   ],
   "execution_count": 50
  },
  {
   "cell_type": "code",
   "id": "0YHBcMe0sAwW",
   "metadata": {
    "id": "0YHBcMe0sAwW",
    "ExecuteTime": {
     "end_time": "2025-10-13T23:18:56.170446Z",
     "start_time": "2025-10-13T23:18:56.167092Z"
    }
   },
   "source": [
    "# cat arrived at fish\n",
    "\n",
    "(q[528][\"up\"], q[528][\"down\"], q[528][\"left\"], q[528][\"right\"])"
   ],
   "outputs": [
    {
     "data": {
      "text/plain": [
       "(np.float64(0.0), np.float64(0.0), np.float64(0.0), np.float64(0.0))"
      ]
     },
     "execution_count": 48,
     "metadata": {},
     "output_type": "execute_result"
    }
   ],
   "execution_count": 48
  },
  {
   "cell_type": "code",
   "id": "WDDlSrdXsIUV",
   "metadata": {
    "id": "WDDlSrdXsIUV",
    "ExecuteTime": {
     "end_time": "2025-10-13T23:19:52.552245Z",
     "start_time": "2025-10-13T23:19:52.548047Z"
    }
   },
   "source": [
    "# cat next to fish\n",
    "\n",
    "(q[529][\"up\"], q[529][\"down\"], q[529][\"left\"], q[529][\"right\"])"
   ],
   "outputs": [
    {
     "data": {
      "text/plain": [
       "(np.float64(77.44831612871018),\n",
       " np.float64(77.44831612871016),\n",
       " np.float64(96.39895759218216),\n",
       " np.float64(76.68356199404079))"
      ]
     },
     "execution_count": 51,
     "metadata": {},
     "output_type": "execute_result"
    }
   ],
   "execution_count": 51
  },
  {
   "cell_type": "code",
   "id": "r8I97p71sKzm",
   "metadata": {
    "id": "r8I97p71sKzm",
    "ExecuteTime": {
     "end_time": "2025-10-13T23:13:23.778977Z",
     "start_time": "2025-10-13T23:13:23.776137Z"
    }
   },
   "source": [
    "# cat farther from fish\n",
    "\n",
    "(q[530][0], q[530][1], q[530][2], q[530][3])"
   ],
   "outputs": [
    {
     "data": {
      "text/plain": [
       "(np.float64(0.0), np.float64(0.0), np.float64(0.0), np.float64(0.0))"
      ]
     },
     "execution_count": 43,
     "metadata": {},
     "output_type": "execute_result"
    }
   ],
   "execution_count": 43
  },
  {
   "cell_type": "markdown",
   "id": "jbKGcW-uqVnQ",
   "metadata": {
    "id": "jbKGcW-uqVnQ"
   },
   "source": [
    "## Extract Optimal Policy from $q_*$.\n",
    "\n",
    "Construct an optimal policy based on $q_*$.\n",
    "Save it in a variable `pi`"
   ]
  },
  {
   "cell_type": "code",
   "id": "GXHahx27rlZ9",
   "metadata": {
    "id": "GXHahx27rlZ9",
    "ExecuteTime": {
     "end_time": "2025-10-13T23:20:04.199049Z",
     "start_time": "2025-10-13T23:20:04.194779Z"
    }
   },
   "source": [
    "# Extract an optimal policy from q_*\n",
    "actions_list = list(actions.keys())\n",
    "pi = []\n",
    "for s in range(n_states):\n",
    "    # For the done state, choose an arbitrary action (e.g., 'up')\n",
    "    if s == n_states - 1:\n",
    "        pi.append('up')\n",
    "        continue\n",
    "    # Select the action with the highest q-value\n",
    "    best_action = actions_list[0]\n",
    "    best_value = q[s][best_action]\n",
    "    for a_name in actions_list[1:]:\n",
    "        if q[s][a_name] > best_value:\n",
    "            best_action = a_name\n",
    "            best_value = q[s][a_name]\n",
    "    pi.append(best_action)\n"
   ],
   "outputs": [],
   "execution_count": 52
  },
  {
   "cell_type": "markdown",
   "id": "F9Z-pp7qrkwb",
   "metadata": {
    "id": "F9Z-pp7qrkwb"
   },
   "source": [
    "### Check $\\pi$ values\n",
    "\n",
    "Run these cells without changing their code."
   ]
  },
  {
   "cell_type": "code",
   "id": "HqoY-cqHrs6Y",
   "metadata": {
    "id": "HqoY-cqHrs6Y",
    "ExecuteTime": {
     "end_time": "2025-10-13T23:20:06.400500Z",
     "start_time": "2025-10-13T23:20:06.397527Z"
    }
   },
   "source": [
    "# done state\n",
    "pi[1024]"
   ],
   "outputs": [
    {
     "data": {
      "text/plain": [
       "'up'"
      ]
     },
     "execution_count": 53,
     "metadata": {},
     "output_type": "execute_result"
    }
   ],
   "execution_count": 53
  },
  {
   "cell_type": "code",
   "id": "jcm2WHx7sUfO",
   "metadata": {
    "id": "jcm2WHx7sUfO",
    "ExecuteTime": {
     "end_time": "2025-10-13T23:20:07.684116Z",
     "start_time": "2025-10-13T23:20:07.680361Z"
    }
   },
   "source": [
    "# cat arrived at fish\n",
    "pi[528]"
   ],
   "outputs": [
    {
     "data": {
      "text/plain": [
       "'up'"
      ]
     },
     "execution_count": 54,
     "metadata": {},
     "output_type": "execute_result"
    }
   ],
   "execution_count": 54
  },
  {
   "cell_type": "code",
   "id": "ENsK3V2UsWvH",
   "metadata": {
    "id": "ENsK3V2UsWvH",
    "ExecuteTime": {
     "end_time": "2025-10-13T23:20:08.796955Z",
     "start_time": "2025-10-13T23:20:08.793609Z"
    }
   },
   "source": [
    "# cat next to fish\n",
    "pi[529]"
   ],
   "outputs": [
    {
     "data": {
      "text/plain": [
       "'left'"
      ]
     },
     "execution_count": 55,
     "metadata": {},
     "output_type": "execute_result"
    }
   ],
   "execution_count": 55
  },
  {
   "cell_type": "code",
   "id": "Uhz8RWDKsY1B",
   "metadata": {
    "id": "Uhz8RWDKsY1B",
    "ExecuteTime": {
     "end_time": "2025-10-13T23:20:09.838166Z",
     "start_time": "2025-10-13T23:20:09.835124Z"
    }
   },
   "source": [
    "# cat farther from fish\n",
    "pi[530]"
   ],
   "outputs": [
    {
     "data": {
      "text/plain": [
       "'left'"
      ]
     },
     "execution_count": 56,
     "metadata": {},
     "output_type": "execute_result"
    }
   ],
   "execution_count": 56
  },
  {
   "cell_type": "markdown",
   "id": "1LNvFbzNsdjd",
   "metadata": {
    "id": "1LNvFbzNsdjd"
   },
   "source": [
    "## Visualize $\\pi$.\n",
    "\n",
    "Run this cell without changing its code."
   ]
  },
  {
   "cell_type": "code",
   "id": "4JdRRjHOsttq",
   "metadata": {
    "id": "4JdRRjHOsttq",
    "ExecuteTime": {
     "end_time": "2025-10-13T23:20:11.023795Z",
     "start_time": "2025-10-13T23:20:11.019422Z"
    }
   },
   "source": [
    "pi_visualized = [\"🔥\" for _ in range(1024)]\n",
    "\n",
    "for i in range(1024):\n",
    "    if pi[i] == \"up\":\n",
    "        pi_visualized[i] = \"⬆️\"\n",
    "    elif pi[i] == \"down\":\n",
    "        pi_visualized[i] = \"⬇️\"\n",
    "    elif pi[i] == \"left\":\n",
    "        pi_visualized[i] = \"⬅️\"\n",
    "    elif pi[i] == \"right\":\n",
    "        pi_visualized[i] = \"➡️\"\n",
    "    else:\n",
    "        raise Exception(f\"Unknown action : {pi[i]!r}\")\n",
    "\n",
    "pi_visualized[16*32+16] = '🐟'\n",
    "\n",
    "for i in range(0, 1024, 32):\n",
    "    print(''.join(pi_visualized[i:i+32]))"
   ],
   "outputs": [
    {
     "name": "stdout",
     "output_type": "stream",
     "text": [
      "➡️➡️➡️➡️➡️➡️➡️➡️➡️➡️➡️➡️➡️➡️⬇️⬇️⬇️⬇️⬇️⬅️⬅️⬅️⬅️⬅️⬅️⬅️⬅️⬅️⬅️⬅️⬅️⬇️\n",
      "⬇️⬇️➡️➡️➡️➡️➡️➡️➡️➡️➡️➡️⬇️⬇️⬇️⬇️⬇️⬇️⬇️⬇️⬇️⬅️⬅️⬅️⬅️⬅️⬅️⬅️⬅️⬅️⬇️⬇️\n",
      "⬇️⬇️⬇️➡️➡️➡️➡️➡️➡️➡️➡️⬇️⬇️⬇️⬇️⬇️⬇️⬇️⬇️⬇️⬇️⬇️⬅️⬅️⬅️⬅️⬅️⬅️⬅️⬇️⬇️⬇️\n",
      "⬇️⬇️⬇️⬇️➡️➡️➡️➡️➡️➡️⬇️⬇️⬇️⬇️⬇️⬇️⬇️⬇️⬇️⬇️⬇️⬇️⬇️⬅️⬅️⬅️⬅️⬅️⬇️⬇️⬇️⬇️\n",
      "⬇️⬇️⬇️⬇️⬇️➡️➡️➡️➡️⬇️⬇️⬇️⬇️⬇️⬇️⬇️⬇️⬇️⬇️⬇️⬇️⬇️⬇️⬇️⬅️⬅️⬅️⬇️⬇️⬇️⬇️⬇️\n",
      "⬇️⬇️⬇️⬇️⬇️➡️➡️➡️⬇️⬇️⬇️⬇️⬇️⬇️⬇️⬇️⬇️⬇️⬇️⬇️⬇️⬇️⬇️⬇️⬇️⬅️⬇️⬇️⬇️⬇️⬇️⬇️\n",
      "⬇️⬇️⬇️⬇️⬇️⬇️➡️➡️⬇️⬇️⬇️⬇️⬇️⬇️⬇️⬇️⬇️⬇️⬇️⬇️⬇️⬇️⬇️⬇️⬇️⬇️⬇️⬇️⬇️⬇️⬇️⬇️\n",
      "⬇️⬇️⬇️⬇️⬇️⬇️⬇️➡️⬇️⬇️⬇️⬇️⬇️⬇️⬇️⬇️⬇️⬇️⬇️⬇️⬇️⬇️⬇️⬇️⬇️⬇️⬇️⬇️⬇️⬇️⬇️⬇️\n",
      "⬇️⬇️⬇️⬇️⬇️➡️➡️➡️⬇️⬇️⬇️⬇️⬇️⬇️⬇️⬇️⬇️⬇️⬇️⬇️⬇️⬇️⬇️⬇️⬇️⬅️⬇️⬇️⬇️⬇️⬇️⬇️\n",
      "⬇️⬇️⬇️⬇️➡️➡️➡️➡️➡️⬇️⬇️⬇️⬇️⬇️⬇️⬇️⬇️⬇️⬇️⬇️⬇️⬇️⬇️⬇️⬅️⬅️⬅️⬅️⬇️⬇️⬇️⬇️\n",
      "⬇️⬇️⬇️➡️➡️➡️➡️➡️➡️➡️⬇️⬇️⬇️⬇️⬇️⬇️⬇️⬇️⬇️⬇️⬇️⬇️⬇️⬅️⬅️⬅️⬅️⬅️⬅️⬇️⬇️⬇️\n",
      "⬇️⬇️➡️➡️➡️➡️➡️➡️➡️➡️➡️⬇️⬇️⬇️⬇️⬇️⬇️⬇️⬇️⬇️⬇️⬇️⬅️⬅️⬅️⬅️⬅️⬅️⬅️⬅️⬇️⬇️\n",
      "⬇️➡️➡️➡️➡️➡️➡️➡️➡️➡️➡️➡️⬇️⬇️⬇️⬇️⬇️⬇️⬇️⬇️⬇️⬅️⬅️⬅️⬅️⬅️⬅️⬅️⬅️⬅️⬅️⬇️\n",
      "⬇️➡️➡️➡️➡️➡️➡️➡️➡️➡️➡️➡️➡️➡️⬇️⬇️⬇️⬇️⬇️⬇️⬅️⬅️⬅️⬅️⬅️⬅️⬅️⬅️⬅️⬅️⬅️⬇️\n",
      "➡️➡️➡️➡️➡️➡️➡️➡️➡️➡️➡️➡️➡️➡️➡️⬇️⬇️⬇️⬇️⬅️⬅️⬅️⬅️⬅️⬅️⬅️⬅️⬅️⬅️⬅️⬅️⬅️\n",
      "➡️➡️➡️➡️➡️➡️➡️➡️➡️➡️➡️➡️➡️➡️➡️➡️⬇️⬅️⬅️⬅️⬅️⬅️⬅️⬅️⬅️⬅️⬅️⬅️⬅️⬅️⬅️⬅️\n",
      "➡️➡️➡️➡️➡️➡️➡️➡️➡️➡️➡️➡️➡️➡️➡️➡️🐟⬅️⬅️⬅️⬅️⬅️⬅️⬅️⬅️⬅️⬅️⬅️⬅️⬅️⬅️⬅️\n",
      "➡️➡️➡️➡️➡️➡️➡️➡️➡️➡️➡️➡️➡️➡️➡️⬆️⬆️⬆️⬅️⬅️⬅️⬅️⬅️⬅️⬅️⬅️⬅️⬅️⬅️⬅️⬅️⬅️\n",
      "➡️➡️➡️➡️➡️➡️➡️➡️➡️➡️➡️➡️➡️➡️⬆️⬆️⬆️⬆️⬆️⬅️⬅️⬅️⬅️⬅️⬅️⬅️⬅️⬅️⬅️⬅️⬅️⬅️\n",
      "⬆️➡️➡️➡️➡️➡️➡️➡️➡️➡️➡️➡️➡️➡️⬆️⬆️⬆️⬆️⬆️⬆️⬅️⬅️⬅️⬅️⬅️⬅️⬅️⬅️⬅️⬅️⬅️⬆️\n",
      "⬆️➡️➡️➡️➡️➡️➡️➡️➡️➡️➡️➡️⬆️⬆️⬆️⬆️⬆️⬆️⬆️⬆️⬆️⬅️⬅️⬅️⬅️⬅️⬅️⬅️⬅️⬅️⬅️⬆️\n",
      "⬆️⬆️➡️➡️➡️➡️➡️➡️➡️➡️➡️➡️⬆️⬆️⬆️⬆️⬆️⬆️⬆️⬆️⬆️⬆️⬅️⬅️⬅️⬅️⬅️⬅️⬅️⬅️⬆️⬆️\n",
      "⬆️⬆️⬆️➡️➡️➡️➡️➡️➡️➡️➡️⬆️⬆️⬆️⬆️⬆️⬆️⬆️⬆️⬆️⬆️⬆️⬆️⬅️⬅️⬅️⬅️⬅️⬅️⬆️⬆️⬆️\n",
      "⬆️⬆️⬆️⬆️➡️➡️➡️➡️➡️➡️⬆️⬆️⬆️⬆️⬆️⬆️⬆️⬆️⬆️⬆️⬆️⬆️⬆️⬆️⬅️⬅️⬅️⬅️⬆️⬆️⬆️⬆️\n",
      "⬆️⬆️⬆️⬆️⬆️➡️➡️➡️➡️⬆️⬆️⬆️⬆️⬆️⬆️⬆️⬆️⬆️⬆️⬆️⬆️⬆️⬆️⬆️⬆️⬅️⬆️⬆️⬆️⬆️⬆️⬆️\n",
      "⬆️⬆️⬆️⬆️⬆️⬆️➡️➡️⬆️⬆️⬆️⬆️⬆️⬆️⬆️⬆️⬆️⬆️⬆️⬆️⬆️⬆️⬆️⬆️⬆️⬆️⬆️⬆️⬆️⬆️⬆️⬆️\n",
      "⬆️⬆️⬆️⬆️⬆️➡️➡️➡️➡️⬆️⬆️⬆️⬆️⬆️⬆️⬆️⬆️⬆️⬆️⬆️⬆️⬆️⬆️⬆️⬅️⬅️⬆️⬆️⬆️⬆️⬆️⬆️\n",
      "⬆️⬆️⬆️⬆️➡️➡️➡️➡️➡️⬆️⬆️⬆️⬆️⬆️⬆️⬆️⬆️⬆️⬆️⬆️⬆️⬆️⬆️⬆️⬅️⬅️⬅️⬆️⬆️⬆️⬆️⬆️\n",
      "⬆️⬆️⬆️➡️➡️➡️➡️➡️➡️➡️⬆️⬆️⬆️⬆️⬆️⬆️⬆️⬆️⬆️⬆️⬆️⬆️⬆️⬅️⬅️⬅️⬅️⬅️⬆️⬆️⬆️⬆️\n",
      "⬆️⬆️➡️➡️➡️➡️➡️➡️➡️➡️➡️⬆️⬆️⬆️⬆️⬆️⬆️⬆️⬆️⬆️⬆️⬆️⬅️⬅️⬅️⬅️⬅️⬅️⬅️⬅️⬆️⬆️\n",
      "⬆️➡️➡️➡️➡️➡️➡️➡️➡️➡️➡️➡️⬆️⬆️⬆️⬆️⬆️⬆️⬆️⬆️⬆️⬅️⬅️⬅️⬅️⬅️⬅️⬅️⬅️⬅️⬅️⬆️\n",
      "➡️➡️➡️➡️➡️➡️➡️➡️➡️➡️➡️➡️➡️➡️⬆️⬆️⬆️⬆️⬆️⬅️⬅️⬅️⬅️⬅️⬅️⬅️⬅️⬅️⬅️⬅️⬅️⬆️\n"
     ]
    }
   ],
   "execution_count": 57
  }
 ],
 "metadata": {
  "colab": {
   "provenance": [
    {
     "file_id": "11b0csKjZMSpVwisVryvPpqnQkfiRJgKD",
     "timestamp": 1759083888523
    },
    {
     "file_id": "14JggDpcbYl39CT_z7fD-9BYEEnjWQNb9",
     "timestamp": 1758679219097
    }
   ]
  },
  "kernelspec": {
   "display_name": "Python 3 (ipykernel)",
   "language": "python",
   "name": "python3"
  },
  "language_info": {
   "codemirror_mode": {
    "name": "ipython",
    "version": 3
   },
   "file_extension": ".py",
   "mimetype": "text/x-python",
   "name": "python",
   "nbconvert_exporter": "python",
   "pygments_lexer": "ipython3",
   "version": "3.12.11"
  }
 },
 "nbformat": 4,
 "nbformat_minor": 5
}
