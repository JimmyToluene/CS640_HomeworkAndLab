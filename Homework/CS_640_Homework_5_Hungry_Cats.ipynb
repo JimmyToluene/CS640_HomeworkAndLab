{
  "cells": [
    {
      "cell_type": "markdown",
      "id": "38dd63ed-e907-448d-9823-35170af5b044",
      "metadata": {
        "id": "38dd63ed-e907-448d-9823-35170af5b044"
      },
      "source": [
        "# CS 640 - 2025 Fall - Homework 5\n",
        "\n",
        "In this homework, you will define a Markov decision process describing a cat moving on a 32 x 32 grid looking for a fish.\n",
        "This will extend last week's Markov reward process by giving the cat agency to seek out the fish."
      ]
    },
    {
      "cell_type": "markdown",
      "id": "637a0c24-418c-4c54-b118-81425eaf6c62",
      "metadata": {
        "id": "637a0c24-418c-4c54-b118-81425eaf6c62"
      },
      "source": [
        "## Instructions\n",
        "\n",
        "1. Follow the instructions below to construct and analyze the Markov decision process.\n",
        "2. Run all the cells so that all the check cells are updated.\n",
        "3. Answer the question at the bottom.\n",
        "4. Submit your notebook in Gradescope.\n"
      ]
    },
    {
      "cell_type": "code",
      "execution_count": null,
      "id": "2fbd426f-1109-4673-808f-db0c556fadbf",
      "metadata": {
        "id": "2fbd426f-1109-4673-808f-db0c556fadbf"
      },
      "outputs": [],
      "source": [
        "import matplotlib.pyplot as plt\n",
        "import numpy as np\n",
        "import torch"
      ]
    },
    {
      "cell_type": "markdown",
      "id": "eded7a72-6bf9-4886-8d47-4c5f4174ff8a",
      "metadata": {
        "id": "eded7a72-6bf9-4886-8d47-4c5f4174ff8a"
      },
      "source": [
        "## State Descriptions\n",
        "\n",
        "You will construct a Markov decision problem based on the following specification (same as homework 4).\n",
        "1. The states are numbered from 0 to 1024 (inclusive).\n",
        "2. The state 1024 is a special done state.\n",
        "3. For state s from 0 to 1023, the state number encodes coordinates as follows.\n",
        "  * x = s % 32\n",
        "  * y = s / 32 (integer division)\n",
        "  * x and y represent the location of a cat in a 32x32 grid.\n",
        "4. At the state corresponding to x=16,y=16, there is a fish unless the cat is also there.\n",
        "\n",
        "The following function `print_state` will visualize the state."
      ]
    },
    {
      "cell_type": "code",
      "execution_count": null,
      "id": "349edcee-6108-4613-b0ef-ac588132ddd6",
      "metadata": {
        "id": "349edcee-6108-4613-b0ef-ac588132ddd6"
      },
      "outputs": [],
      "source": [
        "def print_state(s):\n",
        "    assert 0 <= s <= 1024\n",
        "\n",
        "    print(\"STATE\", s)\n",
        "\n",
        "    if s < 1024:\n",
        "        # normal state indicating y, x coordinates\n",
        "        output = ['🪨' for _ in range(1024)]\n",
        "        output[16*32+16] = '🐟'\n",
        "        output[s] = '🐱'\n",
        "        for i in range(0, 1024, 32):\n",
        "            print(''.join(output[i:i+32]))\n",
        "    else:\n",
        "        print(\"DONE\")\n",
        "\n",
        "    print(\"\")\n",
        "\n",
        "for s in (0, 2 * 32 + 5, 16*32+16, 1023, 1024):\n",
        "    print_state(s)"
      ]
    },
    {
      "cell_type": "markdown",
      "source": [
        "## Actions\n",
        "\n",
        "In any state, the cat will have 4 possible actions.\n",
        "1. Up. The cat tries to change its $y$ coordinate by -1.\n",
        "2. Down. The cat tries to change its $y$ coordinate by +1.\n",
        "3. Left. The cat tries to change its $x$ coordinate by -1.\n",
        "4. Right. The cat tries to change its $x$ coordinate by +1.\n",
        "\n",
        "If the up/down descriptions do not make sense, consider that the first row when printing corresponds to $y=0$ and the last row printed corresponds to $y=31$."
      ],
      "metadata": {
        "id": "66Dp_VsNlkYH"
      },
      "id": "66Dp_VsNlkYH"
    },
    {
      "cell_type": "markdown",
      "id": "521853b7-9d62-4cef-b0e9-fc6385cee5ed",
      "metadata": {
        "id": "521853b7-9d62-4cef-b0e9-fc6385cee5ed"
      },
      "source": [
        "## State Transitions\n",
        "\n",
        "For each action $a$, construct a transition matrix $P_a$ based on the following rules.\n",
        "\n",
        "1. $P_a$ should be 1025x1025.\n",
        "2. $P_a[i,j]$ should hold the probability of transitioning from state i to j in one step.\n",
        "3. If the state is 1024 (the done state), the state stays the same with probability 1.\n",
        "4. If the state is 528 (cat is on the fish), the state changes to 1024 with probability 1.\n",
        "5. If the action $a$ corresponds to moving off the grid, then the state stays the same with probability 1.\n",
        "6. Otherwise, for any other state $s$,\n",
        "    * For any state $s'$ representing locations that are adjacent horizontally or vertically besides the state that the cat intends to reach, there is a 5% of transitioning from $s$ to $s'$.\n",
        "    * The state to which the cat intends to move has the remaining probability (this should be 0.80, 0.85 or 0.90).\n",
        "    * The probability of transitioning to a state representing a non-adjacent location is zero.\n"
      ]
    },
    {
      "cell_type": "code",
      "execution_count": null,
      "id": "6c1d8cea-cdac-4e5c-85a4-3b44fe3a4db2",
      "metadata": {
        "id": "6c1d8cea-cdac-4e5c-85a4-3b44fe3a4db2"
      },
      "outputs": [],
      "source": [
        "# YOUR CHANGES HERE\n",
        "\n",
        "# pick your data structures as you see appropriate\n",
        "\n",
        "# P = ..."
      ]
    },
    {
      "cell_type": "markdown",
      "id": "fd39a16b-804f-4aa7-b5e3-df73440da5c4",
      "metadata": {
        "id": "fd39a16b-804f-4aa7-b5e3-df73440da5c4"
      },
      "source": [
        "## State Rewards\n",
        "\n",
        "Construct a reward vector R based on the following rules.\n",
        "The reward does not depend on the action.\n",
        "\n",
        "1. R should be 1025x1.\n",
        "2. R[i] should hold the reward after state i.\n",
        "3. The reward after state 528 (cat is on fish) is 100.\n",
        "4. The reward for all other states is 0."
      ]
    },
    {
      "cell_type": "code",
      "execution_count": null,
      "id": "8f883f4d-dd6d-4fac-a2da-734443e7aaf8",
      "metadata": {
        "id": "8f883f4d-dd6d-4fac-a2da-734443e7aaf8"
      },
      "outputs": [],
      "source": [
        "# YOUR CHANGES HERE\n",
        "\n",
        "R = ..."
      ]
    },
    {
      "cell_type": "markdown",
      "id": "28cbbadb-b617-45b2-9193-373c20bcc76e",
      "metadata": {
        "id": "28cbbadb-b617-45b2-9193-373c20bcc76e"
      },
      "source": [
        "## Optimal State Values\n",
        "\n",
        "Use **value iteration** to compute the value function $v_*$ for each state using $\\gamma=0.9$ and save it in $v$."
      ]
    },
    {
      "cell_type": "code",
      "execution_count": null,
      "id": "4bd520e0-2791-4153-9291-848248e6b833",
      "metadata": {
        "id": "4bd520e0-2791-4153-9291-848248e6b833"
      },
      "outputs": [],
      "source": [
        "# YOUR CHANGES HERE\n",
        "\n",
        "v = [i / 1024 for i in range(1025)]"
      ]
    },
    {
      "cell_type": "markdown",
      "id": "32ab1062-699c-4510-a779-ca77fcfbbdc2",
      "metadata": {
        "id": "32ab1062-699c-4510-a779-ca77fcfbbdc2"
      },
      "source": [
        "### Check $v_*$ values.\n",
        "\n",
        "Run these cells without changing their code."
      ]
    },
    {
      "cell_type": "code",
      "execution_count": null,
      "id": "ae1e3b43-44f1-47da-a299-5a14ee7ce84c",
      "metadata": {
        "id": "ae1e3b43-44f1-47da-a299-5a14ee7ce84c"
      },
      "outputs": [],
      "source": [
        "# done state\n",
        "v[1024]"
      ]
    },
    {
      "cell_type": "code",
      "execution_count": null,
      "id": "5f812386-714e-4986-9cc8-2963b05d8d72",
      "metadata": {
        "id": "5f812386-714e-4986-9cc8-2963b05d8d72"
      },
      "outputs": [],
      "source": [
        "# cat arrived at fish\n",
        "v[528]"
      ]
    },
    {
      "cell_type": "code",
      "execution_count": null,
      "id": "e485e356-143e-45a0-8d0d-2c4b5a6eaa33",
      "metadata": {
        "id": "e485e356-143e-45a0-8d0d-2c4b5a6eaa33"
      },
      "outputs": [],
      "source": [
        "# cat next to fish\n",
        "v[529]"
      ]
    },
    {
      "cell_type": "code",
      "execution_count": null,
      "id": "c14d3d71-fb46-48d9-9711-7de1ff37971d",
      "metadata": {
        "id": "c14d3d71-fb46-48d9-9711-7de1ff37971d"
      },
      "outputs": [],
      "source": [
        "# cat farther from fish\n",
        "v[530]"
      ]
    },
    {
      "cell_type": "markdown",
      "source": [
        "## Visualize $v_*$.\n",
        "\n",
        "Run this cell without changing its code."
      ],
      "metadata": {
        "id": "0k5CknPMwKZt"
      },
      "id": "0k5CknPMwKZt"
    },
    {
      "cell_type": "code",
      "source": [
        "plt.imshow(np.asarray(v)[:1024].reshape(32, 32));"
      ],
      "metadata": {
        "id": "Z6YPDv5ywJpH"
      },
      "id": "Z6YPDv5ywJpH",
      "execution_count": null,
      "outputs": []
    },
    {
      "cell_type": "markdown",
      "source": [
        "## Optimal State-Action Values\n",
        "\n",
        "Use **q-learning** to compute the state-action value function $q_*$ using $\\gamma$ and save it in `q`.\n",
        "`q` should be constructed so that `q[s][a]` returns the value $q_*(s,a)$ where $s$ is an integer from 0 to 1024 (inclusive) and $a$ is one of the strings \"up\", \"down\", \"left\" or \"right\"."
      ],
      "metadata": {
        "id": "K-KmwoZGpJP9"
      },
      "id": "K-KmwoZGpJP9"
    },
    {
      "cell_type": "code",
      "source": [
        "# YOUR CHANGES HERE\n",
        "\n",
        "q = ..."
      ],
      "metadata": {
        "id": "AqEaAh7np1Uo"
      },
      "id": "AqEaAh7np1Uo",
      "execution_count": null,
      "outputs": []
    },
    {
      "cell_type": "markdown",
      "source": [
        "### Check $q_*$ values.\n",
        "\n",
        "Run these cells without changing their code."
      ],
      "metadata": {
        "id": "FQyZl0sxqFSY"
      },
      "id": "FQyZl0sxqFSY"
    },
    {
      "cell_type": "code",
      "source": [
        "# done state\n",
        "\n",
        "(q[1024][\"up\"], q[1024][\"down\"], q[1024][\"left\"], q[1024][\"right\"])"
      ],
      "metadata": {
        "id": "yE2oswmZqEUD"
      },
      "id": "yE2oswmZqEUD",
      "execution_count": null,
      "outputs": []
    },
    {
      "cell_type": "code",
      "source": [
        "# cat arrived at fish\n",
        "\n",
        "(q[528][\"up\"], q[528][\"down\"], q[528][\"left\"], q[528][\"right\"])"
      ],
      "metadata": {
        "id": "0YHBcMe0sAwW"
      },
      "id": "0YHBcMe0sAwW",
      "execution_count": null,
      "outputs": []
    },
    {
      "cell_type": "code",
      "source": [
        "# cat next to fish\n",
        "\n",
        "(q[529][\"up\"], q[529][\"down\"], q[529][\"left\"], q[529][\"right\"])"
      ],
      "metadata": {
        "id": "WDDlSrdXsIUV"
      },
      "id": "WDDlSrdXsIUV",
      "execution_count": null,
      "outputs": []
    },
    {
      "cell_type": "code",
      "source": [
        "# cat farther from fish\n",
        "\n",
        "(q[530][\"up\"], q[530][\"down\"], q[530][\"left\"], q[530][\"right\"])"
      ],
      "metadata": {
        "id": "r8I97p71sKzm"
      },
      "id": "r8I97p71sKzm",
      "execution_count": null,
      "outputs": []
    },
    {
      "cell_type": "markdown",
      "source": [
        "## Extract Optimal Policy from $q_*$.\n",
        "\n",
        "Construct an optimal policy based on $q_*$.\n",
        "Save it in a variable `pi`"
      ],
      "metadata": {
        "id": "jbKGcW-uqVnQ"
      },
      "id": "jbKGcW-uqVnQ"
    },
    {
      "cell_type": "code",
      "source": [
        "# YOUR CHANGES HERE\n",
        "\n",
        "# dummy policy as an example of the format and to test visualization below.\n",
        "pi = [\"up\" for _ in range(1025)]"
      ],
      "metadata": {
        "id": "GXHahx27rlZ9"
      },
      "id": "GXHahx27rlZ9",
      "execution_count": null,
      "outputs": []
    },
    {
      "cell_type": "markdown",
      "source": [
        "### Check $\\pi$ values\n",
        "\n",
        "Run these cells without changing their code."
      ],
      "metadata": {
        "id": "F9Z-pp7qrkwb"
      },
      "id": "F9Z-pp7qrkwb"
    },
    {
      "cell_type": "code",
      "source": [
        "# done state\n",
        "pi[1024]"
      ],
      "metadata": {
        "id": "HqoY-cqHrs6Y"
      },
      "id": "HqoY-cqHrs6Y",
      "execution_count": null,
      "outputs": []
    },
    {
      "cell_type": "code",
      "source": [
        "# cat arrived at fish\n",
        "pi[528]"
      ],
      "metadata": {
        "id": "jcm2WHx7sUfO"
      },
      "id": "jcm2WHx7sUfO",
      "execution_count": null,
      "outputs": []
    },
    {
      "cell_type": "code",
      "source": [
        "# cat next to fish\n",
        "pi[529]"
      ],
      "metadata": {
        "id": "ENsK3V2UsWvH"
      },
      "id": "ENsK3V2UsWvH",
      "execution_count": null,
      "outputs": []
    },
    {
      "cell_type": "code",
      "source": [
        "# cat farther from fish\n",
        "pi[530]"
      ],
      "metadata": {
        "id": "Uhz8RWDKsY1B"
      },
      "id": "Uhz8RWDKsY1B",
      "execution_count": null,
      "outputs": []
    },
    {
      "cell_type": "markdown",
      "source": [
        "## Visualize $\\pi$.\n",
        "\n",
        "Run this cell without changing its code."
      ],
      "metadata": {
        "id": "1LNvFbzNsdjd"
      },
      "id": "1LNvFbzNsdjd"
    },
    {
      "cell_type": "code",
      "source": [
        "pi_visualized = [\"🔥\" for _ in range(1024)]\n",
        "\n",
        "for i in range(1024):\n",
        "    if pi[i] == \"up\":\n",
        "        pi_visualized[i] = \"⬆️\"\n",
        "    elif pi[i] == \"down\":\n",
        "        pi_visualized[i] = \"⬇️\"\n",
        "    elif pi[i] == \"left\":\n",
        "        pi_visualized[i] = \"⬅️\"\n",
        "    elif pi[i] == \"right\":\n",
        "        pi_visualized[i] = \"➡️\"\n",
        "    else:\n",
        "        raise Exception(f\"Unknown action : {pi[i]!r}\")\n",
        "\n",
        "pi_visualized[16*32+16] = '🐟'\n",
        "\n",
        "for i in range(0, 1024, 32):\n",
        "    print(''.join(pi_visualized[i:i+32]))"
      ],
      "metadata": {
        "id": "4JdRRjHOsttq"
      },
      "id": "4JdRRjHOsttq",
      "execution_count": null,
      "outputs": []
    }
  ],
  "metadata": {
    "kernelspec": {
      "display_name": "Python 3 (ipykernel)",
      "language": "python",
      "name": "python3"
    },
    "language_info": {
      "codemirror_mode": {
        "name": "ipython",
        "version": 3
      },
      "file_extension": ".py",
      "mimetype": "text/x-python",
      "name": "python",
      "nbconvert_exporter": "python",
      "pygments_lexer": "ipython3",
      "version": "3.12.11"
    },
    "colab": {
      "provenance": []
    }
  },
  "nbformat": 4,
  "nbformat_minor": 5
}