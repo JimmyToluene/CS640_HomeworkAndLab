{
 "cells": [
  {
   "cell_type": "markdown",
   "id": "38dd63ed-e907-448d-9823-35170af5b044",
   "metadata": {
    "id": "38dd63ed-e907-448d-9823-35170af5b044"
   },
   "source": [
    "# CS 640 - 2025 Fall - Homework 4\n",
    "\n",
    "In this homework, you will define a Markov reward process describing a cat making random walk on a 32 x 32 grid looking for a fish."
   ]
  },
  {
   "cell_type": "markdown",
   "id": "637a0c24-418c-4c54-b118-81425eaf6c62",
   "metadata": {
    "id": "637a0c24-418c-4c54-b118-81425eaf6c62"
   },
   "source": [
    "## Instructions\n",
    "\n",
    "1. Follow the instructions below to construct and analyze the Markov reward process.\n",
    "2. Run all the cells so that all the check cells are updated.\n",
    "3. Answer the question at the bottom.\n",
    "4. Submit your notebook in Gradescope.\n",
    "\n",
    "This problem is designed to be slow on a CPU but fast with a GPU.\n",
    "Please plan accordingly for SCC access as needed."
   ]
  },
  {
   "cell_type": "code",
   "id": "2fbd426f-1109-4673-808f-db0c556fadbf",
   "metadata": {
    "id": "2fbd426f-1109-4673-808f-db0c556fadbf",
    "ExecuteTime": {
     "end_time": "2025-09-25T22:02:02.657438Z",
     "start_time": "2025-09-25T22:02:02.571867Z"
    }
   },
   "source": [
    "import torch\n",
    "from networkx.classes import neighbors\n",
    "import numpy as np"
   ],
   "outputs": [],
   "execution_count": 2
  },
  {
   "cell_type": "markdown",
   "id": "eded7a72-6bf9-4886-8d47-4c5f4174ff8a",
   "metadata": {
    "id": "eded7a72-6bf9-4886-8d47-4c5f4174ff8a"
   },
   "source": [
    "## State Descriptions\n",
    "\n",
    "You will construct a Markov reward problem based on the following specification.\n",
    "1. The states are numbered from 0 to 1024 (inclusive).\n",
    "2. The state 1024 is a special done state.\n",
    "3. For state s from 0 to 1023, the state number encodes coordinates as follows.\n",
    "  * x = s % 32\n",
    "  * y = s / 32 (integer division)\n",
    "  * x and y represent the location of a cat in a 32x32 grid.\n",
    "4. At the state corresponding to x=16,y=16, there is a fish unless the cat is also there.\n",
    "\n",
    "The following function `print_state` will visualize the state."
   ]
  },
  {
   "cell_type": "code",
   "id": "349edcee-6108-4613-b0ef-ac588132ddd6",
   "metadata": {
    "id": "349edcee-6108-4613-b0ef-ac588132ddd6",
    "outputId": "d4cef462-d299-4659-e31d-ca73d4ff6c50",
    "ExecuteTime": {
     "end_time": "2025-09-25T22:02:04.243629Z",
     "start_time": "2025-09-25T22:02:04.240416Z"
    }
   },
   "source": [
    "def print_state(s):\n",
    "    assert 0 <= s <= 1024\n",
    "\n",
    "    print(\"STATE\", s)\n",
    "\n",
    "    if s < 1024:\n",
    "        # normal state indicating y, x coordinates\n",
    "        output = ['🪨' for _ in range(1024)]\n",
    "        output[16*32+16] = '🐟'\n",
    "        output[s] = '🐱'\n",
    "        for i in range(0, 1024, 32):\n",
    "            print(''.join(output[i:i+32]))\n",
    "    else:\n",
    "        print(\"DONE\")\n",
    "\n",
    "    print(\"\")\n",
    "\n",
    "for s in (0, 2 * 32 + 5, 16*32+16, 1023, 1024):\n",
    "    print_state(s)"
   ],
   "outputs": [
    {
     "name": "stdout",
     "output_type": "stream",
     "text": [
      "STATE 0\n",
      "🐱🪨🪨🪨🪨🪨🪨🪨🪨🪨🪨🪨🪨🪨🪨🪨🪨🪨🪨🪨🪨🪨🪨🪨🪨🪨🪨🪨🪨🪨🪨🪨\n",
      "🪨🪨🪨🪨🪨🪨🪨🪨🪨🪨🪨🪨🪨🪨🪨🪨🪨🪨🪨🪨🪨🪨🪨🪨🪨🪨🪨🪨🪨🪨🪨🪨\n",
      "🪨🪨🪨🪨🪨🪨🪨🪨🪨🪨🪨🪨🪨🪨🪨🪨🪨🪨🪨🪨🪨🪨🪨🪨🪨🪨🪨🪨🪨🪨🪨🪨\n",
      "🪨🪨🪨🪨🪨🪨🪨🪨🪨🪨🪨🪨🪨🪨🪨🪨🪨🪨🪨🪨🪨🪨🪨🪨🪨🪨🪨🪨🪨🪨🪨🪨\n",
      "🪨🪨🪨🪨🪨🪨🪨🪨🪨🪨🪨🪨🪨🪨🪨🪨🪨🪨🪨🪨🪨🪨🪨🪨🪨🪨🪨🪨🪨🪨🪨🪨\n",
      "🪨🪨🪨🪨🪨🪨🪨🪨🪨🪨🪨🪨🪨🪨🪨🪨🪨🪨🪨🪨🪨🪨🪨🪨🪨🪨🪨🪨🪨🪨🪨🪨\n",
      "🪨🪨🪨🪨🪨🪨🪨🪨🪨🪨🪨🪨🪨🪨🪨🪨🪨🪨🪨🪨🪨🪨🪨🪨🪨🪨🪨🪨🪨🪨🪨🪨\n",
      "🪨🪨🪨🪨🪨🪨🪨🪨🪨🪨🪨🪨🪨🪨🪨🪨🪨🪨🪨🪨🪨🪨🪨🪨🪨🪨🪨🪨🪨🪨🪨🪨\n",
      "🪨🪨🪨🪨🪨🪨🪨🪨🪨🪨🪨🪨🪨🪨🪨🪨🪨🪨🪨🪨🪨🪨🪨🪨🪨🪨🪨🪨🪨🪨🪨🪨\n",
      "🪨🪨🪨🪨🪨🪨🪨🪨🪨🪨🪨🪨🪨🪨🪨🪨🪨🪨🪨🪨🪨🪨🪨🪨🪨🪨🪨🪨🪨🪨🪨🪨\n",
      "🪨🪨🪨🪨🪨🪨🪨🪨🪨🪨🪨🪨🪨🪨🪨🪨🪨🪨🪨🪨🪨🪨🪨🪨🪨🪨🪨🪨🪨🪨🪨🪨\n",
      "🪨🪨🪨🪨🪨🪨🪨🪨🪨🪨🪨🪨🪨🪨🪨🪨🪨🪨🪨🪨🪨🪨🪨🪨🪨🪨🪨🪨🪨🪨🪨🪨\n",
      "🪨🪨🪨🪨🪨🪨🪨🪨🪨🪨🪨🪨🪨🪨🪨🪨🪨🪨🪨🪨🪨🪨🪨🪨🪨🪨🪨🪨🪨🪨🪨🪨\n",
      "🪨🪨🪨🪨🪨🪨🪨🪨🪨🪨🪨🪨🪨🪨🪨🪨🪨🪨🪨🪨🪨🪨🪨🪨🪨🪨🪨🪨🪨🪨🪨🪨\n",
      "🪨🪨🪨🪨🪨🪨🪨🪨🪨🪨🪨🪨🪨🪨🪨🪨🪨🪨🪨🪨🪨🪨🪨🪨🪨🪨🪨🪨🪨🪨🪨🪨\n",
      "🪨🪨🪨🪨🪨🪨🪨🪨🪨🪨🪨🪨🪨🪨🪨🪨🪨🪨🪨🪨🪨🪨🪨🪨🪨🪨🪨🪨🪨🪨🪨🪨\n",
      "🪨🪨🪨🪨🪨🪨🪨🪨🪨🪨🪨🪨🪨🪨🪨🪨🐟🪨🪨🪨🪨🪨🪨🪨🪨🪨🪨🪨🪨🪨🪨🪨\n",
      "🪨🪨🪨🪨🪨🪨🪨🪨🪨🪨🪨🪨🪨🪨🪨🪨🪨🪨🪨🪨🪨🪨🪨🪨🪨🪨🪨🪨🪨🪨🪨🪨\n",
      "🪨🪨🪨🪨🪨🪨🪨🪨🪨🪨🪨🪨🪨🪨🪨🪨🪨🪨🪨🪨🪨🪨🪨🪨🪨🪨🪨🪨🪨🪨🪨🪨\n",
      "🪨🪨🪨🪨🪨🪨🪨🪨🪨🪨🪨🪨🪨🪨🪨🪨🪨🪨🪨🪨🪨🪨🪨🪨🪨🪨🪨🪨🪨🪨🪨🪨\n",
      "🪨🪨🪨🪨🪨🪨🪨🪨🪨🪨🪨🪨🪨🪨🪨🪨🪨🪨🪨🪨🪨🪨🪨🪨🪨🪨🪨🪨🪨🪨🪨🪨\n",
      "🪨🪨🪨🪨🪨🪨🪨🪨🪨🪨🪨🪨🪨🪨🪨🪨🪨🪨🪨🪨🪨🪨🪨🪨🪨🪨🪨🪨🪨🪨🪨🪨\n",
      "🪨🪨🪨🪨🪨🪨🪨🪨🪨🪨🪨🪨🪨🪨🪨🪨🪨🪨🪨🪨🪨🪨🪨🪨🪨🪨🪨🪨🪨🪨🪨🪨\n",
      "🪨🪨🪨🪨🪨🪨🪨🪨🪨🪨🪨🪨🪨🪨🪨🪨🪨🪨🪨🪨🪨🪨🪨🪨🪨🪨🪨🪨🪨🪨🪨🪨\n",
      "🪨🪨🪨🪨🪨🪨🪨🪨🪨🪨🪨🪨🪨🪨🪨🪨🪨🪨🪨🪨🪨🪨🪨🪨🪨🪨🪨🪨🪨🪨🪨🪨\n",
      "🪨🪨🪨🪨🪨🪨🪨🪨🪨🪨🪨🪨🪨🪨🪨🪨🪨🪨🪨🪨🪨🪨🪨🪨🪨🪨🪨🪨🪨🪨🪨🪨\n",
      "🪨🪨🪨🪨🪨🪨🪨🪨🪨🪨🪨🪨🪨🪨🪨🪨🪨🪨🪨🪨🪨🪨🪨🪨🪨🪨🪨🪨🪨🪨🪨🪨\n",
      "🪨🪨🪨🪨🪨🪨🪨🪨🪨🪨🪨🪨🪨🪨🪨🪨🪨🪨🪨🪨🪨🪨🪨🪨🪨🪨🪨🪨🪨🪨🪨🪨\n",
      "🪨🪨🪨🪨🪨🪨🪨🪨🪨🪨🪨🪨🪨🪨🪨🪨🪨🪨🪨🪨🪨🪨🪨🪨🪨🪨🪨🪨🪨🪨🪨🪨\n",
      "🪨🪨🪨🪨🪨🪨🪨🪨🪨🪨🪨🪨🪨🪨🪨🪨🪨🪨🪨🪨🪨🪨🪨🪨🪨🪨🪨🪨🪨🪨🪨🪨\n",
      "🪨🪨🪨🪨🪨🪨🪨🪨🪨🪨🪨🪨🪨🪨🪨🪨🪨🪨🪨🪨🪨🪨🪨🪨🪨🪨🪨🪨🪨🪨🪨🪨\n",
      "🪨🪨🪨🪨🪨🪨🪨🪨🪨🪨🪨🪨🪨🪨🪨🪨🪨🪨🪨🪨🪨🪨🪨🪨🪨🪨🪨🪨🪨🪨🪨🪨\n",
      "\n",
      "STATE 69\n",
      "🪨🪨🪨🪨🪨🪨🪨🪨🪨🪨🪨🪨🪨🪨🪨🪨🪨🪨🪨🪨🪨🪨🪨🪨🪨🪨🪨🪨🪨🪨🪨🪨\n",
      "🪨🪨🪨🪨🪨🪨🪨🪨🪨🪨🪨🪨🪨🪨🪨🪨🪨🪨🪨🪨🪨🪨🪨🪨🪨🪨🪨🪨🪨🪨🪨🪨\n",
      "🪨🪨🪨🪨🪨🐱🪨🪨🪨🪨🪨🪨🪨🪨🪨🪨🪨🪨🪨🪨🪨🪨🪨🪨🪨🪨🪨🪨🪨🪨🪨🪨\n",
      "🪨🪨🪨🪨🪨🪨🪨🪨🪨🪨🪨🪨🪨🪨🪨🪨🪨🪨🪨🪨🪨🪨🪨🪨🪨🪨🪨🪨🪨🪨🪨🪨\n",
      "🪨🪨🪨🪨🪨🪨🪨🪨🪨🪨🪨🪨🪨🪨🪨🪨🪨🪨🪨🪨🪨🪨🪨🪨🪨🪨🪨🪨🪨🪨🪨🪨\n",
      "🪨🪨🪨🪨🪨🪨🪨🪨🪨🪨🪨🪨🪨🪨🪨🪨🪨🪨🪨🪨🪨🪨🪨🪨🪨🪨🪨🪨🪨🪨🪨🪨\n",
      "🪨🪨🪨🪨🪨🪨🪨🪨🪨🪨🪨🪨🪨🪨🪨🪨🪨🪨🪨🪨🪨🪨🪨🪨🪨🪨🪨🪨🪨🪨🪨🪨\n",
      "🪨🪨🪨🪨🪨🪨🪨🪨🪨🪨🪨🪨🪨🪨🪨🪨🪨🪨🪨🪨🪨🪨🪨🪨🪨🪨🪨🪨🪨🪨🪨🪨\n",
      "🪨🪨🪨🪨🪨🪨🪨🪨🪨🪨🪨🪨🪨🪨🪨🪨🪨🪨🪨🪨🪨🪨🪨🪨🪨🪨🪨🪨🪨🪨🪨🪨\n",
      "🪨🪨🪨🪨🪨🪨🪨🪨🪨🪨🪨🪨🪨🪨🪨🪨🪨🪨🪨🪨🪨🪨🪨🪨🪨🪨🪨🪨🪨🪨🪨🪨\n",
      "🪨🪨🪨🪨🪨🪨🪨🪨🪨🪨🪨🪨🪨🪨🪨🪨🪨🪨🪨🪨🪨🪨🪨🪨🪨🪨🪨🪨🪨🪨🪨🪨\n",
      "🪨🪨🪨🪨🪨🪨🪨🪨🪨🪨🪨🪨🪨🪨🪨🪨🪨🪨🪨🪨🪨🪨🪨🪨🪨🪨🪨🪨🪨🪨🪨🪨\n",
      "🪨🪨🪨🪨🪨🪨🪨🪨🪨🪨🪨🪨🪨🪨🪨🪨🪨🪨🪨🪨🪨🪨🪨🪨🪨🪨🪨🪨🪨🪨🪨🪨\n",
      "🪨🪨🪨🪨🪨🪨🪨🪨🪨🪨🪨🪨🪨🪨🪨🪨🪨🪨🪨🪨🪨🪨🪨🪨🪨🪨🪨🪨🪨🪨🪨🪨\n",
      "🪨🪨🪨🪨🪨🪨🪨🪨🪨🪨🪨🪨🪨🪨🪨🪨🪨🪨🪨🪨🪨🪨🪨🪨🪨🪨🪨🪨🪨🪨🪨🪨\n",
      "🪨🪨🪨🪨🪨🪨🪨🪨🪨🪨🪨🪨🪨🪨🪨🪨🪨🪨🪨🪨🪨🪨🪨🪨🪨🪨🪨🪨🪨🪨🪨🪨\n",
      "🪨🪨🪨🪨🪨🪨🪨🪨🪨🪨🪨🪨🪨🪨🪨🪨🐟🪨🪨🪨🪨🪨🪨🪨🪨🪨🪨🪨🪨🪨🪨🪨\n",
      "🪨🪨🪨🪨🪨🪨🪨🪨🪨🪨🪨🪨🪨🪨🪨🪨🪨🪨🪨🪨🪨🪨🪨🪨🪨🪨🪨🪨🪨🪨🪨🪨\n",
      "🪨🪨🪨🪨🪨🪨🪨🪨🪨🪨🪨🪨🪨🪨🪨🪨🪨🪨🪨🪨🪨🪨🪨🪨🪨🪨🪨🪨🪨🪨🪨🪨\n",
      "🪨🪨🪨🪨🪨🪨🪨🪨🪨🪨🪨🪨🪨🪨🪨🪨🪨🪨🪨🪨🪨🪨🪨🪨🪨🪨🪨🪨🪨🪨🪨🪨\n",
      "🪨🪨🪨🪨🪨🪨🪨🪨🪨🪨🪨🪨🪨🪨🪨🪨🪨🪨🪨🪨🪨🪨🪨🪨🪨🪨🪨🪨🪨🪨🪨🪨\n",
      "🪨🪨🪨🪨🪨🪨🪨🪨🪨🪨🪨🪨🪨🪨🪨🪨🪨🪨🪨🪨🪨🪨🪨🪨🪨🪨🪨🪨🪨🪨🪨🪨\n",
      "🪨🪨🪨🪨🪨🪨🪨🪨🪨🪨🪨🪨🪨🪨🪨🪨🪨🪨🪨🪨🪨🪨🪨🪨🪨🪨🪨🪨🪨🪨🪨🪨\n",
      "🪨🪨🪨🪨🪨🪨🪨🪨🪨🪨🪨🪨🪨🪨🪨🪨🪨🪨🪨🪨🪨🪨🪨🪨🪨🪨🪨🪨🪨🪨🪨🪨\n",
      "🪨🪨🪨🪨🪨🪨🪨🪨🪨🪨🪨🪨🪨🪨🪨🪨🪨🪨🪨🪨🪨🪨🪨🪨🪨🪨🪨🪨🪨🪨🪨🪨\n",
      "🪨🪨🪨🪨🪨🪨🪨🪨🪨🪨🪨🪨🪨🪨🪨🪨🪨🪨🪨🪨🪨🪨🪨🪨🪨🪨🪨🪨🪨🪨🪨🪨\n",
      "🪨🪨🪨🪨🪨🪨🪨🪨🪨🪨🪨🪨🪨🪨🪨🪨🪨🪨🪨🪨🪨🪨🪨🪨🪨🪨🪨🪨🪨🪨🪨🪨\n",
      "🪨🪨🪨🪨🪨🪨🪨🪨🪨🪨🪨🪨🪨🪨🪨🪨🪨🪨🪨🪨🪨🪨🪨🪨🪨🪨🪨🪨🪨🪨🪨🪨\n",
      "🪨🪨🪨🪨🪨🪨🪨🪨🪨🪨🪨🪨🪨🪨🪨🪨🪨🪨🪨🪨🪨🪨🪨🪨🪨🪨🪨🪨🪨🪨🪨🪨\n",
      "🪨🪨🪨🪨🪨🪨🪨🪨🪨🪨🪨🪨🪨🪨🪨🪨🪨🪨🪨🪨🪨🪨🪨🪨🪨🪨🪨🪨🪨🪨🪨🪨\n",
      "🪨🪨🪨🪨🪨🪨🪨🪨🪨🪨🪨🪨🪨🪨🪨🪨🪨🪨🪨🪨🪨🪨🪨🪨🪨🪨🪨🪨🪨🪨🪨🪨\n",
      "🪨🪨🪨🪨🪨🪨🪨🪨🪨🪨🪨🪨🪨🪨🪨🪨🪨🪨🪨🪨🪨🪨🪨🪨🪨🪨🪨🪨🪨🪨🪨🪨\n",
      "\n",
      "STATE 528\n",
      "🪨🪨🪨🪨🪨🪨🪨🪨🪨🪨🪨🪨🪨🪨🪨🪨🪨🪨🪨🪨🪨🪨🪨🪨🪨🪨🪨🪨🪨🪨🪨🪨\n",
      "🪨🪨🪨🪨🪨🪨🪨🪨🪨🪨🪨🪨🪨🪨🪨🪨🪨🪨🪨🪨🪨🪨🪨🪨🪨🪨🪨🪨🪨🪨🪨🪨\n",
      "🪨🪨🪨🪨🪨🪨🪨🪨🪨🪨🪨🪨🪨🪨🪨🪨🪨🪨🪨🪨🪨🪨🪨🪨🪨🪨🪨🪨🪨🪨🪨🪨\n",
      "🪨🪨🪨🪨🪨🪨🪨🪨🪨🪨🪨🪨🪨🪨🪨🪨🪨🪨🪨🪨🪨🪨🪨🪨🪨🪨🪨🪨🪨🪨🪨🪨\n",
      "🪨🪨🪨🪨🪨🪨🪨🪨🪨🪨🪨🪨🪨🪨🪨🪨🪨🪨🪨🪨🪨🪨🪨🪨🪨🪨🪨🪨🪨🪨🪨🪨\n",
      "🪨🪨🪨🪨🪨🪨🪨🪨🪨🪨🪨🪨🪨🪨🪨🪨🪨🪨🪨🪨🪨🪨🪨🪨🪨🪨🪨🪨🪨🪨🪨🪨\n",
      "🪨🪨🪨🪨🪨🪨🪨🪨🪨🪨🪨🪨🪨🪨🪨🪨🪨🪨🪨🪨🪨🪨🪨🪨🪨🪨🪨🪨🪨🪨🪨🪨\n",
      "🪨🪨🪨🪨🪨🪨🪨🪨🪨🪨🪨🪨🪨🪨🪨🪨🪨🪨🪨🪨🪨🪨🪨🪨🪨🪨🪨🪨🪨🪨🪨🪨\n",
      "🪨🪨🪨🪨🪨🪨🪨🪨🪨🪨🪨🪨🪨🪨🪨🪨🪨🪨🪨🪨🪨🪨🪨🪨🪨🪨🪨🪨🪨🪨🪨🪨\n",
      "🪨🪨🪨🪨🪨🪨🪨🪨🪨🪨🪨🪨🪨🪨🪨🪨🪨🪨🪨🪨🪨🪨🪨🪨🪨🪨🪨🪨🪨🪨🪨🪨\n",
      "🪨🪨🪨🪨🪨🪨🪨🪨🪨🪨🪨🪨🪨🪨🪨🪨🪨🪨🪨🪨🪨🪨🪨🪨🪨🪨🪨🪨🪨🪨🪨🪨\n",
      "🪨🪨🪨🪨🪨🪨🪨🪨🪨🪨🪨🪨🪨🪨🪨🪨🪨🪨🪨🪨🪨🪨🪨🪨🪨🪨🪨🪨🪨🪨🪨🪨\n",
      "🪨🪨🪨🪨🪨🪨🪨🪨🪨🪨🪨🪨🪨🪨🪨🪨🪨🪨🪨🪨🪨🪨🪨🪨🪨🪨🪨🪨🪨🪨🪨🪨\n",
      "🪨🪨🪨🪨🪨🪨🪨🪨🪨🪨🪨🪨🪨🪨🪨🪨🪨🪨🪨🪨🪨🪨🪨🪨🪨🪨🪨🪨🪨🪨🪨🪨\n",
      "🪨🪨🪨🪨🪨🪨🪨🪨🪨🪨🪨🪨🪨🪨🪨🪨🪨🪨🪨🪨🪨🪨🪨🪨🪨🪨🪨🪨🪨🪨🪨🪨\n",
      "🪨🪨🪨🪨🪨🪨🪨🪨🪨🪨🪨🪨🪨🪨🪨🪨🪨🪨🪨🪨🪨🪨🪨🪨🪨🪨🪨🪨🪨🪨🪨🪨\n",
      "🪨🪨🪨🪨🪨🪨🪨🪨🪨🪨🪨🪨🪨🪨🪨🪨🐱🪨🪨🪨🪨🪨🪨🪨🪨🪨🪨🪨🪨🪨🪨🪨\n",
      "🪨🪨🪨🪨🪨🪨🪨🪨🪨🪨🪨🪨🪨🪨🪨🪨🪨🪨🪨🪨🪨🪨🪨🪨🪨🪨🪨🪨🪨🪨🪨🪨\n",
      "🪨🪨🪨🪨🪨🪨🪨🪨🪨🪨🪨🪨🪨🪨🪨🪨🪨🪨🪨🪨🪨🪨🪨🪨🪨🪨🪨🪨🪨🪨🪨🪨\n",
      "🪨🪨🪨🪨🪨🪨🪨🪨🪨🪨🪨🪨🪨🪨🪨🪨🪨🪨🪨🪨🪨🪨🪨🪨🪨🪨🪨🪨🪨🪨🪨🪨\n",
      "🪨🪨🪨🪨🪨🪨🪨🪨🪨🪨🪨🪨🪨🪨🪨🪨🪨🪨🪨🪨🪨🪨🪨🪨🪨🪨🪨🪨🪨🪨🪨🪨\n",
      "🪨🪨🪨🪨🪨🪨🪨🪨🪨🪨🪨🪨🪨🪨🪨🪨🪨🪨🪨🪨🪨🪨🪨🪨🪨🪨🪨🪨🪨🪨🪨🪨\n",
      "🪨🪨🪨🪨🪨🪨🪨🪨🪨🪨🪨🪨🪨🪨🪨🪨🪨🪨🪨🪨🪨🪨🪨🪨🪨🪨🪨🪨🪨🪨🪨🪨\n",
      "🪨🪨🪨🪨🪨🪨🪨🪨🪨🪨🪨🪨🪨🪨🪨🪨🪨🪨🪨🪨🪨🪨🪨🪨🪨🪨🪨🪨🪨🪨🪨🪨\n",
      "🪨🪨🪨🪨🪨🪨🪨🪨🪨🪨🪨🪨🪨🪨🪨🪨🪨🪨🪨🪨🪨🪨🪨🪨🪨🪨🪨🪨🪨🪨🪨🪨\n",
      "🪨🪨🪨🪨🪨🪨🪨🪨🪨🪨🪨🪨🪨🪨🪨🪨🪨🪨🪨🪨🪨🪨🪨🪨🪨🪨🪨🪨🪨🪨🪨🪨\n",
      "🪨🪨🪨🪨🪨🪨🪨🪨🪨🪨🪨🪨🪨🪨🪨🪨🪨🪨🪨🪨🪨🪨🪨🪨🪨🪨🪨🪨🪨🪨🪨🪨\n",
      "🪨🪨🪨🪨🪨🪨🪨🪨🪨🪨🪨🪨🪨🪨🪨🪨🪨🪨🪨🪨🪨🪨🪨🪨🪨🪨🪨🪨🪨🪨🪨🪨\n",
      "🪨🪨🪨🪨🪨🪨🪨🪨🪨🪨🪨🪨🪨🪨🪨🪨🪨🪨🪨🪨🪨🪨🪨🪨🪨🪨🪨🪨🪨🪨🪨🪨\n",
      "🪨🪨🪨🪨🪨🪨🪨🪨🪨🪨🪨🪨🪨🪨🪨🪨🪨🪨🪨🪨🪨🪨🪨🪨🪨🪨🪨🪨🪨🪨🪨🪨\n",
      "🪨🪨🪨🪨🪨🪨🪨🪨🪨🪨🪨🪨🪨🪨🪨🪨🪨🪨🪨🪨🪨🪨🪨🪨🪨🪨🪨🪨🪨🪨🪨🪨\n",
      "🪨🪨🪨🪨🪨🪨🪨🪨🪨🪨🪨🪨🪨🪨🪨🪨🪨🪨🪨🪨🪨🪨🪨🪨🪨🪨🪨🪨🪨🪨🪨🪨\n",
      "\n",
      "STATE 1023\n",
      "🪨🪨🪨🪨🪨🪨🪨🪨🪨🪨🪨🪨🪨🪨🪨🪨🪨🪨🪨🪨🪨🪨🪨🪨🪨🪨🪨🪨🪨🪨🪨🪨\n",
      "🪨🪨🪨🪨🪨🪨🪨🪨🪨🪨🪨🪨🪨🪨🪨🪨🪨🪨🪨🪨🪨🪨🪨🪨🪨🪨🪨🪨🪨🪨🪨🪨\n",
      "🪨🪨🪨🪨🪨🪨🪨🪨🪨🪨🪨🪨🪨🪨🪨🪨🪨🪨🪨🪨🪨🪨🪨🪨🪨🪨🪨🪨🪨🪨🪨🪨\n",
      "🪨🪨🪨🪨🪨🪨🪨🪨🪨🪨🪨🪨🪨🪨🪨🪨🪨🪨🪨🪨🪨🪨🪨🪨🪨🪨🪨🪨🪨🪨🪨🪨\n",
      "🪨🪨🪨🪨🪨🪨🪨🪨🪨🪨🪨🪨🪨🪨🪨🪨🪨🪨🪨🪨🪨🪨🪨🪨🪨🪨🪨🪨🪨🪨🪨🪨\n",
      "🪨🪨🪨🪨🪨🪨🪨🪨🪨🪨🪨🪨🪨🪨🪨🪨🪨🪨🪨🪨🪨🪨🪨🪨🪨🪨🪨🪨🪨🪨🪨🪨\n",
      "🪨🪨🪨🪨🪨🪨🪨🪨🪨🪨🪨🪨🪨🪨🪨🪨🪨🪨🪨🪨🪨🪨🪨🪨🪨🪨🪨🪨🪨🪨🪨🪨\n",
      "🪨🪨🪨🪨🪨🪨🪨🪨🪨🪨🪨🪨🪨🪨🪨🪨🪨🪨🪨🪨🪨🪨🪨🪨🪨🪨🪨🪨🪨🪨🪨🪨\n",
      "🪨🪨🪨🪨🪨🪨🪨🪨🪨🪨🪨🪨🪨🪨🪨🪨🪨🪨🪨🪨🪨🪨🪨🪨🪨🪨🪨🪨🪨🪨🪨🪨\n",
      "🪨🪨🪨🪨🪨🪨🪨🪨🪨🪨🪨🪨🪨🪨🪨🪨🪨🪨🪨🪨🪨🪨🪨🪨🪨🪨🪨🪨🪨🪨🪨🪨\n",
      "🪨🪨🪨🪨🪨🪨🪨🪨🪨🪨🪨🪨🪨🪨🪨🪨🪨🪨🪨🪨🪨🪨🪨🪨🪨🪨🪨🪨🪨🪨🪨🪨\n",
      "🪨🪨🪨🪨🪨🪨🪨🪨🪨🪨🪨🪨🪨🪨🪨🪨🪨🪨🪨🪨🪨🪨🪨🪨🪨🪨🪨🪨🪨🪨🪨🪨\n",
      "🪨🪨🪨🪨🪨🪨🪨🪨🪨🪨🪨🪨🪨🪨🪨🪨🪨🪨🪨🪨🪨🪨🪨🪨🪨🪨🪨🪨🪨🪨🪨🪨\n",
      "🪨🪨🪨🪨🪨🪨🪨🪨🪨🪨🪨🪨🪨🪨🪨🪨🪨🪨🪨🪨🪨🪨🪨🪨🪨🪨🪨🪨🪨🪨🪨🪨\n",
      "🪨🪨🪨🪨🪨🪨🪨🪨🪨🪨🪨🪨🪨🪨🪨🪨🪨🪨🪨🪨🪨🪨🪨🪨🪨🪨🪨🪨🪨🪨🪨🪨\n",
      "🪨🪨🪨🪨🪨🪨🪨🪨🪨🪨🪨🪨🪨🪨🪨🪨🪨🪨🪨🪨🪨🪨🪨🪨🪨🪨🪨🪨🪨🪨🪨🪨\n",
      "🪨🪨🪨🪨🪨🪨🪨🪨🪨🪨🪨🪨🪨🪨🪨🪨🐟🪨🪨🪨🪨🪨🪨🪨🪨🪨🪨🪨🪨🪨🪨🪨\n",
      "🪨🪨🪨🪨🪨🪨🪨🪨🪨🪨🪨🪨🪨🪨🪨🪨🪨🪨🪨🪨🪨🪨🪨🪨🪨🪨🪨🪨🪨🪨🪨🪨\n",
      "🪨🪨🪨🪨🪨🪨🪨🪨🪨🪨🪨🪨🪨🪨🪨🪨🪨🪨🪨🪨🪨🪨🪨🪨🪨🪨🪨🪨🪨🪨🪨🪨\n",
      "🪨🪨🪨🪨🪨🪨🪨🪨🪨🪨🪨🪨🪨🪨🪨🪨🪨🪨🪨🪨🪨🪨🪨🪨🪨🪨🪨🪨🪨🪨🪨🪨\n",
      "🪨🪨🪨🪨🪨🪨🪨🪨🪨🪨🪨🪨🪨🪨🪨🪨🪨🪨🪨🪨🪨🪨🪨🪨🪨🪨🪨🪨🪨🪨🪨🪨\n",
      "🪨🪨🪨🪨🪨🪨🪨🪨🪨🪨🪨🪨🪨🪨🪨🪨🪨🪨🪨🪨🪨🪨🪨🪨🪨🪨🪨🪨🪨🪨🪨🪨\n",
      "🪨🪨🪨🪨🪨🪨🪨🪨🪨🪨🪨🪨🪨🪨🪨🪨🪨🪨🪨🪨🪨🪨🪨🪨🪨🪨🪨🪨🪨🪨🪨🪨\n",
      "🪨🪨🪨🪨🪨🪨🪨🪨🪨🪨🪨🪨🪨🪨🪨🪨🪨🪨🪨🪨🪨🪨🪨🪨🪨🪨🪨🪨🪨🪨🪨🪨\n",
      "🪨🪨🪨🪨🪨🪨🪨🪨🪨🪨🪨🪨🪨🪨🪨🪨🪨🪨🪨🪨🪨🪨🪨🪨🪨🪨🪨🪨🪨🪨🪨🪨\n",
      "🪨🪨🪨🪨🪨🪨🪨🪨🪨🪨🪨🪨🪨🪨🪨🪨🪨🪨🪨🪨🪨🪨🪨🪨🪨🪨🪨🪨🪨🪨🪨🪨\n",
      "🪨🪨🪨🪨🪨🪨🪨🪨🪨🪨🪨🪨🪨🪨🪨🪨🪨🪨🪨🪨🪨🪨🪨🪨🪨🪨🪨🪨🪨🪨🪨🪨\n",
      "🪨🪨🪨🪨🪨🪨🪨🪨🪨🪨🪨🪨🪨🪨🪨🪨🪨🪨🪨🪨🪨🪨🪨🪨🪨🪨🪨🪨🪨🪨🪨🪨\n",
      "🪨🪨🪨🪨🪨🪨🪨🪨🪨🪨🪨🪨🪨🪨🪨🪨🪨🪨🪨🪨🪨🪨🪨🪨🪨🪨🪨🪨🪨🪨🪨🪨\n",
      "🪨🪨🪨🪨🪨🪨🪨🪨🪨🪨🪨🪨🪨🪨🪨🪨🪨🪨🪨🪨🪨🪨🪨🪨🪨🪨🪨🪨🪨🪨🪨🪨\n",
      "🪨🪨🪨🪨🪨🪨🪨🪨🪨🪨🪨🪨🪨🪨🪨🪨🪨🪨🪨🪨🪨🪨🪨🪨🪨🪨🪨🪨🪨🪨🪨🪨\n",
      "🪨🪨🪨🪨🪨🪨🪨🪨🪨🪨🪨🪨🪨🪨🪨🪨🪨🪨🪨🪨🪨🪨🪨🪨🪨🪨🪨🪨🪨🪨🪨🐱\n",
      "\n",
      "STATE 1024\n",
      "DONE\n",
      "\n"
     ]
    }
   ],
   "execution_count": 3
  },
  {
   "cell_type": "markdown",
   "id": "521853b7-9d62-4cef-b0e9-fc6385cee5ed",
   "metadata": {
    "id": "521853b7-9d62-4cef-b0e9-fc6385cee5ed"
   },
   "source": [
    "## State Transitions\n",
    "\n",
    "Construct a transition matrix P based on the following rules.\n",
    "\n",
    "1. P should be 1025x1025.\n",
    "2. P[i,j] should hold the probability of transitioning from state i to j in one step.\n",
    "3. If the state is 1024 (the done state), the state stays the same with probability 1.\n",
    "4. If the state is 528 (cat is on the fish), the state changes to 1024 with probability 1.\n",
    "5. For any other state,\n",
    "    * There are equal probabilities of transitioning to any states representing locations that are adjacent horizontally or vertically.\n",
    "    * The probability of transitioning to a state representing a non-adjacent location is zero.\n",
    "\n",
    "For example, state 0 (x=0,y=0) has a 50% chance of transitioning to state 1 (x=1,y=0) or state 32 (x=0,y=1) and 0% chance of transitioning to state 33 (x=1,y=1)."
   ]
  },
  {
   "cell_type": "code",
   "id": "6c1d8cea-cdac-4e5c-85a4-3b44fe3a4db2",
   "metadata": {
    "id": "6c1d8cea-cdac-4e5c-85a4-3b44fe3a4db2",
    "ExecuteTime": {
     "end_time": "2025-09-25T22:02:11.631375Z",
     "start_time": "2025-09-25T22:02:11.625775Z"
    }
   },
   "source": [
    "# YOUR CHANGES HERE\n",
    "\n",
    "N = 32\n",
    "S = N*N + 1\n",
    "DONE = 1024\n",
    "FISH = 528\n",
    "\n",
    "rows,cols,vals = [],[],[]\n",
    "for i in range(0,S):\n",
    "    if i == FISH or i == DONE: continue\n",
    "    x = i % N\n",
    "    y = i // N\n",
    "    neighbors = []\n",
    "    if x > 0: neighbors += [i-1]\n",
    "    if x < N-1: neighbors += [i+1]\n",
    "    if y > 0: neighbors += [i-N]\n",
    "    if y < N-1: neighbors += [i+N]\n",
    "    p = 1.0 / len(neighbors)\n",
    "    for j in neighbors:\n",
    "        rows.append(i), cols.append(j), vals.append(p)\n",
    "#special states\n",
    "rows += [FISH]; cols += [DONE]; vals += [1.0]\n",
    "rows += [DONE]; cols += [DONE]; vals += [1.0]\n",
    "\n",
    "P = np.zeros((S, S), dtype=float)\n",
    "\n",
    "for r, c, v in zip(rows, cols, vals):\n",
    "    P[r, c] = v\n",
    "P"
   ],
   "outputs": [
    {
     "data": {
      "text/plain": [
       "array([[0.        , 0.5       , 0.        , ..., 0.        , 0.        ,\n",
       "        0.        ],\n",
       "       [0.33333333, 0.        , 0.33333333, ..., 0.        , 0.        ,\n",
       "        0.        ],\n",
       "       [0.        , 0.33333333, 0.        , ..., 0.        , 0.        ,\n",
       "        0.        ],\n",
       "       ...,\n",
       "       [0.        , 0.        , 0.        , ..., 0.        , 0.33333333,\n",
       "        0.        ],\n",
       "       [0.        , 0.        , 0.        , ..., 0.5       , 0.        ,\n",
       "        0.        ],\n",
       "       [0.        , 0.        , 0.        , ..., 0.        , 0.        ,\n",
       "        1.        ]], shape=(1025, 1025))"
      ]
     },
     "execution_count": 5,
     "metadata": {},
     "output_type": "execute_result"
    }
   ],
   "execution_count": 5
  },
  {
   "cell_type": "markdown",
   "id": "f1ccbabe-540b-4b6e-acf6-a4c17f5aa15a",
   "metadata": {
    "id": "f1ccbabe-540b-4b6e-acf6-a4c17f5aa15a"
   },
   "source": [
    "### Check that all the rows sum to one."
   ]
  },
  {
   "cell_type": "code",
   "id": "a4eb18b8-e107-4c54-bf40-19695d01c9ec",
   "metadata": {
    "id": "a4eb18b8-e107-4c54-bf40-19695d01c9ec",
    "ExecuteTime": {
     "end_time": "2025-09-25T22:02:15.042742Z",
     "start_time": "2025-09-25T22:02:15.038684Z"
    }
   },
   "source": [
    "P_check = P.sum(axis=1)\n",
    "P_check.min(), P_check.max()"
   ],
   "outputs": [
    {
     "data": {
      "text/plain": [
       "(np.float64(1.0), np.float64(1.0))"
      ]
     },
     "execution_count": 6,
     "metadata": {},
     "output_type": "execute_result"
    }
   ],
   "execution_count": 6
  },
  {
   "cell_type": "markdown",
   "id": "fd39a16b-804f-4aa7-b5e3-df73440da5c4",
   "metadata": {
    "id": "fd39a16b-804f-4aa7-b5e3-df73440da5c4"
   },
   "source": [
    "## State Rewards\n",
    "\n",
    "Construct a reward vector R based on the following rules.\n",
    "\n",
    "1. R should be 1025x1.\n",
    "2. R[i] should hold the reward after state i.\n",
    "3. The reward after state 528 (cat is on fish) is 100.\n",
    "4. The reward for all other states is 0."
   ]
  },
  {
   "cell_type": "code",
   "id": "8f883f4d-dd6d-4fac-a2da-734443e7aaf8",
   "metadata": {
    "id": "8f883f4d-dd6d-4fac-a2da-734443e7aaf8",
    "ExecuteTime": {
     "end_time": "2025-09-25T22:11:22.975226Z",
     "start_time": "2025-09-25T22:11:22.969978Z"
    }
   },
   "source": [
    "# YOUR CHANGES HERE\n",
    "N=32\n",
    "S = N*N + 1\n",
    "R = np.zeros((S,1),dtype=int)\n",
    "R[16*32+16+1][0] = 100\n",
    "R.shape"
   ],
   "outputs": [
    {
     "data": {
      "text/plain": [
       "(1025, 1)"
      ]
     },
     "execution_count": 15,
     "metadata": {},
     "output_type": "execute_result"
    }
   ],
   "execution_count": 15
  },
  {
   "cell_type": "markdown",
   "id": "28cbbadb-b617-45b2-9193-373c20bcc76e",
   "metadata": {
    "id": "28cbbadb-b617-45b2-9193-373c20bcc76e"
   },
   "source": [
    "## Expected State Values\n",
    "\n",
    "Compute the value function $v_*$ for each state using $\\gamma=0.9$ and save it in $v$."
   ]
  },
  {
   "cell_type": "code",
   "id": "4bd520e0-2791-4153-9291-848248e6b833",
   "metadata": {
    "id": "4bd520e0-2791-4153-9291-848248e6b833",
    "ExecuteTime": {
     "end_time": "2025-09-25T22:32:29.557167Z",
     "start_time": "2025-09-25T22:32:29.534826Z"
    }
   },
   "source": [
    "# YOUR CHANGES HERE\n",
    "gamma = 0.9\n",
    "S = P.shape[0]\n",
    "I = np.eye(S)\n",
    "v = np.linalg.solve(I-gamma*P, R)\n",
    "v = v.reshape(-1,1)\n"
   ],
   "outputs": [],
   "execution_count": 35
  },
  {
   "cell_type": "markdown",
   "id": "32ab1062-699c-4510-a779-ca77fcfbbdc2",
   "metadata": {
    "id": "32ab1062-699c-4510-a779-ca77fcfbbdc2"
   },
   "source": [
    "### Check special states"
   ]
  },
  {
   "cell_type": "code",
   "id": "ae1e3b43-44f1-47da-a299-5a14ee7ce84c",
   "metadata": {
    "id": "ae1e3b43-44f1-47da-a299-5a14ee7ce84c",
    "ExecuteTime": {
     "end_time": "2025-09-25T22:13:20.603983Z",
     "start_time": "2025-09-25T22:13:20.600101Z"
    }
   },
   "source": [
    "# done state\n",
    "v[1024]"
   ],
   "outputs": [
    {
     "data": {
      "text/plain": [
       "array([0.])"
      ]
     },
     "execution_count": 19,
     "metadata": {},
     "output_type": "execute_result"
    }
   ],
   "execution_count": 19
  },
  {
   "cell_type": "code",
   "id": "5f812386-714e-4986-9cc8-2963b05d8d72",
   "metadata": {
    "id": "5f812386-714e-4986-9cc8-2963b05d8d72",
    "ExecuteTime": {
     "end_time": "2025-09-25T22:13:25.756143Z",
     "start_time": "2025-09-25T22:13:25.753018Z"
    }
   },
   "source": [
    "# cat arrived at fish\n",
    "v[528]"
   ],
   "outputs": [
    {
     "data": {
      "text/plain": [
       "array([0.])"
      ]
     },
     "execution_count": 20,
     "metadata": {},
     "output_type": "execute_result"
    }
   ],
   "execution_count": 20
  },
  {
   "cell_type": "code",
   "id": "e485e356-143e-45a0-8d0d-2c4b5a6eaa33",
   "metadata": {
    "id": "e485e356-143e-45a0-8d0d-2c4b5a6eaa33",
    "ExecuteTime": {
     "end_time": "2025-09-25T22:13:27.738689Z",
     "start_time": "2025-09-25T22:13:27.735886Z"
    }
   },
   "source": [
    "# cat next to fish\n",
    "v[529]"
   ],
   "outputs": [
    {
     "data": {
      "text/plain": [
       "array([127.82346031])"
      ]
     },
     "execution_count": 21,
     "metadata": {},
     "output_type": "execute_result"
    }
   ],
   "execution_count": 21
  },
  {
   "cell_type": "code",
   "id": "c14d3d71-fb46-48d9-9711-7de1ff37971d",
   "metadata": {
    "id": "c14d3d71-fb46-48d9-9711-7de1ff37971d",
    "ExecuteTime": {
     "end_time": "2025-09-25T22:13:30.671743Z",
     "start_time": "2025-09-25T22:13:30.669339Z"
    }
   },
   "source": [
    "# cat farther from fish\n",
    "v[530]"
   ],
   "outputs": [
    {
     "data": {
      "text/plain": [
       "array([43.38715904])"
      ]
     },
     "execution_count": 22,
     "metadata": {},
     "output_type": "execute_result"
    }
   ],
   "execution_count": 22
  },
  {
   "cell_type": "markdown",
   "id": "31b2a49d-835c-454f-bbad-666eae51eba3",
   "metadata": {
    "id": "31b2a49d-835c-454f-bbad-666eae51eba3"
   },
   "source": [
    "## Steady State Distribution\n",
    "\n",
    "Use repeated exponentiation to compute the steady state distribution of this Markov reward process.\n",
    "That is, take $P$ to a high enough power that the probabilities in each row are identical.\n",
    "Set `ss` to be a vector of 1025 probabilities for that steady state distribution."
   ]
  },
  {
   "cell_type": "code",
   "id": "b64eddc5-7cc1-448c-a941-9f229f20c98b",
   "metadata": {
    "id": "b64eddc5-7cc1-448c-a941-9f229f20c98b",
    "ExecuteTime": {
     "end_time": "2025-09-25T22:26:12.077736Z",
     "start_time": "2025-09-25T22:24:48.122254Z"
    }
   },
   "source": [
    "# YOUR CHANGES HERE\n",
    "S = P.shape[0]\n",
    "ss = np.ones(S) / S\n",
    "\n",
    "tol = 1e-12\n",
    "max_iter = 100000\n",
    "\n",
    "for _ in range(max_iter):\n",
    "    ss_next = ss @ P\n",
    "    if np.max(np.abs(ss_next - ss)) < tol:\n",
    "        ss = ss_next\n",
    "        break\n",
    "    ss = ss_next\n",
    "\n",
    "ss"
   ],
   "outputs": [
    {
     "data": {
      "text/plain": [
       "array([1.35657931e-12, 2.03320058e-12, 2.03152081e-12, ...,\n",
       "       1.93325797e-12, 1.28989623e-12, 9.99999998e-01], shape=(1025,))"
      ]
     },
     "execution_count": 32,
     "metadata": {},
     "output_type": "execute_result"
    }
   ],
   "execution_count": 32
  },
  {
   "cell_type": "markdown",
   "id": "90e52479-1168-49d0-986b-22ec119eddab",
   "metadata": {
    "id": "90e52479-1168-49d0-986b-22ec119eddab"
   },
   "source": [
    "## Steady State Explanation\n",
    "\n",
    "In the cell below, describe the probabilities in `ss` as concisely as possible, and explain why they are that way."
   ]
  },
  {
   "cell_type": "markdown",
   "id": "c6e940d1-ef5e-4f8e-b2f6-0d666554d89d",
   "metadata": {
    "id": "c6e940d1-ef5e-4f8e-b2f6-0d666554d89d"
   },
   "source": [
    "YOUR ANSWER HERE"
   ]
  }
 ],
 "metadata": {
  "kernelspec": {
   "display_name": "Python 3 (ipykernel)",
   "language": "python",
   "name": "python3"
  },
  "language_info": {
   "codemirror_mode": {
    "name": "ipython",
    "version": 3
   },
   "file_extension": ".py",
   "mimetype": "text/x-python",
   "name": "python",
   "nbconvert_exporter": "python",
   "pygments_lexer": "ipython3",
   "version": "3.12.11"
  },
  "colab": {
   "provenance": []
  }
 },
 "nbformat": 4,
 "nbformat_minor": 5
}
