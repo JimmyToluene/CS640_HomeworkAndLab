{
  "nbformat": 4,
  "nbformat_minor": 0,
  "metadata": {
    "colab": {
      "provenance": []
    },
    "kernelspec": {
      "name": "python3",
      "display_name": "Python 3"
    },
    "language_info": {
      "name": "python"
    }
  },
  "cells": [
    {
      "cell_type": "markdown",
      "source": [
        "# CS 640 Homework 3 - Planning with Search"
      ],
      "metadata": {
        "id": "gZ5s3i7c6JUG"
      }
    },
    {
      "cell_type": "markdown",
      "source": [
        "In this homework, you will implement a planning algorithm based on search to play a simplified version of the [Snake](https://en.wikipedia.org/wiki/Snake_(video_game_genre)) arcade game.\n",
        "In this game, you control the movement of a snake and the goal is to eat food on the board.\n",
        "The snake moves by directing its head and the rest of the body follows the head.\n",
        "The goal is to move the head to the food once.\n",
        "Like in the arcade game, moving the snake into itself results in a failure.\n"
      ],
      "metadata": {
        "id": "rjyasp0mKwYI"
      }
    },
    {
      "cell_type": "markdown",
      "source": [
        "## Instructions\n",
        "\n",
        "An implementation of this game is below which provides a class to represent a current state of the game.\n",
        "You should not need to change this class.\n",
        "\n",
        "1. Implement the `plan` function further down to pick a minimum sequence of moves for the snake to get the food and achieve the goal.\n",
        "2. Run the five tests at the bottom of this notebook to demonstrate your `plan` function.\n",
        "\n",
        "Note that these tests check if your plan picks legal moves and achieves the goal.\n",
        "These tests will not check if your plan used the minimum number of moves for each starting state, but that will still be part of your grade.\n",
        "\n",
        "**Submit your updated notebook in Gradescope when you are done.**"
      ],
      "metadata": {
        "id": "nKOxZ_uJLVVl"
      }
    },
    {
      "cell_type": "markdown",
      "source": [
        "## Baby Snake Game Implementation"
      ],
      "metadata": {
        "id": "5r4Z9F00LvQr"
      }
    },
    {
      "cell_type": "code",
      "execution_count": 12,
      "metadata": {
        "id": "tBWRic4leYDV",
        "colab": {
          "base_uri": "https://localhost:8080/"
        },
        "outputId": "a124eb43-3bfb-4ce0-a54d-363df445e205"
      },
      "outputs": [
        {
          "output_type": "stream",
          "name": "stdout",
          "text": [
            "TEST STATE\n",
            ".....\n",
            ".S0..\n",
            ".....\n",
            "...F.\n",
            ".....\n",
            "SUCCESSOR 0\n",
            ".S...\n",
            ".0...\n",
            ".....\n",
            "...F.\n",
            ".....\n",
            "SUCCESSOR 1\n",
            ".....\n",
            ".0...\n",
            ".S...\n",
            "...F.\n",
            ".....\n",
            "SUCCESSOR 2\n",
            ".....\n",
            "S0...\n",
            ".....\n",
            "...F.\n",
            ".....\n",
            "SUCCESSOR 3\n",
            ".....\n",
            ".0S..\n",
            ".....\n",
            "...F.\n",
            ".....\n"
          ]
        }
      ],
      "source": [
        "DIRECTIONS = {\"up\": (-1, 0), \"down\": (1, 0), \"left\": (0, -1), \"right\": (0, 1)}\n",
        "\n",
        "class BabySnakeState(object):\n",
        "    def __init__(self, food_pos, snake_pos):\n",
        "        self.food_pos = tuple(food_pos)\n",
        "        self.snake_pos = tuple(map(tuple, snake_pos))\n",
        "\n",
        "        assert len(self.food_pos) == 2\n",
        "\n",
        "        assert len(self.snake_pos) > 0\n",
        "        assert all(len(p) == 2 for p in self.snake_pos)\n",
        "\n",
        "    def __str__(self):\n",
        "        lines = [['.'] * 5 for _ in range(5)]\n",
        "\n",
        "        lines[self.food_pos[0]][self.food_pos[1]] = 'F'\n",
        "\n",
        "        snake_head = self.snake_pos[0]\n",
        "        snake_body = self.snake_pos[1:]\n",
        "\n",
        "        lines[snake_head[0]][snake_head[1]] = 'S'\n",
        "        for (i, body_part) in enumerate(snake_body):\n",
        "            lines[body_part[0]][body_part[1]] = chr(ord('0') + i % 10)\n",
        "\n",
        "        return '\\n'.join([''.join(line) for line in lines])\n",
        "\n",
        "    def is_goal(self):\n",
        "        return self.food_pos in self.snake_pos\n",
        "\n",
        "    def get_successors(self):\n",
        "        successors = []\n",
        "        for direction in DIRECTIONS:\n",
        "            new_state = self.move(direction)\n",
        "            if new_state is not None:\n",
        "                successors.append(new_state)\n",
        "        return successors\n",
        "\n",
        "    def move(self, direction):\n",
        "        assert direction in DIRECTIONS\n",
        "\n",
        "        new_head = (self.snake_pos[0][0] + DIRECTIONS[direction][0],\n",
        "                    self.snake_pos[0][1] + DIRECTIONS[direction][1])\n",
        "        new_head = tuple(p % 5 for p in new_head)\n",
        "\n",
        "        if new_head in self.snake_pos[:-1]:\n",
        "            # snake collided with self\n",
        "            return None\n",
        "\n",
        "        new_snake_pos = (new_head,) + self.snake_pos[:-1]\n",
        "\n",
        "        return BabySnakeState(self.food_pos, new_snake_pos)\n",
        "\n",
        "test_state = BabySnakeState([3, 3], [[1, 1], [1, 2]])\n",
        "print(\"TEST STATE\")\n",
        "print(test_state)\n",
        "for (i, s) in enumerate(test_state.get_successors()):\n",
        "    print(\"SUCCESSOR\", i)\n",
        "    print(s)"
      ]
    },
    {
      "cell_type": "markdown",
      "source": [
        "## Random Walk through State Space"
      ],
      "metadata": {
        "id": "0jVBC9NM9zlc"
      }
    },
    {
      "cell_type": "code",
      "source": [
        "import random"
      ],
      "metadata": {
        "id": "aamo7Xkd-Dp-"
      },
      "execution_count": 2,
      "outputs": []
    },
    {
      "cell_type": "code",
      "source": [
        "random.seed(640)\n",
        "\n",
        "s = test_state\n",
        "for i in range(100):\n",
        "    print(\"RANDOM WALK\", i)\n",
        "    print(s)\n",
        "    if s.is_goal():\n",
        "        break\n",
        "\n",
        "    s = random.choice(s.get_successors())"
      ],
      "metadata": {
        "colab": {
          "base_uri": "https://localhost:8080/"
        },
        "id": "1WuIbWUh93Vk",
        "outputId": "536e7c9f-a755-463a-b8a5-5c9a78d2eba7"
      },
      "execution_count": 3,
      "outputs": [
        {
          "output_type": "stream",
          "name": "stdout",
          "text": [
            "RANDOM WALK 0\n",
            ".....\n",
            ".S0..\n",
            ".....\n",
            "...F.\n",
            ".....\n",
            "RANDOM WALK 1\n",
            ".S...\n",
            ".0...\n",
            ".....\n",
            "...F.\n",
            ".....\n",
            "RANDOM WALK 2\n",
            ".0S..\n",
            ".....\n",
            ".....\n",
            "...F.\n",
            ".....\n",
            "RANDOM WALK 3\n",
            "..0..\n",
            "..S..\n",
            ".....\n",
            "...F.\n",
            ".....\n",
            "RANDOM WALK 4\n",
            "..S..\n",
            "..0..\n",
            ".....\n",
            "...F.\n",
            ".....\n",
            "RANDOM WALK 5\n",
            ".S0..\n",
            ".....\n",
            ".....\n",
            "...F.\n",
            ".....\n",
            "RANDOM WALK 6\n",
            ".0...\n",
            ".S...\n",
            ".....\n",
            "...F.\n",
            ".....\n",
            "RANDOM WALK 7\n",
            ".....\n",
            ".0...\n",
            ".S...\n",
            "...F.\n",
            ".....\n",
            "RANDOM WALK 8\n",
            ".....\n",
            ".....\n",
            "S0...\n",
            "...F.\n",
            ".....\n",
            "RANDOM WALK 9\n",
            ".....\n",
            ".....\n",
            "0S...\n",
            "...F.\n",
            ".....\n",
            "RANDOM WALK 10\n",
            ".....\n",
            ".....\n",
            ".0S..\n",
            "...F.\n",
            ".....\n",
            "RANDOM WALK 11\n",
            ".....\n",
            ".....\n",
            "..0S.\n",
            "...F.\n",
            ".....\n",
            "RANDOM WALK 12\n",
            ".....\n",
            ".....\n",
            "..S0.\n",
            "...F.\n",
            ".....\n",
            "RANDOM WALK 13\n",
            ".....\n",
            ".....\n",
            "..0S.\n",
            "...F.\n",
            ".....\n",
            "RANDOM WALK 14\n",
            ".....\n",
            ".....\n",
            "...0.\n",
            "...S.\n",
            ".....\n"
          ]
        }
      ]
    },
    {
      "cell_type": "markdown",
      "source": [
        "## Write a Planning Function\n",
        "\n",
        "The goal of this little snake game is to control the snake's movement so that the food is in the snake.\n",
        "Modify the `plan` function below so that the snake gets the food in the minimum number of moves."
      ],
      "metadata": {
        "id": "GXM_YzLN-_oC"
      }
    },
    {
      "cell_type": "code",
      "source": [
        "from collections import deque\n",
        "\n",
        "def plan(state):\n",
        "    moves = list(DIRECTIONS.keys())  # [\"up\", \"down\", \"left\", \"right\"]\n",
        "\n",
        "    queue = deque([(state, [])])\n",
        "    visited = set([state.snake_pos])  # store snake positions, hashable\n",
        "\n",
        "    while queue:\n",
        "        current_state, path = queue.popleft()\n",
        "\n",
        "        # Goal check\n",
        "        if current_state.is_goal():\n",
        "            return path\n",
        "\n",
        "        # Explore neighbors\n",
        "        for move in moves:\n",
        "            next_state = current_state.move(move)\n",
        "            if next_state and next_state.snake_pos not in visited:\n",
        "                visited.add(next_state.snake_pos)\n",
        "                queue.append((next_state, path + [move]))\n",
        "\n",
        "    return []  # no solution found\n",
        "\n"
      ],
      "metadata": {
        "id": "UUQE9cSV_SuL"
      },
      "execution_count": 13,
      "outputs": []
    },
    {
      "cell_type": "code",
      "source": [
        "plan(test_state)"
      ],
      "metadata": {
        "colab": {
          "base_uri": "https://localhost:8080/"
        },
        "id": "_DFQIS1a_vu1",
        "outputId": "f7a7ec75-cedc-45db-c26e-c51b429602ec"
      },
      "execution_count": 14,
      "outputs": [
        {
          "output_type": "execute_result",
          "data": {
            "text/plain": [
              "['down', 'down', 'right', 'right']"
            ]
          },
          "metadata": {},
          "execution_count": 14
        }
      ]
    },
    {
      "cell_type": "markdown",
      "source": [
        "### Tests\n",
        "\n",
        "Run the following tests to check the results of your `plan` function.\n",
        "These tests will check if your plan picks legal moves and stops after getting the food.\n",
        "They will not check if your plan has the minimum number of moves, but you will be graded on that."
      ],
      "metadata": {
        "id": "tYD1ki76E3lv"
      }
    },
    {
      "cell_type": "code",
      "source": [
        "def test(food_pos, snake_pos):\n",
        "    state = BabySnakeState(food_pos, snake_pos)\n",
        "    print(\"INITIAL STATE\")\n",
        "    print(state)\n",
        "    print(\"\")\n",
        "\n",
        "    p = plan(state)\n",
        "    for m in p:\n",
        "        # make sure not moving after reaching goal\n",
        "        assert state.is_goal() == False\n",
        "\n",
        "        state = state.move(m)\n",
        "        # make sure move was legal\n",
        "        assert state is not None\n",
        "\n",
        "        print(\"NEXT MOVE:\", m)\n",
        "        print(state)\n",
        "        print(\"\")\n",
        "\n",
        "    # make sure stopped at goal\n",
        "    assert state.is_goal()\n",
        "\n",
        "    print(f\"Goal achieved with {len(p)} moves.\")"
      ],
      "metadata": {
        "id": "TfTLwO-6E52b"
      },
      "execution_count": 15,
      "outputs": []
    },
    {
      "cell_type": "markdown",
      "source": [
        "#### Test 1"
      ],
      "metadata": {
        "id": "ISpvFOlhJ_hF"
      }
    },
    {
      "cell_type": "code",
      "source": [
        "test(food_pos=(0, 0), snake_pos=[(1, 0), (1, 1), (1, 2), (1, 3)])"
      ],
      "metadata": {
        "colab": {
          "base_uri": "https://localhost:8080/"
        },
        "id": "RkBLx5KjFiFD",
        "outputId": "503fbc89-3359-4580-b4f6-e0ac4476da72"
      },
      "execution_count": 16,
      "outputs": [
        {
          "output_type": "stream",
          "name": "stdout",
          "text": [
            "INITIAL STATE\n",
            "F....\n",
            "S012.\n",
            ".....\n",
            ".....\n",
            ".....\n",
            "\n",
            "NEXT MOVE: up\n",
            "S....\n",
            "012..\n",
            ".....\n",
            ".....\n",
            ".....\n",
            "\n",
            "Goal achieved with 1 moves.\n"
          ]
        }
      ]
    },
    {
      "cell_type": "markdown",
      "source": [
        "#### Test 2"
      ],
      "metadata": {
        "id": "fYtvMKPnKB9j"
      }
    },
    {
      "cell_type": "code",
      "source": [
        "test(food_pos=(4, 2), snake_pos=[(1, 0), (1, 1), (1, 2), (1, 3)])"
      ],
      "metadata": {
        "colab": {
          "base_uri": "https://localhost:8080/"
        },
        "id": "uvbhQyv6Gezx",
        "outputId": "d8138702-3b47-4335-8436-b27ef54710a6"
      },
      "execution_count": 17,
      "outputs": [
        {
          "output_type": "stream",
          "name": "stdout",
          "text": [
            "INITIAL STATE\n",
            ".....\n",
            "S012.\n",
            ".....\n",
            ".....\n",
            "..F..\n",
            "\n",
            "NEXT MOVE: up\n",
            "S....\n",
            "012..\n",
            ".....\n",
            ".....\n",
            "..F..\n",
            "\n",
            "NEXT MOVE: up\n",
            "0....\n",
            "12...\n",
            ".....\n",
            ".....\n",
            "S.F..\n",
            "\n",
            "NEXT MOVE: right\n",
            "1....\n",
            "2....\n",
            ".....\n",
            ".....\n",
            "0SF..\n",
            "\n",
            "NEXT MOVE: right\n",
            "2....\n",
            ".....\n",
            ".....\n",
            ".....\n",
            "10S..\n",
            "\n",
            "Goal achieved with 4 moves.\n"
          ]
        }
      ]
    },
    {
      "cell_type": "markdown",
      "source": [
        "#### Test 3"
      ],
      "metadata": {
        "id": "XQn-ksgtKDu8"
      }
    },
    {
      "cell_type": "code",
      "source": [
        "test(food_pos=(1, 4), snake_pos=[(1, 0), (1, 1), (1, 2), (1, 3)])"
      ],
      "metadata": {
        "colab": {
          "base_uri": "https://localhost:8080/"
        },
        "id": "BeUAL8PNGo-d",
        "outputId": "1fa6e08d-3dbc-48a3-af03-294aa9ce21df"
      },
      "execution_count": 18,
      "outputs": [
        {
          "output_type": "stream",
          "name": "stdout",
          "text": [
            "INITIAL STATE\n",
            ".....\n",
            "S012F\n",
            ".....\n",
            ".....\n",
            ".....\n",
            "\n",
            "NEXT MOVE: left\n",
            ".....\n",
            "012.S\n",
            ".....\n",
            ".....\n",
            ".....\n",
            "\n",
            "Goal achieved with 1 moves.\n"
          ]
        }
      ]
    },
    {
      "cell_type": "markdown",
      "source": [
        "#### Test 4"
      ],
      "metadata": {
        "id": "WAvWpYuyKE2_"
      }
    },
    {
      "cell_type": "code",
      "source": [
        "test(food_pos=(2, 2), snake_pos=[(3,4), (3, 3), (3, 2), (3, 1), (2, 1), (1, 1), (1, 2), (1, 3), (2, 3)])"
      ],
      "metadata": {
        "colab": {
          "base_uri": "https://localhost:8080/"
        },
        "id": "UcWIQtMsG7C-",
        "outputId": "b254d287-83e6-4452-ab31-917e99e4cc83"
      },
      "execution_count": 19,
      "outputs": [
        {
          "output_type": "stream",
          "name": "stdout",
          "text": [
            "INITIAL STATE\n",
            ".....\n",
            ".456.\n",
            ".3F7.\n",
            ".210S\n",
            ".....\n",
            "\n",
            "NEXT MOVE: up\n",
            ".....\n",
            ".567.\n",
            ".4F.S\n",
            ".3210\n",
            ".....\n",
            "\n",
            "NEXT MOVE: left\n",
            ".....\n",
            ".67..\n",
            ".5FS0\n",
            ".4321\n",
            ".....\n",
            "\n",
            "NEXT MOVE: left\n",
            ".....\n",
            ".7...\n",
            ".6S01\n",
            ".5432\n",
            ".....\n",
            "\n",
            "Goal achieved with 3 moves.\n"
          ]
        }
      ]
    },
    {
      "cell_type": "markdown",
      "source": [
        "#### Test 5"
      ],
      "metadata": {
        "id": "U5o2tlWVKF2W"
      }
    },
    {
      "cell_type": "code",
      "source": [
        "test(food_pos=(2,2), snake_pos=[(4, 1), (3, 1), (2, 1), (1, 1), (1, 2), (1, 3), (2, 3), (3, 3), (3, 2), (4, 2), (4, 3)])"
      ],
      "metadata": {
        "colab": {
          "base_uri": "https://localhost:8080/"
        },
        "id": "KB2SGk99IWf3",
        "outputId": "4cb50652-0518-410a-9f60-c3903fa8b05d"
      },
      "execution_count": 20,
      "outputs": [
        {
          "output_type": "stream",
          "name": "stdout",
          "text": [
            "INITIAL STATE\n",
            ".....\n",
            ".234.\n",
            ".1F5.\n",
            ".076.\n",
            ".S89.\n",
            "\n",
            "NEXT MOVE: down\n",
            ".S...\n",
            ".345.\n",
            ".2F6.\n",
            ".187.\n",
            ".09..\n",
            "\n",
            "NEXT MOVE: right\n",
            ".0S..\n",
            ".456.\n",
            ".3F7.\n",
            ".298.\n",
            ".1...\n",
            "\n",
            "NEXT MOVE: up\n",
            ".10..\n",
            ".567.\n",
            ".4F8.\n",
            ".3.9.\n",
            ".2S..\n",
            "\n",
            "NEXT MOVE: up\n",
            ".21..\n",
            ".678.\n",
            ".5F9.\n",
            ".4S..\n",
            ".30..\n",
            "\n",
            "NEXT MOVE: up\n",
            ".32..\n",
            ".789.\n",
            ".6S..\n",
            ".50..\n",
            ".41..\n",
            "\n",
            "Goal achieved with 5 moves.\n"
          ]
        }
      ]
    }
  ]
}