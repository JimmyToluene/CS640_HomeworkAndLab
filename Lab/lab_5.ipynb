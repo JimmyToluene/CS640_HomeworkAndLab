{
 "cells": [
  {
   "cell_type": "markdown",
   "id": "a3e40e43",
   "metadata": {},
   "source": [
    "# MDP For Maze Solving\n",
    "\n",
    "Given: Randomly generated Maze defined by an nxn matrix with either 1 or inf. Indicating whether you can or cannot travel to that position.\n",
    "\n",
    "Find a shortest path from origin (0,0) to end (n-1,n-1)\n",
    "\n",
    "## Submission Guide:\n",
    "* Do not modify function signature.\n",
    "* Make sure you are not using global variables."
   ]
  },
  {
   "cell_type": "markdown",
   "id": "9c6220dd",
   "metadata": {},
   "source": [
    "# Maze Generation (Do Not Modify)"
   ]
  },
  {
   "cell_type": "code",
   "execution_count": 1,
   "id": "0bf0cc27",
   "metadata": {},
   "outputs": [],
   "source": [
    "import numpy as np\n",
    "import sys\n",
    "np.set_printoptions(threshold=sys.maxsize)\n",
    "np.random.seed(42)\n",
    "\n",
    "def generate_maze(maze_size=8):\n",
    "    maze = np.random.choice([1, np.inf], size=(maze_size, maze_size), p=[0.6, 0.4])\n",
    "\n",
    "    # Ensure a path from (0,0) to (255,255)\n",
    "    x, y = 0, 0\n",
    "    maze[x, y] = 1\n",
    "    while x < maze_size - 1 or y < maze_size - 1:\n",
    "        if x < maze_size - 1 and (y == maze_size - 1 or np.random.rand() < 0.5):\n",
    "            x += 1\n",
    "        else:\n",
    "            y += 1\n",
    "        maze[x, y] = 1\n",
    "    maze[maze_size - 1, maze_size - 1] = 1\n",
    "    return maze"
   ]
  },
  {
   "cell_type": "code",
   "execution_count": 2,
   "id": "cc0fd63c",
   "metadata": {},
   "outputs": [],
   "source": [
    "def get_char(maze, x, y):\n",
    "    maze_size = maze.shape[0]\n",
    "    if x == y == 0:\n",
    "        return 'S'  # Start\n",
    "    elif x == maze_size - 1 and y == maze_size - 1:\n",
    "        return 'E'  # End\n",
    "    elif maze[x, y] == 1:\n",
    "        return '.'  # Open path\n",
    "    elif maze[x,y] == 0.5:\n",
    "        return '*'  # Path taken\n",
    "    else:\n",
    "        return '#'\n",
    "        \n",
    "def print_maze(maze,highlight=-1):\n",
    "    maze_size = maze.shape[0]\n",
    "    print(\"↓\")\n",
    "    for i in range(maze_size):\n",
    "        for j in range(maze_size):\n",
    "            if highlight!=-1 and highlight==(i*maze_size+j):\n",
    "                    print(\"X\", end=' ')\n",
    "            else:\n",
    "                print(get_char(maze, i, j), end=' ')\n",
    "            if i == maze_size - 1 and j == maze_size - 1:\n",
    "                print(\"→\", end=' ')\n",
    "        print()\n",
    "    print()\n",
    "\n",
    "def print_np_array(arr):\n",
    "    for row in arr:\n",
    "        print(' '.join(f\"{val:6.1f}\" for val in row))\n",
    "    print()\n"
   ]
  },
  {
   "cell_type": "code",
   "execution_count": 3,
   "id": "55f1c5d3",
   "metadata": {},
   "outputs": [
    {
     "name": "stdout",
     "output_type": "stream",
     "text": [
      "↓\n",
      "S . . . . . . # # # . # # . . . \n",
      ". . . . . . . . . # . . . . # . \n",
      ". # # # . . . . . . . # . # . . \n",
      ". . # # # # . # . . . . . . # . \n",
      ". . . # . # # . . # . . . . . . \n",
      "# # . . . . # # # . . # # . # . \n",
      ". . . . . # . . # . . # . . . . \n",
      "# # # # # . # . # # . . . . # . \n",
      ". . . . . . # . . # . # # . . . \n",
      ". . # . . . # . . . # . # # . . \n",
      ". # # . . # . . . . # . . . # . \n",
      "# . # . . . # # . # # . . . . . \n",
      "# # . . # # # # # . . # # . . . \n",
      ". . . # # . # . . # # # # . . . \n",
      ". . # . # # # . . . . # . . # . \n",
      "# # # . . # . # # # . . # . . E → \n",
      "\n"
     ]
    }
   ],
   "source": [
    "maze = generate_maze(maze_size=16)\n",
    "print_maze(maze)"
   ]
  },
  {
   "cell_type": "code",
   "execution_count": 4,
   "id": "3e93910c",
   "metadata": {},
   "outputs": [
    {
     "name": "stdout",
     "output_type": "stream",
     "text": [
      "Row sums (should be 1.0 for valid states): 0.0 1.0\n",
      "Transition matrix P shape: (256, 256)\n",
      "Reward vector R: [ -1.  -1.  -1.  -1.  -1.  -1.  -1.  -1.  -1.  -1.  -1.  -1.  -1.  -1.\n",
      "  -1.  -1.  -1.  -1.  -1.  -1.  -1.  -1.  -1.  -1.  -1.  -1.  -1.  -1.\n",
      "  -1.  -1.  -1.  -1.  -1.  -1.  -1.  -1.  -1.  -1.  -1.  -1.  -1.  -1.\n",
      "  -1.  -1.  -1.  -1.  -1.  -1.  -1.  -1.  -1.  -1.  -1.  -1.  -1.  -1.\n",
      "  -1.  -1.  -1.  -1.  -1.  -1.  -1.  -1.  -1.  -1.  -1.  -1.  -1.  -1.\n",
      "  -1.  -1.  -1.  -1.  -1.  -1.  -1.  -1.  -1.  -1.  -1.  -1.  -1.  -1.\n",
      "  -1.  -1.  -1.  -1.  -1.  -1.  -1.  -1.  -1.  -1.  -1.  -1.  -1.  -1.\n",
      "  -1.  -1.  -1.  -1.  -1.  -1.  -1.  -1.  -1.  -1.  -1.  -1.  -1.  -1.\n",
      "  -1.  -1.  -1.  -1.  -1.  -1.  -1.  -1.  -1.  -1.  -1.  -1.  -1.  -1.\n",
      "  -1.  -1.  -1.  -1.  -1.  -1.  -1.  -1.  -1.  -1.  -1.  -1.  -1.  -1.\n",
      "  -1.  -1.  -1.  -1.  -1.  -1.  -1.  -1.  -1.  -1.  -1.  -1.  -1.  -1.\n",
      "  -1.  -1.  -1.  -1.  -1.  -1.  -1.  -1.  -1.  -1.  -1.  -1.  -1.  -1.\n",
      "  -1.  -1.  -1.  -1.  -1.  -1.  -1.  -1.  -1.  -1.  -1.  -1.  -1.  -1.\n",
      "  -1.  -1.  -1.  -1.  -1.  -1.  -1.  -1.  -1.  -1.  -1.  -1.  -1.  -1.\n",
      "  -1.  -1.  -1.  -1.  -1.  -1.  -1.  -1.  -1.  -1.  -1.  -1.  -1.  -1.\n",
      "  -1.  -1.  -1.  -1.  -1.  -1.  -1.  -1.  -1.  -1.  -1.  -1.  -1.  -1.\n",
      "  -1.  -1.  -1.  -1.  -1.  -1.  -1.  -1.  -1.  -1.  -1.  -1.  -1.  -1.\n",
      "  -1.  -1.  -1.  -1.  -1.  -1.  -1.  -1.  -1.  -1.  -1.  -1.  -1.  -1.\n",
      "  -1.  -1.  -1. 100.]\n"
     ]
    }
   ],
   "source": [
    "# Convert maze to state transition matrix\n",
    "def generate_PR(maze):\n",
    "    maze_size = maze.shape[0]\n",
    "    num_states = maze_size * maze_size\n",
    "    P = np.zeros((num_states, num_states))\n",
    "    for i in range(maze_size):\n",
    "        for j in range(maze_size):\n",
    "            if maze[i, j] == 1:\n",
    "                state = i * maze_size + j\n",
    "                for di, dj in [(-1, 0), (1, 0), (0, -1), (0, 1)]:\n",
    "                    ni, nj = i + di, j + dj\n",
    "                    if 0 <= ni < maze_size and 0 <= nj < maze_size and maze[ni, nj] == 1:\n",
    "                        next_state = ni * maze_size + nj\n",
    "                        P[state, next_state] = 1\n",
    "                if P[state].sum() > 0:\n",
    "                    P[state] /= P[state].sum()  # Normalize to get probabilities\n",
    "    # Define rewards    \n",
    "    P_check = P.sum(axis=1)\n",
    "    print(\"Row sums (should be 1.0 for valid states):\", P_check.min(), P_check.max())\n",
    "    R = np.full(num_states, -1.0)\n",
    "    goal_state = num_states - 1\n",
    "    R[goal_state] = 100.0  \n",
    "    return P, R\n",
    "P, R = generate_PR(maze)\n",
    "print(\"Transition matrix P shape:\", P.shape)\n",
    "print(\"Reward vector R:\", R)"
   ]
  },
  {
   "cell_type": "code",
   "execution_count": 5,
   "id": "48594f07",
   "metadata": {},
   "outputs": [
    {
     "name": "stdout",
     "output_type": "stream",
     "text": [
      "↓\n",
      "S . . . . . . # # # . # # . . . \n",
      ". X . . . . . . . # . . . . # . \n",
      ". # # # . . . . . . . # . # . . \n",
      ". . # # # # . # . . . . . . # . \n",
      ". . . # . # # . . # . . . . . . \n",
      "# # . . . . # # # . . # # . # . \n",
      ". . . . . # . . # . . # . . . . \n",
      "# # # # # . # . # # . . . . # . \n",
      ". . . . . . # . . # . # # . . . \n",
      ". . # . . . # . . . # . # # . . \n",
      ". # # . . # . . . . # . . . # . \n",
      "# . # . . . # # . # # . . . . . \n",
      "# # . . # # # # # . . # # . . . \n",
      ". . . # # . # . . # # # # . . . \n",
      ". . # . # # # . . . . # . . # . \n",
      "# # # . . # . # # # . . # . . E → \n",
      "\n",
      "   0.0    0.3    0.0    0.0    0.0    0.0    0.0    0.0    0.0    0.0    0.0    0.0    0.0    0.0    0.0    0.0\n",
      "   0.3    0.0    0.3    0.0    0.0    0.0    0.0    0.0    0.0    0.0    0.0    0.0    0.0    0.0    0.0    0.0\n",
      "   0.0    0.0    0.0    0.0    0.0    0.0    0.0    0.0    0.0    0.0    0.0    0.0    0.0    0.0    0.0    0.0\n",
      "   0.0    0.0    0.0    0.0    0.0    0.0    0.0    0.0    0.0    0.0    0.0    0.0    0.0    0.0    0.0    0.0\n",
      "   0.0    0.0    0.0    0.0    0.0    0.0    0.0    0.0    0.0    0.0    0.0    0.0    0.0    0.0    0.0    0.0\n",
      "   0.0    0.0    0.0    0.0    0.0    0.0    0.0    0.0    0.0    0.0    0.0    0.0    0.0    0.0    0.0    0.0\n",
      "   0.0    0.0    0.0    0.0    0.0    0.0    0.0    0.0    0.0    0.0    0.0    0.0    0.0    0.0    0.0    0.0\n",
      "   0.0    0.0    0.0    0.0    0.0    0.0    0.0    0.0    0.0    0.0    0.0    0.0    0.0    0.0    0.0    0.0\n",
      "   0.0    0.0    0.0    0.0    0.0    0.0    0.0    0.0    0.0    0.0    0.0    0.0    0.0    0.0    0.0    0.0\n",
      "   0.0    0.0    0.0    0.0    0.0    0.0    0.0    0.0    0.0    0.0    0.0    0.0    0.0    0.0    0.0    0.0\n",
      "   0.0    0.0    0.0    0.0    0.0    0.0    0.0    0.0    0.0    0.0    0.0    0.0    0.0    0.0    0.0    0.0\n",
      "   0.0    0.0    0.0    0.0    0.0    0.0    0.0    0.0    0.0    0.0    0.0    0.0    0.0    0.0    0.0    0.0\n",
      "   0.0    0.0    0.0    0.0    0.0    0.0    0.0    0.0    0.0    0.0    0.0    0.0    0.0    0.0    0.0    0.0\n",
      "   0.0    0.0    0.0    0.0    0.0    0.0    0.0    0.0    0.0    0.0    0.0    0.0    0.0    0.0    0.0    0.0\n",
      "   0.0    0.0    0.0    0.0    0.0    0.0    0.0    0.0    0.0    0.0    0.0    0.0    0.0    0.0    0.0    0.0\n",
      "   0.0    0.0    0.0    0.0    0.0    0.0    0.0    0.0    0.0    0.0    0.0    0.0    0.0    0.0    0.0    0.0\n",
      "\n"
     ]
    }
   ],
   "source": [
    "highlight = 17\n",
    "print_maze(maze,highlight=highlight)\n",
    "print_np_array(P[highlight].reshape(maze.shape))"
   ]
  },
  {
   "cell_type": "markdown",
   "id": "b201f245",
   "metadata": {},
   "source": [
    "## Value Iteration and Extract Policy"
   ]
  },
  {
   "cell_type": "code",
   "execution_count": 9,
   "id": "f73452e4",
   "metadata": {},
   "outputs": [],
   "source": [
    "def value_iteration(P, R, gamma=0.9, theta=1e-6):\n",
    "    num_states = P.shape[0]\n",
    "    V = np.zeros(num_states)\n",
    "    while True:\n",
    "        delta = 0\n",
    "        V_new = R + gamma * P.dot(V)   # Bellman update\n",
    "        delta = np.max(np.abs(V_new - V))\n",
    "        V = V_new\n",
    "        if delta < theta:\n",
    "            break\n",
    "    return V\n",
    "V = value_iteration(P, R)\n"
   ]
  },
  {
   "cell_type": "code",
   "execution_count": 10,
   "id": "67156684",
   "metadata": {},
   "outputs": [
    {
     "name": "stdout",
     "output_type": "stream",
     "text": [
      " -10.0  -10.0  -10.0  -10.0  -10.0  -10.0  -10.0   -1.0   -1.0   -1.0  -10.0   -1.0   -1.0  -10.0  -10.0  -10.0\n",
      " -10.0  -10.0  -10.0  -10.0  -10.0  -10.0  -10.0  -10.0  -10.0   -1.0  -10.0  -10.0  -10.0  -10.0   -1.0  -10.0\n",
      " -10.0   -1.0   -1.0   -1.0  -10.0  -10.0  -10.0  -10.0  -10.0  -10.0  -10.0   -1.0  -10.0   -1.0  -10.0  -10.0\n",
      " -10.0  -10.0   -1.0   -1.0   -1.0   -1.0  -10.0   -1.0  -10.0  -10.0  -10.0  -10.0  -10.0  -10.0   -1.0   -9.9\n",
      " -10.0  -10.0  -10.0   -1.0  -10.0   -1.0   -1.0  -10.0  -10.0   -1.0  -10.0  -10.0  -10.0   -9.9   -9.9   -9.9\n",
      "  -1.0   -1.0  -10.0  -10.0  -10.0  -10.0   -1.0   -1.0   -1.0  -10.0  -10.0   -1.0   -1.0   -9.9   -1.0   -9.7\n",
      " -10.0  -10.0  -10.0  -10.0  -10.0   -1.0  -10.0  -10.0   -1.0  -10.0  -10.0   -1.0   -9.8   -9.8   -9.7   -9.5\n",
      "  -1.0   -1.0   -1.0   -1.0   -1.0  -10.0   -1.0  -10.0   -1.0   -1.0   -9.9   -9.9   -9.8   -9.6   -1.0   -8.9\n",
      " -10.0  -10.0  -10.0  -10.0  -10.0  -10.0   -1.0  -10.0  -10.0   -1.0   -9.9   -1.0   -1.0   -9.2   -8.5   -8.2\n",
      " -10.0  -10.0   -1.0  -10.0  -10.0  -10.0   -1.0  -10.0  -10.0  -10.0   -1.0   -7.0   -1.0   -1.0   -7.7   -6.4\n",
      " -10.0   -1.0   -1.0  -10.0  -10.0   -1.0  -10.0  -10.0  -10.0  -10.0   -1.0   -6.6   -5.6   -4.0   -1.0   -2.2\n",
      "  -1.0   -1.0   -1.0  -10.0  -10.0  -10.0   -1.0   -1.0  -10.0   -1.0   -1.0   -6.1   -4.8   -1.0    2.5    3.8\n",
      "  -1.0   -1.0  -10.0  -10.0   -1.0   -1.0   -1.0   -1.0   -1.0  -10.0  -10.0   -1.0   -1.0    6.4    8.9   15.6\n",
      " -10.0  -10.0  -10.0   -1.0   -1.0   -1.0   -1.0  -10.0  -10.0   -1.0   -1.0   -1.0   -1.0   16.8   19.5   42.6\n",
      " -10.0  -10.0   -1.0  -10.0   -1.0   -1.0   -1.0  -10.0  -10.0  -10.0  -10.0   -1.0   29.1   33.5   -1.0  110.2\n",
      "  -1.0   -1.0   -1.0  -10.0  -10.0   -1.0   -1.0   -1.0   -1.0   -1.0  -10.0  -10.0   -1.0   69.0  122.1  204.5\n",
      "\n"
     ]
    }
   ],
   "source": [
    "\n",
    "maze_size = maze.shape[0]\n",
    "V = V.reshape((maze_size, maze_size))\n",
    "print_np_array(V)\n",
    "V = V.flatten()\n"
   ]
  },
  {
   "cell_type": "code",
   "execution_count": 11,
   "id": "523ba708",
   "metadata": {},
   "outputs": [
    {
     "name": "stdout",
     "output_type": "stream",
     "text": [
      "[  1   2   3   4   5   6  22   7   8   9  26  11  12  14  15  31  17  18\n",
      "  19  20  21  22  23  24  40  25  27  28  44  13  30  47  16  33  34  35\n",
      "  37  38  39  40  41  42  58  43  60  45  47  63  32  48  50  51  52  53\n",
      "  38  55  57  58  59  60  61  77  62  79  48  49  65  67  84  69  70  72\n",
      "  56  73  90  76  77  93  79  95  80  81  66  82  83  84  86  87  88 105\n",
      " 106  91  92 109  94 111  97  98  82  98  99 101 103 102 104 106 122 107\n",
      " 109 125 111 127 112 113 114 115 116 133 118 135 120 121 123 124 125 141\n",
      " 126 143 129 128 129 130 131 117 134 119 135 137 122 139 140 142 158 159\n",
      " 128 129 146 131 132 133 150 135 136 152 154 171 156 157 159 175 144 161\n",
      " 162 147 148 165 167 151 167 153 170 172 173 189 174 191 176 177 178 163\n",
      " 164 180 182 183 168 185 186 188 189 205 206 207 192 193 195 179 196 197\n",
      " 198 199 200 202 201 203 204 221 222 223 209 208 194 211 212 213 214 216\n",
      " 215 217 218 219 220 237 223 239 208 209 226 243 228 229 230 215 216 232\n",
      " 233 235 237 253 238 255 240 241 242 227 243 245 246 247 248 249 234 250\n",
      " 252 254 255 254]\n"
     ]
    }
   ],
   "source": [
    "def policy_extraction(P, V, gamma=0.9):\n",
    "    num_states = P.shape[0]\n",
    "    policy = np.zeros(num_states, dtype=int)\n",
    "    for s in range(num_states):\n",
    "        # Possible next states = indices with non-zero transition prob from s\n",
    "        next_states = np.flatnonzero(P[s])\n",
    "\n",
    "        if next_states.size == 0:\n",
    "            # No outgoing edges: stay put\n",
    "            policy[s] = s\n",
    "        else:\n",
    "            # Greedy one-step choice: pick neighbor with highest V\n",
    "            best_next = next_states[np.argmax(V[next_states])]\n",
    "            policy[s] = best_next\n",
    "    return policy\n",
    "\n",
    "policy = policy_extraction(P, V)\n",
    "print(policy)\n"
   ]
  },
  {
   "cell_type": "code",
   "execution_count": 12,
   "id": "913d6f19",
   "metadata": {},
   "outputs": [
    {
     "name": "stdout",
     "output_type": "stream",
     "text": [
      "↓\n",
      "S . . . . . . # # # . # # . . . \n",
      ". . . . . . . . . # . . . . # . \n",
      ". # # # . . . . . . . # . # . . \n",
      ". . # # # # . # . . . . . . # . \n",
      ". . . # . # # . . # . . . . . . \n",
      "# # . . . . # # # . . # # . # . \n",
      ". . . . . # . . # . . # . . . . \n",
      "# # # # # . # . # # . . . . # . \n",
      ". . . . . . # . . # . # # . . . \n",
      ". . # . . . # . . . # . # # . . \n",
      ". # # . . # . . . . # . . . # . \n",
      "# . # . . . # # . # # . . . . . \n",
      "# # . . # # # # # . . # # . . . \n",
      ". . . # # . # . . # # # # . . . \n",
      ". . # . # # # . . . . # . . # . \n",
      "# # # . . # . # # # . . # . . E → \n",
      "\n",
      "↓\n",
      "S * * * * * * # # # . # # . . . \n",
      ". . . . . . * * * # . . . . # . \n",
      ". # # # . . . . * * * # . # . . \n",
      ". . # # # # . # . . * * * * # . \n",
      ". . . # . # # . . # . . . * . . \n",
      "# # . . . . # # # . . # # * # . \n",
      ". . . . . # . . # . . # . * . . \n",
      "# # # # # . # . # # . . . * # . \n",
      ". . . . . . # . . # . # # * * . \n",
      ". . # . . . # . . . # . # # * * \n",
      ". # # . . # . . . . # . . . # * \n",
      "# . # . . . # # . # # . . . . * \n",
      "# # . . # # # # # . . # # . . * \n",
      ". . . # # . # . . # # # # . . * \n",
      ". . # . # # # . . . . # . . # * \n",
      "# # # . . # . # # # . . # . . E → \n",
      "\n"
     ]
    }
   ],
   "source": [
    "def map_state_to_coord(state, maze_size):\n",
    "    return (state // maze_size, state % maze_size)\n",
    "\n",
    "def extract_path(maze, policy):\n",
    "    maze_size = maze.shape[0]\n",
    "    start = 0\n",
    "    goal = len(policy) - 1\n",
    "\n",
    "    path = [map_state_to_coord(start, maze_size)]\n",
    "    state = start\n",
    "    visited = {start}\n",
    "    safety_cap = len(policy) + 5  # prevent infinite loops\n",
    "\n",
    "    while state != goal and safety_cap > 0:\n",
    "        nxt = policy[state]\n",
    "        # stop if stuck (self-loop) or cycling\n",
    "        if nxt == state or nxt in visited:\n",
    "            break\n",
    "        state = nxt\n",
    "        visited.add(state)\n",
    "        path.append(map_state_to_coord(state, maze_size))\n",
    "        safety_cap -= 1\n",
    "\n",
    "    return path\n",
    "\n",
    "path = extract_path(maze, policy)\n",
    "output_maze = maze.copy()\n",
    "for (x, y) in path:\n",
    "    output_maze[x, y] = 0.5  # Mark the path\n",
    "print_maze(maze)\n",
    "print_maze(output_maze)"
   ]
  },
  {
   "cell_type": "code",
   "execution_count": null,
   "id": "dfb8e7d3-4fe9-4aa3-a195-40550729c897",
   "metadata": {},
   "outputs": [],
   "source": []
  }
 ],
 "metadata": {
  "kernelspec": {
   "display_name": "Python 3 (ipykernel)",
   "language": "python",
   "name": "python3"
  },
  "language_info": {
   "codemirror_mode": {
    "name": "ipython",
    "version": 3
   },
   "file_extension": ".py",
   "mimetype": "text/x-python",
   "name": "python",
   "nbconvert_exporter": "python",
   "pygments_lexer": "ipython3",
   "version": "3.12.11"
  }
 },
 "nbformat": 4,
 "nbformat_minor": 5
}
