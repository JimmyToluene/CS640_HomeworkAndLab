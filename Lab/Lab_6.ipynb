{
 "cells": [
  {
   "cell_type": "markdown",
   "metadata": {
    "id": "j9PamOLZsYzm"
   },
   "source": [
    "# Lab 6\n",
    "\n",
    "This assignment can be divided into three parts, and each part contains some coding tasks:\n",
    "1. Hidden Markov Model\n",
    "    - Complete a model\n",
    "    - Implement the **Forward Procedure**, **Backward Procedure**\n",
    "\n",
    "Do **not** include any extra outputs in your final answer. If you use print() function for debugging, please run your code without them again before submitting."
   ]
  },
  {
   "cell_type": "markdown",
   "metadata": {
    "id": "KhZkRDrRuJ4r"
   },
   "source": [
    "## Q1: Hidden Markov Model\n",
    "\n",
    "In this problem, you need to first complete a model by filling some missing values according to the existing ones, and then implement and run **Forward Procedure**, **Backward Procedure**, and the **Viterbi Algorithm**."
   ]
  },
  {
   "cell_type": "markdown",
   "metadata": {
    "id": "N8OtTfM1_7_W"
   },
   "source": [
    "### Problem Setup\n",
    "\n",
    "Consider an HMM with the following properties (unknown values are marked with \"?\").\n",
    "\n",
    "States: $S = \\{S_{1}, S_{2}, S_{3}, S_{4}\\}$\n",
    "\n",
    "Initial state probability distribution: $\\pi = \\{\\pi_{1} = 0.3, \\pi_{2} = 0.1, \\pi_{3} = ?, \\pi_{4} = 0.5\\}$\n",
    "\n",
    "Transition probability matrix A, where each entry $a_{ij}$ is the probability of moving from state $S_{i}$ to state $S_{j}$:\n",
    "\n",
    "$$\\begin{bmatrix}\n",
    "? & 0.5 & 0.4 & 0\\\\\n",
    "? & 0.3 & 0.4 & 0.1\\\\\n",
    "? & 0.1 & 0.2 & 0.7 \\\\\n",
    "? & 0.2 & 0.2 & 0.2\n",
    "\\end{bmatrix}$$\n",
    "\n",
    "Symbols probability matrix $B$, where each entry $b_{jk} = b_{j}(k) = P[V_{k} \\; | \\; S_{j}]$ is the probability of yielding $V_{k}$ in state $S_{j}$:\n",
    "\n",
    "$$\\begin{bmatrix}\n",
    "0.5 & 0.4 & ? \\\\\n",
    "? & 0.3 & 0.1 \\\\\n",
    "0.8 & ? & 0.1 \\\\\n",
    "? & 0.3 & 0.7\n",
    "\\end{bmatrix}$$\n",
    "\n",
    "Let $\\lambda = (A, B, \\pi)$.\n",
    "\n",
    "Suppose we observe a sequence $O = V_{1}V_{3}V_{2}V_{1}$."
   ]
  },
  {
   "cell_type": "markdown",
   "metadata": {
    "id": "OyRdHZQY1joS"
   },
   "source": [
    "### Q1.1\n",
    "\n",
    "Complete the model by filling the unknown values in the following code block and run the cell. Make sure the outputs are all **True**.\n",
    "\n"
   ]
  },
  {
   "cell_type": "code",
   "metadata": {
    "id": "f_DnIjNs3uIs",
    "ExecuteTime": {
     "end_time": "2025-10-13T00:02:35.100769Z",
     "start_time": "2025-10-13T00:02:35.031156Z"
    }
   },
   "source": [
    "import numpy as np\n",
    "\n",
    "M = 3 # vocabulary size\n",
    "N = 4 # state number\n",
    "V = [None, 0, 1, 2] # one-based, V[0] = None to align the indices\n",
    "x = np.nan\n",
    "# fill in the blank values for the following three arrays\n",
    "pi = np.array([0.3, 0.1, 0.1, 0.5])\n",
    "A = np.array([[0.1, 0.5, 0.4, 0], [0.2, 0.3, 0.4, 0.1], [0, 0.1, 0.2, 0.7], [0.4, 0.2, 0.2, 0.2]])\n",
    "B = np.array([[0.5, 0.4,0.1 ], [0.6, 0.3, 0.1], [0.8,0.1 , 0.1], [0, 0.3, 0.7]])\n",
    "\n",
    "O = [V[1], V[3], V[2], V[1]]\n",
    "\n",
    "print(\"Sum of pi is one? \" + str(np.linalg.norm(pi.sum() - 1) < 1e-9))\n",
    "print(\"Sum of each row of A is one? \" + str(np.linalg.norm(A.sum(axis = 1) - 1) < 1e-9))\n",
    "print(\"Sum of each row of B is one? \" + str(np.linalg.norm(B.sum(axis = 1) - 1) < 1e-9))"
   ],
   "outputs": [
    {
     "name": "stdout",
     "output_type": "stream",
     "text": [
      "Sum of pi is one? True\n",
      "Sum of each row of A is one? True\n",
      "Sum of each row of B is one? True\n"
     ]
    }
   ],
   "execution_count": 2
  },
  {
   "cell_type": "markdown",
   "metadata": {
    "id": "1554Lh6bBRvs"
   },
   "source": [
    "### **Forward Procedure**"
   ]
  },
  {
   "cell_type": "code",
   "metadata": {
    "id": "FTmDSQfL3qQJ",
    "ExecuteTime": {
     "end_time": "2025-10-13T00:02:36.812279Z",
     "start_time": "2025-10-13T00:02:36.807986Z"
    }
   },
   "source": [
    "T = len(O)\n",
    "alpha = np.zeros((T, N))\n",
    "\n",
    "# initialization\n",
    "for i in range(N): # complete this loop\n",
    "    ################### start of your code ###################\n",
    "    alpha[0] = pi * B[:,O[0]]\n",
    "    #################### end of your code ####################\n",
    "\n",
    "# inductive steps\n",
    "for t in range(1, T): # complete this loop\n",
    "    ################### start of your code ###################\n",
    "    alpha[t] = (alpha[t-1] @ A) * B[:,O[t]]\n",
    "    #################### end of your code ####################\n",
    "print(\"alpha values:\")\n",
    "print(alpha)\n",
    "print()\n",
    "\n",
    "# final answer\n",
    "################### start of your code ###################\n",
    "answer =  alpha[-1].sum() # this variable should store your final answer\n",
    "#################### end of your code ####################\n",
    "print(\"P(O | lambda) = \" + str(answer))"
   ],
   "outputs": [
    {
     "name": "stdout",
     "output_type": "stream",
     "text": [
      "alpha values:\n",
      "[[0.15       0.06       0.08       0.        ]\n",
      " [0.0027     0.0101     0.01       0.0434    ]\n",
      " [0.00786    0.004218   0.00158    0.005007  ]\n",
      " [0.0018162  0.00381288 0.00491888 0.        ]]\n",
      "\n",
      "P(O | lambda) = 0.010547960000000002\n"
     ]
    }
   ],
   "execution_count": 3
  },
  {
   "cell_type": "markdown",
   "metadata": {
    "id": "lJ3Zo1buAywC"
   },
   "source": [
    "### **Backward Procedure**"
   ]
  },
  {
   "cell_type": "code",
   "metadata": {
    "id": "WQSZrXPyBh-i",
    "ExecuteTime": {
     "end_time": "2025-10-13T00:03:32.180146Z",
     "start_time": "2025-10-13T00:03:32.173901Z"
    }
   },
   "source": [
    "T = len(O)\n",
    "beta = np.zeros((T, N))\n",
    "\n",
    "# initialization\n",
    "for i in range(N): # complete this loop\n",
    "    ################### start of your code ###################\n",
    "    beta[-1] = 1\n",
    "    #################### end of your code ####################\n",
    "\n",
    "# inductive steps\n",
    "for t in range(T - 2, -1, -1): # complete this loop\n",
    "    ################### start of your code ###################\n",
    "    beta[t] = (A * (B[:,O[t+1]]*beta[t+1])[None,:]).sum(axis = 1)\n",
    "    #################### end of your code ####################\n",
    "print(\"beta values:\")\n",
    "print(beta)\n",
    "print()\n",
    "\n",
    "# final answer\n",
    "# complete this part\n",
    "################### start of your code ###################\n",
    "answer = (pi * B[:,O[0]] * beta[0]).sum()# this variable should store your final answer\n",
    "\n",
    "answer_alter = 0\n",
    "for i in range(N):\n",
    "    answer_alter += pi[i] * B[i,O[0]] * beta[0,i]\n",
    "#################### end of your code ####################\n",
    "print(\"P(O | lambda) = \" + str(answer))\n",
    "print(\"P(O | lambda) = \" + str(answer_alter))"
   ],
   "outputs": [
    {
     "name": "stdout",
     "output_type": "stream",
     "text": [
      "beta values:\n",
      "[[0.012724 0.023712 0.090208 0.0348  ]\n",
      " [0.1256   0.1308   0.1232   0.1764  ]\n",
      " [0.67     0.6      0.22     0.48    ]\n",
      " [1.       1.       1.       1.      ]]\n",
      "\n",
      "P(O | lambda) = 0.01054796\n",
      "P(O | lambda) = 0.01054796\n"
     ]
    }
   ],
   "execution_count": 5
  }
 ],
 "metadata": {
  "colab": {
   "provenance": []
  },
  "kernelspec": {
   "display_name": "pose",
   "language": "python",
   "name": "python3"
  },
  "language_info": {
   "codemirror_mode": {
    "name": "ipython",
    "version": 3
   },
   "file_extension": ".py",
   "mimetype": "text/x-python",
   "name": "python",
   "nbconvert_exporter": "python",
   "pygments_lexer": "ipython3",
   "version": "3.10.13"
  }
 },
 "nbformat": 4,
 "nbformat_minor": 0
}
