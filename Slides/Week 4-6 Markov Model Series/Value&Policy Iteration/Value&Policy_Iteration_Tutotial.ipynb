{
 "cells": [
  {
   "metadata": {
    "ExecuteTime": {
     "end_time": "2025-10-13T18:37:23.628144Z",
     "start_time": "2025-10-13T18:37:23.626270Z"
    }
   },
   "cell_type": "code",
   "source": [
    "import numpy as np\n",
    "\n",
    "P = np.array([[0.1, 0.9]\n",
    "            , [0.8, 0.2]])"
   ],
   "id": "cead3bed1f220f0a",
   "outputs": [],
   "execution_count": 2
  },
  {
   "metadata": {},
   "cell_type": "markdown",
   "source": "### $P^K$ and Stationary(Steady State) distribution\n",
   "id": "f28c578c0efed005"
  },
  {
   "metadata": {
    "ExecuteTime": {
     "end_time": "2025-10-10T01:37:04.858797Z",
     "start_time": "2025-10-10T01:37:04.854883Z"
    }
   },
   "cell_type": "code",
   "outputs": [
    {
     "name": "stdout",
     "output_type": "stream",
     "text": [
      "[[0.47059408 0.52940592]\n",
      " [0.47058304 0.52941696]]\n"
     ]
    }
   ],
   "execution_count": 4,
   "source": [
    "epsilon = 0.00001\n",
    "while(1):\n",
    "    pai = P @ P\n",
    "    if np.all(np.abs(pai - P) < epsilon):\n",
    "        break\n",
    "    P = pai\n",
    "\n",
    "print(P)\n"
   ],
   "id": "9434aa96a3b32482"
  },
  {
   "metadata": {},
   "cell_type": "markdown",
   "source": [
    "### Linear equation\n",
    "\n",
    "$V = R + \\lambda*P*V$\n",
    "\n",
    "$(1-\\lambda)*V = R$\n",
    "\n",
    "Finally we got: $V = (1-\\lambda)^-1 * R $\n",
    "\n",
    "\n"
   ],
   "id": "afad2e53c74983b3"
  },
  {
   "metadata": {
    "ExecuteTime": {
     "end_time": "2025-10-10T01:49:14.749082Z",
     "start_time": "2025-10-10T01:49:14.744317Z"
    }
   },
   "cell_type": "code",
   "source": [
    "gamma = 0.9\n",
    "P = np.array([\n",
    "    [0.7,0.3],\n",
    "    [0.9,0.1]\n",
    "])\n",
    "R = np.array([1,-1])\n",
    "R = R.reshape(2,1)\n",
    "\n",
    "\n",
    "# Bellman equation to solve this\n",
    "I = np.eye(P.shape[0])\n",
    "v = np.linalg.inv(I - gamma*P) @ R\n",
    "print(v)\n"
   ],
   "id": "8cd87c6b5999a62e",
   "outputs": [
    {
     "name": "stdout",
     "output_type": "stream",
     "text": [
      "[[5.42372881]\n",
      " [3.72881356]]\n"
     ]
    }
   ],
   "execution_count": 15
  },
  {
   "metadata": {},
   "cell_type": "markdown",
   "source": [
    "### Value Iteration for sovling V*\n",
    "\n",
    "1. Set $v_0 = [0, \\ldots, 0]$\n",
    "2. For $i = 0, 1, 2, \\ldots$\n",
    "\n",
    "   - For all states $s$, update"
   ],
   "id": "3195864863582dac"
  },
  {
   "metadata": {
    "ExecuteTime": {
     "end_time": "2025-10-10T01:49:16.681837Z",
     "start_time": "2025-10-10T01:49:16.677183Z"
    }
   },
   "cell_type": "code",
   "source": [
    "iterations = 10000\n",
    "epsilon = 0.00001\n",
    "v = np.zeros(2).reshape(2,1)\n",
    "\n",
    "\n",
    "# Value iteration for find v*\n",
    "for i in range(iterations):\n",
    "    v_old = v.copy()\n",
    "    v = R + gamma*np.dot(P,v_old)\n",
    "    if np.all(np.abs(v - v_old) < epsilon):\n",
    "        break\n",
    "print(v)"
   ],
   "id": "6bfc97d067b5ecee",
   "outputs": [
    {
     "name": "stdout",
     "output_type": "stream",
     "text": [
      "[[5.42364168]\n",
      " [3.72872642]]\n"
     ]
    }
   ],
   "execution_count": 16
  },
  {
   "metadata": {
    "ExecuteTime": {
     "end_time": "2025-10-12T15:05:51.180077Z",
     "start_time": "2025-10-12T15:05:51.176771Z"
    }
   },
   "cell_type": "code",
   "source": [
    "def print_state(s):\n",
    "    assert 0 <= s <= 9\n",
    "\n",
    "    print(\"STATE\", s)\n",
    "\n",
    "    if s < 9:\n",
    "        # normal state indicating y, x coordinates\n",
    "        output = ['🪨' for _ in range(9)]\n",
    "        output[4] = '🐟'\n",
    "        output[s] = '🐱'\n",
    "        for i in range(0, 9, 3):\n",
    "            print(''.join(output[i:i+3]))\n",
    "    else:\n",
    "        print(\"DONE\")\n",
    "\n",
    "    print(\"\")"
   ],
   "id": "81008f88f7192356",
   "outputs": [],
   "execution_count": 8
  },
  {
   "metadata": {},
   "cell_type": "markdown",
   "source": "## Value iteration for soving MDP",
   "id": "e1318796a6c185bf"
  },
  {
   "metadata": {
    "ExecuteTime": {
     "end_time": "2025-10-13T19:54:28.741913Z",
     "start_time": "2025-10-13T19:54:28.729114Z"
    }
   },
   "cell_type": "code",
   "source": [
    "import numpy as np\n",
    "\n",
    "P = np.array([\n",
    "    [[0.5,0.5],\n",
    "    [1,  0]]\n",
    "    ,[[0,1],\n",
    "    [0,1]\n",
    "    ]\n",
    "])\n",
    "R = np.array([[5,-1],[10,2]]).T\n",
    "v = np.zeros(2).reshape(2,1)\n",
    "\n",
    "epsilon = 0.0001\n",
    "iterations = 10000\n",
    "gamma = 0.9\n",
    "\n",
    "for i in range(iterations):\n",
    "    new_v = v.copy()\n",
    "    print(new_v)\n",
    "    for a in range(0,2):\n",
    "        for s in range (2):\n",
    "            v[s] = R[s,a] + gamma*(P[a,s,s] @ v[s])\n",
    "            print(f\"v(i={i},a={a}):\",v)\n",
    "    # v = expected_return\n",
    "    if np.all(np.abs(new_v - v) < epsilon):\n",
    "        break\n"
   ],
   "id": "b3719e2c717af104",
   "outputs": [
    {
     "name": "stdout",
     "output_type": "stream",
     "text": [
      "[[0.]\n",
      " [0.]]\n"
     ]
    },
    {
     "ename": "ValueError",
     "evalue": "matmul: Input operand 0 does not have enough dimensions (has 0, gufunc core with signature (n?,k),(k,m?)->(n?,m?) requires 1)",
     "output_type": "error",
     "traceback": [
      "\u001B[0;31m---------------------------------------------------------------------------\u001B[0m",
      "\u001B[0;31mValueError\u001B[0m                                Traceback (most recent call last)",
      "Cell \u001B[0;32mIn[11], line 22\u001B[0m\n\u001B[1;32m     20\u001B[0m \u001B[38;5;28;01mfor\u001B[39;00m a \u001B[38;5;129;01min\u001B[39;00m \u001B[38;5;28mrange\u001B[39m(\u001B[38;5;241m0\u001B[39m,\u001B[38;5;241m2\u001B[39m):\n\u001B[1;32m     21\u001B[0m     \u001B[38;5;28;01mfor\u001B[39;00m s \u001B[38;5;129;01min\u001B[39;00m \u001B[38;5;28mrange\u001B[39m (\u001B[38;5;241m2\u001B[39m):\n\u001B[0;32m---> 22\u001B[0m         v[s] \u001B[38;5;241m=\u001B[39m R[s,a] \u001B[38;5;241m+\u001B[39m gamma\u001B[38;5;241m*\u001B[39m(\u001B[43mP\u001B[49m\u001B[43m[\u001B[49m\u001B[43ma\u001B[49m\u001B[43m,\u001B[49m\u001B[43ms\u001B[49m\u001B[43m,\u001B[49m\u001B[43ms\u001B[49m\u001B[43m]\u001B[49m\u001B[43m \u001B[49m\u001B[38;5;241;43m@\u001B[39;49m\u001B[43m \u001B[49m\u001B[43mv\u001B[49m\u001B[43m[\u001B[49m\u001B[43ms\u001B[49m\u001B[43m]\u001B[49m)\n\u001B[1;32m     23\u001B[0m         \u001B[38;5;28mprint\u001B[39m(\u001B[38;5;124mf\u001B[39m\u001B[38;5;124m\"\u001B[39m\u001B[38;5;124mv(i=\u001B[39m\u001B[38;5;132;01m{\u001B[39;00mi\u001B[38;5;132;01m}\u001B[39;00m\u001B[38;5;124m,a=\u001B[39m\u001B[38;5;132;01m{\u001B[39;00ma\u001B[38;5;132;01m}\u001B[39;00m\u001B[38;5;124m):\u001B[39m\u001B[38;5;124m\"\u001B[39m,v)\n\u001B[1;32m     24\u001B[0m \u001B[38;5;66;03m# v = expected_return\u001B[39;00m\n",
      "\u001B[0;31mValueError\u001B[0m: matmul: Input operand 0 does not have enough dimensions (has 0, gufunc core with signature (n?,k),(k,m?)->(n?,m?) requires 1)"
     ]
    }
   ],
   "execution_count": 11
  },
  {
   "metadata": {},
   "cell_type": "code",
   "outputs": [],
   "execution_count": null,
   "source": "",
   "id": "d6837cbb45d943b1"
  }
 ],
 "metadata": {
  "kernelspec": {
   "display_name": "Python 3",
   "language": "python",
   "name": "python3"
  },
  "language_info": {
   "codemirror_mode": {
    "name": "ipython",
    "version": 2
   },
   "file_extension": ".py",
   "mimetype": "text/x-python",
   "name": "python",
   "nbconvert_exporter": "python",
   "pygments_lexer": "ipython2",
   "version": "2.7.6"
  }
 },
 "nbformat": 4,
 "nbformat_minor": 5
}
