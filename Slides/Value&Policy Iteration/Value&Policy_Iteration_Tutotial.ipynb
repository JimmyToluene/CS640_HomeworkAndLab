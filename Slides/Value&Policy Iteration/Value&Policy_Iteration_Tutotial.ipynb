{
 "cells": [
  {
   "metadata": {},
   "cell_type": "code",
   "outputs": [],
   "execution_count": null,
   "source": [
    "import numpy as np\n",
    "\n",
    "P = np.array([[0.1, 0.9]\n",
    "            , [0.8, 0.2]])"
   ],
   "id": "cead3bed1f220f0a"
  },
  {
   "metadata": {},
   "cell_type": "markdown",
   "source": "### $P^K$ and Stationary(Steady State) distribution\n",
   "id": "f28c578c0efed005"
  },
  {
   "metadata": {
    "ExecuteTime": {
     "end_time": "2025-10-10T01:37:04.858797Z",
     "start_time": "2025-10-10T01:37:04.854883Z"
    }
   },
   "cell_type": "code",
   "outputs": [
    {
     "name": "stdout",
     "output_type": "stream",
     "text": [
      "[[0.47059408 0.52940592]\n",
      " [0.47058304 0.52941696]]\n"
     ]
    }
   ],
   "execution_count": 4,
   "source": [
    "epsilon = 0.00001\n",
    "while(1):\n",
    "    pai = P @ P\n",
    "    if np.all(np.abs(pai - P) < epsilon):\n",
    "        break\n",
    "    P = pai\n",
    "\n",
    "print(P)\n"
   ],
   "id": "9434aa96a3b32482"
  },
  {
   "metadata": {},
   "cell_type": "markdown",
   "source": [
    "### Linear equation\n",
    "\n",
    "$V = R + \\lambda*P*V$\n",
    "\n",
    "$(1-\\lambda)*V = R$\n",
    "\n",
    "Finally we got: $V = (1-\\lambda)^-1 * R $\n",
    "\n",
    "\n"
   ],
   "id": "afad2e53c74983b3"
  },
  {
   "metadata": {
    "ExecuteTime": {
     "end_time": "2025-10-10T01:49:14.749082Z",
     "start_time": "2025-10-10T01:49:14.744317Z"
    }
   },
   "cell_type": "code",
   "source": [
    "gamma = 0.9\n",
    "P = np.array([\n",
    "    [0.7,0.3],\n",
    "    [0.9,0.1]\n",
    "])\n",
    "R = np.array([1,-1])\n",
    "R = R.reshape(2,1)\n",
    "\n",
    "\n",
    "# Bellman equation to solve this\n",
    "I = np.eye(P.shape[0])\n",
    "v = np.linalg.inv(I - gamma*P) @ R\n",
    "print(v)\n"
   ],
   "id": "8cd87c6b5999a62e",
   "outputs": [
    {
     "name": "stdout",
     "output_type": "stream",
     "text": [
      "[[5.42372881]\n",
      " [3.72881356]]\n"
     ]
    }
   ],
   "execution_count": 15
  },
  {
   "metadata": {},
   "cell_type": "markdown",
   "source": [
    "### Value Iteration for sovling V*\n",
    "\n",
    "1. Set $v_0 = [0, \\ldots, 0]$\n",
    "2. For $i = 0, 1, 2, \\ldots$\n",
    "\n",
    "   - For all states $s$, update"
   ],
   "id": "3195864863582dac"
  },
  {
   "metadata": {
    "ExecuteTime": {
     "end_time": "2025-10-10T01:49:16.681837Z",
     "start_time": "2025-10-10T01:49:16.677183Z"
    }
   },
   "cell_type": "code",
   "source": [
    "iterations = 10000\n",
    "epsilon = 0.00001\n",
    "v = np.zeros(2).reshape(2,1)\n",
    "\n",
    "\n",
    "# Value iteration for find v*\n",
    "for i in range(iterations):\n",
    "    v_old = v.copy()\n",
    "    v = R + gamma*np.dot(P,v_old)\n",
    "    if np.all(np.abs(v - v_old) < epsilon):\n",
    "        break\n",
    "print(v)"
   ],
   "id": "6bfc97d067b5ecee",
   "outputs": [
    {
     "name": "stdout",
     "output_type": "stream",
     "text": [
      "[[5.42364168]\n",
      " [3.72872642]]\n"
     ]
    }
   ],
   "execution_count": 16
  },
  {
   "metadata": {
    "ExecuteTime": {
     "end_time": "2025-10-10T02:21:29.664062Z",
     "start_time": "2025-10-10T02:21:29.657076Z"
    }
   },
   "cell_type": "code",
   "source": [
    "N = 3\n",
    "S = N*N + 1\n",
    "DONE = 2*N + 3\n",
    "Target = 4\n",
    "P = np.zeros((S,S))\n",
    "for i in range(0,S):\n",
    "    if i == DONE or i == Target:continue\n",
    "    x = i%N\n",
    "    y = i//N\n",
    "    neighbors = []\n",
    "    if x > 0:neighbors.append(i-1)\n",
    "    if x < N-1:neighbors.append(i+1)\n",
    "    if y > 0:neighbors.append(i-N)\n",
    "    if y < N-1:neighbors.append(i+N)\n",
    "    p = 1/len(neighbors)\n",
    "    for j in neighbors:\n",
    "        P[i,j] = p\n",
    "    P[Target,DONE] = 1\n",
    "    P[DONE,DONE] = 1\n",
    "\n",
    "print(P)\n"
   ],
   "id": "b3719e2c717af104",
   "outputs": [
    {
     "name": "stdout",
     "output_type": "stream",
     "text": [
      "[[0.         0.5        0.         0.5        0.         0.\n",
      "  0.         0.         0.         0.        ]\n",
      " [0.33333333 0.         0.33333333 0.         0.33333333 0.\n",
      "  0.         0.         0.         0.        ]\n",
      " [0.         0.5        0.         0.         0.         0.5\n",
      "  0.         0.         0.         0.        ]\n",
      " [0.33333333 0.         0.         0.         0.33333333 0.\n",
      "  0.33333333 0.         0.         0.        ]\n",
      " [0.         0.         0.         0.         0.         0.\n",
      "  0.         0.         0.         1.        ]\n",
      " [0.         0.         0.33333333 0.         0.33333333 0.\n",
      "  0.         0.         0.33333333 0.        ]\n",
      " [0.         0.         0.         0.5        0.         0.\n",
      "  0.         0.5        0.         0.        ]\n",
      " [0.         0.         0.         0.         0.33333333 0.\n",
      "  0.33333333 0.         0.33333333 0.        ]\n",
      " [0.         0.         0.         0.         0.         0.5\n",
      "  0.         0.5        0.         0.        ]\n",
      " [0.         0.         0.         0.         0.         0.\n",
      "  0.         0.         0.         1.        ]]\n"
     ]
    }
   ],
   "execution_count": 24
  },
  {
   "metadata": {},
   "cell_type": "code",
   "outputs": [],
   "execution_count": null,
   "source": "",
   "id": "d6837cbb45d943b1"
  }
 ],
 "metadata": {
  "kernelspec": {
   "display_name": "Python 3",
   "language": "python",
   "name": "python3"
  },
  "language_info": {
   "codemirror_mode": {
    "name": "ipython",
    "version": 2
   },
   "file_extension": ".py",
   "mimetype": "text/x-python",
   "name": "python",
   "nbconvert_exporter": "python",
   "pygments_lexer": "ipython2",
   "version": "2.7.6"
  }
 },
 "nbformat": 4,
 "nbformat_minor": 5
}
